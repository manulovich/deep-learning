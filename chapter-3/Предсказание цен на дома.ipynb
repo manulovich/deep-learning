{
 "cells": [
  {
   "cell_type": "markdown",
   "id": "e4bb65c5-2aea-46b2-bf8b-ce2eed22715f",
   "metadata": {},
   "source": [
    "# Предсказание цен на дома"
   ]
  },
  {
   "cell_type": "markdown",
   "id": "7ee9d326-f8da-4cc4-9a1b-1a914b00b949",
   "metadata": {},
   "source": [
    "## Библиотеки"
   ]
  },
  {
   "cell_type": "code",
   "execution_count": 1,
   "id": "e830f41b-5568-4304-93ee-76f0dd75f462",
   "metadata": {},
   "outputs": [],
   "source": [
    "import math\n",
    "import keras\n",
    "import numpy as np\n",
    "from keras import layers\n",
    "from keras.datasets import boston_housing"
   ]
  },
  {
   "cell_type": "markdown",
   "id": "48fee59f-dcf2-46c4-9101-665806c4009a",
   "metadata": {},
   "source": [
    "## Загрузка данных"
   ]
  },
  {
   "cell_type": "code",
   "execution_count": 2,
   "id": "f16245d0-a9d7-454f-a43c-e90f8201ee2b",
   "metadata": {},
   "outputs": [],
   "source": [
    "(x_train, y_train), (x_test, y_test) = boston_housing.load_data()"
   ]
  },
  {
   "cell_type": "markdown",
   "id": "abcb3e61-83e8-47b6-9611-358587aea89a",
   "metadata": {},
   "source": [
    "## Подготовка данных"
   ]
  },
  {
   "cell_type": "markdown",
   "id": "d6d3202e-916f-4425-afd8-10c00fcf4310",
   "metadata": {},
   "source": [
    "### Нормализация"
   ]
  },
  {
   "cell_type": "code",
   "execution_count": 3,
   "id": "b4a47997-4d88-42b6-8e78-d498d7b6faec",
   "metadata": {},
   "outputs": [],
   "source": [
    "def normalization(train_array: np.array, test_array: np.array):\n",
    "    std = train_array.std(axis=0)\n",
    "    mean = train_array.mean(axis=0)\n",
    "    \n",
    "    train_array_normalize = (train_array - mean) / std\n",
    "    test_array_normalize = (test_array - mean) / std\n",
    "    \n",
    "    return (train_array_normalize, test_array_normalize)"
   ]
  },
  {
   "cell_type": "code",
   "execution_count": 4,
   "id": "58cf3d56-d206-49e3-95a2-f7741852b867",
   "metadata": {},
   "outputs": [],
   "source": [
    "x_train, x_test = normalization(x_train, x_train)"
   ]
  },
  {
   "cell_type": "markdown",
   "id": "6ae9bccd-fb6c-4c8a-85bc-7bc41bdf8023",
   "metadata": {},
   "source": [
    "## Конструирование сети"
   ]
  },
  {
   "cell_type": "code",
   "execution_count": 5,
   "id": "46cd5be0-fef4-4b11-b568-3791d7212c81",
   "metadata": {},
   "outputs": [
    {
     "data": {
      "text/plain": [
       "(404, 13)"
      ]
     },
     "execution_count": 5,
     "metadata": {},
     "output_type": "execute_result"
    }
   ],
   "source": [
    "x_train.shape"
   ]
  },
  {
   "cell_type": "code",
   "execution_count": 6,
   "id": "2aea98d4-beeb-4365-a2c0-abe3cfc72a67",
   "metadata": {},
   "outputs": [],
   "source": [
    "def create_model():\n",
    "    model = keras.Sequential()\n",
    "    model.add(layers.Dense(64, activation='relu', input_shape=(13,)))\n",
    "    model.add(layers.Dense(64, activation='relu'))\n",
    "    model.add(layers.Dense(1))\n",
    "    \n",
    "    model.compile(optimizer='rmsprop', loss='mse', metrics=['mae'])\n",
    "    \n",
    "    return model"
   ]
  },
  {
   "cell_type": "markdown",
   "id": "61b20f50-aef7-4290-a677-4270d224510a",
   "metadata": {},
   "source": [
    "## Оценка решения методом перекрестной проверки"
   ]
  },
  {
   "cell_type": "code",
   "execution_count": 7,
   "id": "26cccad4-7275-4433-95a3-91a4abb0a96d",
   "metadata": {},
   "outputs": [
    {
     "name": "stderr",
     "output_type": "stream",
     "text": [
      "2023-01-21 21:23:14.058724: I tensorflow/core/platform/cpu_feature_guard.cc:193] This TensorFlow binary is optimized with oneAPI Deep Neural Network Library (oneDNN) to use the following CPU instructions in performance-critical operations:  SSE4.1 SSE4.2 AVX\n",
      "To enable them in other operations, rebuild TensorFlow with the appropriate compiler flags.\n"
     ]
    },
    {
     "name": "stdout",
     "output_type": "stream",
     "text": [
      "11/11 [==============================] - 0s 1ms/step - loss: 20.9104 - mae: 3.2565\n",
      "11/11 [==============================] - 0s 1ms/step - loss: 28.3481 - mae: 3.3895\n",
      "11/11 [==============================] - 0s 2ms/step - loss: 25.2755 - mae: 3.1598\n",
      "11/11 [==============================] - 0s 1ms/step - loss: 18.1255 - mae: 3.1473\n",
      "11/11 [==============================] - 0s 1ms/step - loss: 19.8314 - mae: 3.1347\n"
     ]
    }
   ],
   "source": [
    "k = 5 ## Количество обучений\n",
    "train_size = math.ceil(x_train.shape[0] / k)\n",
    "mse_history = []\n",
    "mae_history = []\n",
    "\n",
    "for i in range(k):\n",
    "    current_x_train = x_train[train_size * i:train_size*(i + 1)]\n",
    "    current_y_target = y_train[train_size * i:train_size*(i + 1)]                        \n",
    "\n",
    "    current_x_test = np.concatenate([x_train[:train_size * i], x_train[train_size*(i + 1):]])\n",
    "    current_y_test = np.concatenate([y_train[:train_size * i], y_train[train_size*(i + 1):]])\n",
    "    \n",
    "    model = create_model()\n",
    "    model.fit(\n",
    "        current_x_train,\n",
    "        current_y_target,\n",
    "        epochs=100,\n",
    "        batch_size=64,\n",
    "        verbose=0\n",
    "    )\n",
    "    mse, mae = model.evaluate(current_x_test, current_y_test)\n",
    "    mse_history.append(mse)\n",
    "    mae_history.append(mae)                    "
   ]
  },
  {
   "cell_type": "code",
   "execution_count": 8,
   "id": "4583bf61-8543-4fb7-847f-269d2002804a",
   "metadata": {},
   "outputs": [
    {
     "data": {
      "text/plain": [
       "22.498163604736327"
      ]
     },
     "execution_count": 8,
     "metadata": {},
     "output_type": "execute_result"
    }
   ],
   "source": [
    "np.mean(mse_history)"
   ]
  },
  {
   "cell_type": "code",
   "execution_count": 9,
   "id": "72a991f9-3267-44fe-ace8-f9b8e144993a",
   "metadata": {},
   "outputs": [
    {
     "data": {
      "text/plain": [
       "3.217554140090942"
      ]
     },
     "execution_count": 9,
     "metadata": {},
     "output_type": "execute_result"
    }
   ],
   "source": [
    "np.mean(mae_history)"
   ]
  },
  {
   "cell_type": "markdown",
   "id": "9c9438dc-c351-46e1-8ff5-b77d2982998f",
   "metadata": {},
   "source": [
    "## Выводы\n",
    "\n",
    "Перекрестная проверка позволяет использовать небольшие наборы данных для обучения и проверки качества кода"
   ]
  },
  {
   "cell_type": "markdown",
   "id": "03a520fb-a00f-438e-b439-06e61a84e8de",
   "metadata": {},
   "source": [
    "[Продолжение](./%D0%9C%D0%B5%D1%82%D0%BE%D0%B4%D1%8B%20%D0%B1%D0%BE%D1%80%D1%8C%D0%B1%D1%8B%20%D1%81%20%D0%BF%D0%B5%D1%80%D0%B5%D0%BE%D0%B1%D1%83%D1%87%D0%B5%D0%BD%D0%B8%D0%B5%D0%BC.ipynb)"
   ]
  }
 ],
 "metadata": {
  "kernelspec": {
   "display_name": "Python 3 (ipykernel)",
   "language": "python",
   "name": "python3"
  },
  "language_info": {
   "codemirror_mode": {
    "name": "ipython",
    "version": 3
   },
   "file_extension": ".py",
   "mimetype": "text/x-python",
   "name": "python",
   "nbconvert_exporter": "python",
   "pygments_lexer": "ipython3",
   "version": "3.10.6"
  }
 },
 "nbformat": 4,
 "nbformat_minor": 5
}
