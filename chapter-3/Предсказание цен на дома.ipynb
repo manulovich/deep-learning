{
 "cells": [
  {
   "cell_type": "markdown",
   "id": "0e47fe79",
   "metadata": {
    "cellId": "8qdhhcq4bhnqf3zardb3e"
   },
   "source": [
    "# Предсказание цен на дома"
   ]
  },
  {
   "cell_type": "markdown",
   "id": "d9ef664b",
   "metadata": {
    "cellId": "8wo6ro2bhd8srx5yrw6vm"
   },
   "source": [
    "## Библиотеки"
   ]
  },
  {
   "cell_type": "code",
   "execution_count": 1,
   "id": "5a76b253",
   "metadata": {
    "cellId": "qdo1hw2ofq0a3tcei7a"
   },
   "outputs": [],
   "source": [
    "import math\n",
    "import keras\n",
    "import numpy as np\n",
    "from keras import layers\n",
    "from keras.datasets import boston_housing"
   ]
  },
  {
   "cell_type": "markdown",
   "id": "1368ac0d",
   "metadata": {
    "cellId": "q0e2h3h3k7ndh41v07xqit"
   },
   "source": [
    "## Загрузка данных"
   ]
  },
  {
   "cell_type": "code",
   "execution_count": 2,
   "id": "3075dde2",
   "metadata": {
    "cellId": "9s43kdwfxullwajpe8pjzn"
   },
   "outputs": [],
   "source": [
    "(x_train, y_train), (x_test, y_test) = boston_housing.load_data()"
   ]
  },
  {
   "cell_type": "markdown",
   "id": "ed8c6a19",
   "metadata": {
    "cellId": "owdq8ycn7wl9y5rgcix965"
   },
   "source": [
    "## Подготовка данных"
   ]
  },
  {
   "cell_type": "markdown",
   "id": "a79fb432",
   "metadata": {
    "cellId": "hrae58f3xsulpi41vumkv"
   },
   "source": [
    "### Нормализация"
   ]
  },
  {
   "cell_type": "code",
   "execution_count": 3,
   "id": "f91f9c78",
   "metadata": {
    "cellId": "g81xkj38d089mjtsc9qcvl"
   },
   "outputs": [],
   "source": [
    "def normalization(train_array: np.array, test_array: np.array):\n",
    "    std = train_array.std(axis=0)\n",
    "    mean = train_array.mean(axis=0)\n",
    "    \n",
    "    train_array_normalize = (train_array - mean) / std\n",
    "    test_array_normalize = (test_array - mean) / std\n",
    "    \n",
    "    return (train_array_normalize, test_array_normalize)"
   ]
  },
  {
   "cell_type": "code",
   "execution_count": 4,
   "id": "2bad51dc",
   "metadata": {
    "cellId": "18k8hbaoi72n2cwekfsyw"
   },
   "outputs": [],
   "source": [
    "x_train, x_test = normalization(x_train, x_train)"
   ]
  },
  {
   "cell_type": "markdown",
   "id": "4e56126a",
   "metadata": {
    "cellId": "w3vk584cahdjrr6e7fbxbd"
   },
   "source": [
    "## Конструирование сети"
   ]
  },
  {
   "cell_type": "code",
   "execution_count": 5,
   "id": "dbfe4f87",
   "metadata": {
    "cellId": "qret4im3tza6gbq7es1vdg"
   },
   "outputs": [],
   "source": [
    "x_train.shape"
   ]
  },
  {
   "cell_type": "code",
   "execution_count": 6,
   "id": "2ecbc659",
   "metadata": {
    "cellId": "ixhmup9bu5ocsk4k6sksa"
   },
   "outputs": [],
   "source": [
    "def create_model():\n",
    "    model = keras.Sequential()\n",
    "    model.add(layers.Dense(64, activation='relu', input_shape=(13,)))\n",
    "    model.add(layers.Dense(64, activation='relu'))\n",
    "    model.add(layers.Dense(1))\n",
    "    \n",
    "    model.compile(optimizer='rmsprop', loss='mse', metrics=['mae'])\n",
    "    \n",
    "    return model"
   ]
  },
  {
   "cell_type": "markdown",
   "id": "bd00ee6d",
   "metadata": {
    "cellId": "bret5ks8t5pvumz319lkp"
   },
   "source": [
    "## Оценка решения методом перекрестной проверки"
   ]
  },
  {
   "cell_type": "code",
   "execution_count": 7,
   "id": "12a50975",
   "metadata": {
    "cellId": "3q8j2lurszv703ivgr1bpp"
   },
   "outputs": [],
   "source": [
    "k = 5 ## Количество обучений\n",
    "train_size = math.ceil(x_train.shape[0] / k)\n",
    "mse_history = []\n",
    "mae_history = []\n",
    "\n",
    "for i in range(k):\n",
    "    current_x_train = x_train[train_size * i:train_size*(i + 1)]\n",
    "    current_y_target = y_train[train_size * i:train_size*(i + 1)]                        \n",
    "\n",
    "    current_x_test = np.concatenate([x_train[:train_size * i], x_train[train_size*(i + 1):]])\n",
    "    current_y_test = np.concatenate([y_train[:train_size * i], y_train[train_size*(i + 1):]])\n",
    "    \n",
    "    model = create_model()\n",
    "    model.fit(\n",
    "        current_x_train,\n",
    "        current_y_target,\n",
    "        epochs=100,\n",
    "        batch_size=64,\n",
    "        verbose=0\n",
    "    )\n",
    "    mse, mae = model.evaluate(current_x_test, current_y_test)\n",
    "    mse_history.append(mse)\n",
    "    mae_history.append(mae)                    "
   ]
  },
  {
   "cell_type": "code",
   "execution_count": 8,
   "id": "31802513",
   "metadata": {
    "cellId": "fv03hmwnkws45f6i5t6d5m"
   },
   "outputs": [],
   "source": [
    "np.mean(mse_history)"
   ]
  },
  {
   "cell_type": "code",
   "execution_count": 9,
   "id": "51a493a7",
   "metadata": {
    "cellId": "z8r8cycpsae0yskoz3do"
   },
   "outputs": [],
   "source": [
    "np.mean(mae_history)"
   ]
  },
  {
   "cell_type": "markdown",
   "id": "ac7e98db",
   "metadata": {
    "cellId": "7id7kbfstx82yzw3j4yxhy"
   },
   "source": [
    "## Выводы\n",
    "\n",
    "Перекрестная проверка позволяет использовать небольшие наборы данных для обучения и проверки качества кода"
   ]
  },
  {
   "cell_type": "markdown",
   "id": "b0273974",
   "metadata": {
    "cellId": "p1xvxmidy34oiwtuij5l"
   },
   "source": [
    "[Продолжение](./%D0%9C%D0%B5%D1%82%D0%BE%D0%B4%D1%8B%20%D0%B1%D0%BE%D1%80%D1%8C%D0%B1%D1%8B%20%D1%81%20%D0%BF%D0%B5%D1%80%D0%B5%D0%BE%D0%B1%D1%83%D1%87%D0%B5%D0%BD%D0%B8%D0%B5%D0%BC.ipynb)"
   ]
  }
 ],
 "metadata": {
  "language_info": {
   "codemirror_mode": {
    "name": "ipython",
    "version": 3
   },
   "file_extension": ".py",
   "mimetype": "text/x-python",
   "name": "python",
   "nbconvert_exporter": "python",
   "pygments_lexer": "ipython3",
   "version": "3.7.7"
  },
  "notebookId": "56dc6b6b-d4d4-4e81-bf4d-9c9606ea6fc1",
  "notebookPath": "deep-learning/chapter-3/Предсказание цен на дома.ipynb"
 },
 "nbformat": 4,
 "nbformat_minor": 5
}
