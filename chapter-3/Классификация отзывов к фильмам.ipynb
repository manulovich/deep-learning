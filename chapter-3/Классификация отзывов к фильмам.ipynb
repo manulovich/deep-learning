{
 "cells": [
  {
   "cell_type": "markdown",
   "id": "23ae0922-f6b3-4ca7-b2aa-7ef869801c15",
   "metadata": {},
   "source": [
    "# Классификация отзывов к фильмам. Бинарная классификация"
   ]
  },
  {
   "cell_type": "markdown",
   "id": "27e54fb1-a516-4db3-954e-ef8cda1955cb",
   "metadata": {},
   "source": [
    "## Используемые библиотеки"
   ]
  },
  {
   "cell_type": "code",
   "execution_count": 1,
   "id": "3029dabf-f386-4d8c-9502-f516f852e6e3",
   "metadata": {},
   "outputs": [],
   "source": [
    "from keras.datasets import imdb\n",
    "from keras import models\n",
    "from keras import layers\n",
    "import numpy as np\n",
    "import matplotlib.pyplot as plt"
   ]
  },
  {
   "cell_type": "markdown",
   "id": "e11563c1-c6c4-453c-bd5c-97290be8103e",
   "metadata": {},
   "source": [
    "## Загрузка данных"
   ]
  },
  {
   "cell_type": "code",
   "execution_count": 2,
   "id": "887b36b3-bb45-4dfc-973a-ea543beb21d0",
   "metadata": {},
   "outputs": [],
   "source": [
    "(x_train, y_train), (x_test, y_test) = imdb.load_data(num_words=10000)"
   ]
  },
  {
   "cell_type": "markdown",
   "id": "a55477b8-cfbb-490e-8338-135641ae66fe",
   "metadata": {},
   "source": [
    "## Осмотр данных"
   ]
  },
  {
   "cell_type": "code",
   "execution_count": 3,
   "id": "03fb71c5-bf04-43e6-a8d7-a2d39552a4ce",
   "metadata": {},
   "outputs": [],
   "source": [
    "word_index = imdb.get_word_index()\n",
    "invert_word_index = {word_index.get(key): key for key in word_index.keys()}"
   ]
  },
  {
   "cell_type": "code",
   "execution_count": 4,
   "id": "fcca2385-ae23-417c-90e6-d58b05bc670e",
   "metadata": {},
   "outputs": [
    {
     "name": "stdout",
     "output_type": "stream",
     "text": [
      "? this film was just brilliant casting location scenery story direction everyone's really suited the part they played and you could just imagine being there robert ? is an amazing actor and now the same being director ? father came from the same scottish island as myself so i loved the fact there was a real connection with this film the witty remarks throughout the film were great it was just brilliant so much that i bought the film as soon as it was released for ? and would recommend it to everyone to watch and the fly fishing was amazing really cried at the end it was so sad and you know what they say if you cry at a film it must have been good and this definitely was also ? to the two little boy's that played the ? of norman and paul they were just brilliant children are often left out of the ? list i think because the stars that play them all grown up are such a big profile for the whole film but these children are amazing and should be praised for what they have done don't you think the whole story was so lovely because it was true and was someone's life after all that was shared with us all\n"
     ]
    }
   ],
   "source": [
    "review = ' '.join([invert_word_index.get(idx - 3, '?') for idx in x_train[0]])\n",
    "print(review)"
   ]
  },
  {
   "cell_type": "markdown",
   "id": "bdc4f7ae-d840-4688-90a5-c8a593f23123",
   "metadata": {},
   "source": [
    "## Подготовка данных"
   ]
  },
  {
   "cell_type": "code",
   "execution_count": 5,
   "id": "62a00f15-2ec9-4549-ba3b-f8d2e809ebcf",
   "metadata": {},
   "outputs": [],
   "source": [
    "def vectorize_sequences(sequences, dimension = 10_000):\n",
    "    result = np.zeros((len(sequences), dimension))\n",
    "    \n",
    "    for i in range(len(sequences)):\n",
    "        result[i, sequences[i]] = 1\n",
    "        \n",
    "    return result"
   ]
  },
  {
   "cell_type": "code",
   "execution_count": 6,
   "id": "7bca485f-6cf8-4fcc-99b0-cbcd6ebda179",
   "metadata": {},
   "outputs": [],
   "source": [
    "x_train = vectorize_sequences(x_train)\n",
    "x_test = vectorize_sequences(x_test)"
   ]
  },
  {
   "cell_type": "code",
   "execution_count": 7,
   "id": "a0869385-a7c7-431a-b437-bbfa3c730746",
   "metadata": {},
   "outputs": [],
   "source": [
    "y_train = y_train.astype('float32')\n",
    "y_test = y_test.astype('float32')"
   ]
  },
  {
   "cell_type": "markdown",
   "id": "b8f672f9-9b4d-45ea-b4d1-dfd5ac0fc563",
   "metadata": {},
   "source": [
    "##  Обучение модели"
   ]
  },
  {
   "cell_type": "markdown",
   "id": "d3c5be56-a7b0-44fa-8966-2a52567537ba",
   "metadata": {},
   "source": [
    "### Тренировочные и валидационные данные"
   ]
  },
  {
   "cell_type": "code",
   "execution_count": 8,
   "id": "f9ef0af7-609c-474e-93b2-eaa04e1e109a",
   "metadata": {},
   "outputs": [],
   "source": [
    "x_val = x_train[:10_000]\n",
    "partial_x_train = x_train[10_000:]\n",
    "\n",
    "y_val = y_train[:10_000]\n",
    "partial_y_train = y_train[10_000:]"
   ]
  },
  {
   "cell_type": "markdown",
   "id": "3ef5ec72-0681-441e-a0ca-6fa0a9b7bd29",
   "metadata": {},
   "source": [
    "### Конструирование сети"
   ]
  },
  {
   "cell_type": "code",
   "execution_count": 9,
   "id": "4a38351c-6342-42ad-bc3a-bd08f7ba30ea",
   "metadata": {},
   "outputs": [
    {
     "name": "stderr",
     "output_type": "stream",
     "text": [
      "2023-01-15 17:31:38.354611: I tensorflow/core/platform/cpu_feature_guard.cc:193] This TensorFlow binary is optimized with oneAPI Deep Neural Network Library (oneDNN) to use the following CPU instructions in performance-critical operations:  SSE4.1 SSE4.2 AVX\n",
      "To enable them in other operations, rebuild TensorFlow with the appropriate compiler flags.\n"
     ]
    }
   ],
   "source": [
    "model = models.Sequential()\n",
    "\n",
    "model.add(layers.Dense(16, activation='tanh', input_shape=(10_000,)))\n",
    "model.add(layers.Dense(16, activation='tanh'))\n",
    "model.add(layers.Dense(1, activation='sigmoid'))\n",
    "\n",
    "model.compile(optimizer='rmsprop', loss='binary_crossentropy', metrics=['acc'])"
   ]
  },
  {
   "cell_type": "markdown",
   "id": "4edce975-5e0f-43b4-a90d-60d241f7df52",
   "metadata": {},
   "source": [
    "### Обучение"
   ]
  },
  {
   "cell_type": "code",
   "execution_count": 10,
   "id": "4fe9f5db-262e-4aa6-9197-0dc57a6c63a7",
   "metadata": {},
   "outputs": [
    {
     "name": "stdout",
     "output_type": "stream",
     "text": [
      "Epoch 1/20\n",
      "30/30 [==============================] - 2s 38ms/step - loss: 0.4793 - acc: 0.8062 - val_loss: 0.3576 - val_acc: 0.8742\n",
      "Epoch 2/20\n",
      "30/30 [==============================] - 1s 23ms/step - loss: 0.2777 - acc: 0.9079 - val_loss: 0.2897 - val_acc: 0.8881\n",
      "Epoch 3/20\n",
      "30/30 [==============================] - 1s 23ms/step - loss: 0.1989 - acc: 0.9331 - val_loss: 0.3130 - val_acc: 0.8711\n",
      "Epoch 4/20\n",
      "30/30 [==============================] - 1s 23ms/step - loss: 0.1483 - acc: 0.9509 - val_loss: 0.2844 - val_acc: 0.8862\n",
      "Epoch 5/20\n",
      "30/30 [==============================] - 1s 23ms/step - loss: 0.1132 - acc: 0.9639 - val_loss: 0.3461 - val_acc: 0.8705\n",
      "Epoch 6/20\n",
      "30/30 [==============================] - 1s 23ms/step - loss: 0.0894 - acc: 0.9725 - val_loss: 0.3289 - val_acc: 0.8802\n",
      "Epoch 7/20\n",
      "30/30 [==============================] - 1s 23ms/step - loss: 0.0696 - acc: 0.9783 - val_loss: 0.3678 - val_acc: 0.8774\n",
      "Epoch 8/20\n",
      "30/30 [==============================] - 1s 23ms/step - loss: 0.0564 - acc: 0.9823 - val_loss: 0.4059 - val_acc: 0.8763\n",
      "Epoch 9/20\n",
      "30/30 [==============================] - 1s 23ms/step - loss: 0.0387 - acc: 0.9899 - val_loss: 0.4527 - val_acc: 0.8721\n",
      "Epoch 10/20\n",
      "30/30 [==============================] - 1s 24ms/step - loss: 0.0319 - acc: 0.9912 - val_loss: 0.5039 - val_acc: 0.8692\n",
      "Epoch 11/20\n",
      "30/30 [==============================] - 1s 24ms/step - loss: 0.0295 - acc: 0.9918 - val_loss: 0.5382 - val_acc: 0.8673\n",
      "Epoch 12/20\n",
      "30/30 [==============================] - 1s 24ms/step - loss: 0.0276 - acc: 0.9921 - val_loss: 0.5704 - val_acc: 0.8680\n",
      "Epoch 13/20\n",
      "30/30 [==============================] - 1s 24ms/step - loss: 0.0088 - acc: 0.9990 - val_loss: 0.6072 - val_acc: 0.8671\n",
      "Epoch 14/20\n",
      "30/30 [==============================] - 1s 24ms/step - loss: 0.0160 - acc: 0.9953 - val_loss: 0.6454 - val_acc: 0.8653\n",
      "Epoch 15/20\n",
      "30/30 [==============================] - 1s 23ms/step - loss: 0.0045 - acc: 0.9997 - val_loss: 0.6857 - val_acc: 0.8647\n",
      "Epoch 16/20\n",
      "30/30 [==============================] - 1s 24ms/step - loss: 0.0227 - acc: 0.9941 - val_loss: 0.7152 - val_acc: 0.8658\n",
      "Epoch 17/20\n",
      "30/30 [==============================] - 1s 23ms/step - loss: 0.0030 - acc: 0.9998 - val_loss: 0.7310 - val_acc: 0.8650\n",
      "Epoch 18/20\n",
      "30/30 [==============================] - 1s 24ms/step - loss: 0.0167 - acc: 0.9951 - val_loss: 0.7488 - val_acc: 0.8602\n",
      "Epoch 19/20\n",
      "30/30 [==============================] - 1s 24ms/step - loss: 0.0015 - acc: 0.9999 - val_loss: 0.7582 - val_acc: 0.8609\n",
      "Epoch 20/20\n",
      "30/30 [==============================] - 1s 23ms/step - loss: 0.0013 - acc: 0.9999 - val_loss: 0.7898 - val_acc: 0.8600\n"
     ]
    }
   ],
   "source": [
    "history = model.fit(\n",
    "    partial_x_train,\n",
    "    partial_y_train,\n",
    "    epochs=20,\n",
    "    batch_size=512,\n",
    "    validation_data=(x_val, y_val)\n",
    ")"
   ]
  },
  {
   "cell_type": "markdown",
   "id": "0dc96d3f-7e79-47b8-9b6e-cbedd9538af4",
   "metadata": {
    "tags": []
   },
   "source": [
    "### Провека метрик"
   ]
  },
  {
   "cell_type": "code",
   "execution_count": 11,
   "id": "a513824b-0b8e-460c-8ffd-6789fe814151",
   "metadata": {},
   "outputs": [
    {
     "data": {
      "text/plain": [
       "dict_keys(['loss', 'acc', 'val_loss', 'val_acc'])"
      ]
     },
     "execution_count": 11,
     "metadata": {},
     "output_type": "execute_result"
    }
   ],
   "source": [
    "history_dict = history.history\n",
    "history_dict.keys()"
   ]
  },
  {
   "cell_type": "code",
   "execution_count": 12,
   "id": "5e61ec56-9599-4d10-b8bb-e90b7d8165ac",
   "metadata": {},
   "outputs": [],
   "source": [
    "loss = history_dict['loss']\n",
    "val_loss = history_dict['val_loss']"
   ]
  },
  {
   "cell_type": "code",
   "execution_count": 13,
   "id": "840efed4-1e7e-4d65-8c90-5b030d9a0863",
   "metadata": {},
   "outputs": [
    {
     "data": {
      "image/png": "[encoded data removed]",
      "text/plain": [
       "<Figure size 640x480 with 1 Axes>"
      ]
     },
     "metadata": {},
     "output_type": "display_data"
    }
   ],
   "source": [
    "epochs = range(1, len(loss) + 1)\n",
    "\n",
    "plt.plot(epochs, loss, label='Training loss')\n",
    "plt.plot(epochs, val_loss, label='Validation loss')\n",
    "plt.title('Training and validation data')\n",
    "plt.xlabel('Epochs')\n",
    "plt.ylabel('Loss')\n",
    "plt.legend()\n",
    "plt.show()"
   ]
  },
  {
   "cell_type": "code",
   "execution_count": 14,
   "id": "638611c8-9f39-43e5-8873-f9d36eaec166",
   "metadata": {},
   "outputs": [],
   "source": [
    "acc = history_dict['acc']\n",
    "val_acc = history_dict['val_acc']"
   ]
  },
  {
   "cell_type": "code",
   "execution_count": 15,
   "id": "3a51f81b-0366-4211-9796-fe56fa06e632",
   "metadata": {},
   "outputs": [
    {
     "data": {
      "image/png": "[encoded data removed]",
      "text/plain": [
       "<Figure size 640x480 with 1 Axes>"
      ]
     },
     "metadata": {},
     "output_type": "display_data"
    }
   ],
   "source": [
    "plt.plot(epochs, acc, label='Training accuracy')\n",
    "plt.plot(epochs, val_acc, label='Validation accuracy')\n",
    "plt.title('Training and validation accuracy')\n",
    "plt.xlabel('Epochs')\n",
    "plt.ylabel('Accuracy')\n",
    "plt.legend()\n",
    "plt.show()"
   ]
  },
  {
   "cell_type": "markdown",
   "id": "549fa60d-47cf-410d-80e6-9fdc1d18eba1",
   "metadata": {},
   "source": [
    "### Финальное обучение"
   ]
  },
  {
   "cell_type": "code",
   "execution_count": 16,
   "id": "de7e6f0f-b01e-48b0-9a0f-fb5feef79752",
   "metadata": {},
   "outputs": [],
   "source": [
    "model = models.Sequential()\n",
    "\n",
    "model.add(layers.Dense(16, activation='relu', input_shape=(10_000,)))\n",
    "model.add(layers.Dense(16, activation='relu'))\n",
    "model.add(layers.Dense(1, activation='sigmoid'))\n",
    "\n",
    "model.compile(optimizer='rmsprop', loss='binary_crossentropy', metrics=['acc'])"
   ]
  },
  {
   "cell_type": "code",
   "execution_count": 17,
   "id": "23199b81-61d3-433d-90f4-1e46a8e5734c",
   "metadata": {},
   "outputs": [
    {
     "name": "stdout",
     "output_type": "stream",
     "text": [
      "Epoch 1/4\n",
      "30/30 [==============================] - 2s 36ms/step - loss: 0.5030 - acc: 0.7929 - val_loss: 0.3923 - val_acc: 0.8571\n",
      "Epoch 2/4\n",
      "30/30 [==============================] - 1s 25ms/step - loss: 0.2996 - acc: 0.9033 - val_loss: 0.3472 - val_acc: 0.8543\n",
      "Epoch 3/4\n",
      "30/30 [==============================] - 1s 30ms/step - loss: 0.2222 - acc: 0.9254 - val_loss: 0.2822 - val_acc: 0.8869\n",
      "Epoch 4/4\n",
      "30/30 [==============================] - 1s 29ms/step - loss: 0.1744 - acc: 0.9437 - val_loss: 0.2764 - val_acc: 0.8892\n"
     ]
    }
   ],
   "source": [
    "history = model.fit(\n",
    "    partial_x_train,\n",
    "    partial_y_train,\n",
    "    epochs=4,\n",
    "    batch_size=512,\n",
    "    validation_data=(x_val, y_val)\n",
    ")"
   ]
  },
  {
   "cell_type": "markdown",
   "id": "1ba441db-95bf-4cb6-95d7-dc1564607da2",
   "metadata": {},
   "source": [
    "## Результат"
   ]
  },
  {
   "cell_type": "code",
   "execution_count": 18,
   "id": "7fdca67d-b917-4f7b-83ee-0eda79b35a4b",
   "metadata": {},
   "outputs": [
    {
     "name": "stdout",
     "output_type": "stream",
     "text": [
      "782/782 [==============================] - 1s 2ms/step - loss: 0.2930 - acc: 0.8812\n"
     ]
    }
   ],
   "source": [
    "result = model.evaluate(x_test, y_test)"
   ]
  },
  {
   "cell_type": "code",
   "execution_count": 19,
   "id": "5e06d474-f109-4a94-8bf9-a2a5ce1a2a6b",
   "metadata": {},
   "outputs": [
    {
     "data": {
      "text/plain": [
       "[0.2930448353290558, 0.8811600208282471]"
      ]
     },
     "execution_count": 19,
     "metadata": {},
     "output_type": "execute_result"
    }
   ],
   "source": [
    "result"
   ]
  },
  {
   "cell_type": "markdown",
   "id": "bb499df2-514e-4ed2-98b3-3ccbe20a8ffc",
   "metadata": {},
   "source": [
    "## Выводы"
   ]
  },
  {
   "cell_type": "markdown",
   "id": "faaff76b-d47b-4f9d-acab-97cc5beaf614",
   "metadata": {},
   "source": [
    "От выбора количества нейронных слоев и количества нейронов в них зависит:\n",
    "1. Точность модели\n",
    "2. Время, через которое наступает переобучение\n",
    "\n",
    "Поэтому очень важно найти правильный баланс. Необходимо не давать сети большой возможности по \"запоминанию\" данных с одной стороны, а с другой не создавать в сети узких мест, где будет терятся какое-то количество информации. Сеть должна учиться обобщать зависимости между данным, а не запоминать сами данные"
   ]
  },
  {
   "cell_type": "markdown",
   "id": "3de87724-bcad-472e-9103-8ef4a2e6547e",
   "metadata": {},
   "source": [
    "[Продолжение](./%D0%9A%D0%BB%D0%B0%D1%81%D1%81%D0%B8%D1%84%D0%B8%D0%BA%D0%B0%D1%86%D0%B8%D1%8F%20%D0%BD%D0%BE%D0%B2%D0%BE%D1%81%D1%82%D0%BD%D1%8B%D1%85%20%D0%BB%D0%B5%D0%BD%D1%82.ipynb)"
   ]
  },
  {
   "cell_type": "code",
   "execution_count": null,
   "id": "29eee220-db55-4e13-9b2c-694d7d978c34",
   "metadata": {},
   "outputs": [],
   "source": []
  }
 ],
 "metadata": {
  "kernelspec": {
   "display_name": "Python 3 (ipykernel)",
   "language": "python",
   "name": "python3"
  },
  "language_info": {
   "codemirror_mode": {
    "name": "ipython",
    "version": 3
   },
   "file_extension": ".py",
   "mimetype": "text/x-python",
   "name": "python",
   "nbconvert_exporter": "python",
   "pygments_lexer": "ipython3",
   "version": "3.10.6"
  }
 },
 "nbformat": 4,
 "nbformat_minor": 5
}
