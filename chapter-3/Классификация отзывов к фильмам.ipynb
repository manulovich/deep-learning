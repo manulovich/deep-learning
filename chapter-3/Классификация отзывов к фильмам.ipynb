{
 "cells": [
  {
   "cell_type": "markdown",
   "id": "af2aecd2",
   "metadata": {
    "cellId": "gl0cn6bb0cc0focvhr50nxo"
   },
   "source": [
    "# Классификация отзывов к фильмам. Бинарная классификация"
   ]
  },
  {
   "cell_type": "markdown",
   "id": "77a07ed7",
   "metadata": {
    "cellId": "p0ntzuylx3chmd827vo0in"
   },
   "source": [
    "## Используемые библиотеки"
   ]
  },
  {
   "cell_type": "code",
   "execution_count": 1,
   "id": "fe2c704b",
   "metadata": {
    "cellId": "f5zig2lohcvvy19s6cpm8"
   },
   "outputs": [],
   "source": [
    "from keras.datasets import imdb\n",
    "from keras import models\n",
    "from keras import layers\n",
    "import numpy as np\n",
    "import matplotlib.pyplot as plt"
   ]
  },
  {
   "cell_type": "markdown",
   "id": "ed9cfe82",
   "metadata": {
    "cellId": "elkmpfnom6qligvr3kof"
   },
   "source": [
    "## Загрузка данных"
   ]
  },
  {
   "cell_type": "code",
   "execution_count": 2,
   "id": "2d408ba2",
   "metadata": {
    "cellId": "ipqpxlqovkoi5lb0vgq"
   },
   "outputs": [],
   "source": [
    "(x_train, y_train), (x_test, y_test) = imdb.load_data(num_words=10000)"
   ]
  },
  {
   "cell_type": "markdown",
   "id": "35b214a9",
   "metadata": {
    "cellId": "gkbp9p1dgjo8u15jodu74e"
   },
   "source": [
    "## Осмотр данных"
   ]
  },
  {
   "cell_type": "code",
   "execution_count": 3,
   "id": "38e28b21",
   "metadata": {
    "cellId": "rg5xdy64filwzyb4sdd1i"
   },
   "outputs": [],
   "source": [
    "word_index = imdb.get_word_index()\n",
    "invert_word_index = {word_index.get(key): key for key in word_index.keys()}"
   ]
  },
  {
   "cell_type": "code",
   "execution_count": 4,
   "id": "34645568",
   "metadata": {
    "cellId": "rswft7pxt4bykzt8pwylvj"
   },
   "outputs": [],
   "source": [
    "review = ' '.join([invert_word_index.get(idx - 3, '?') for idx in x_train[0]])\n",
    "print(review)"
   ]
  },
  {
   "cell_type": "markdown",
   "id": "5ba5ed4a",
   "metadata": {
    "cellId": "aam1j5coyefbt6xhwdmmsv"
   },
   "source": [
    "## Подготовка данных"
   ]
  },
  {
   "cell_type": "code",
   "execution_count": 5,
   "id": "bc5dc895",
   "metadata": {
    "cellId": "12hd0xfx3pljqjcla01eu1d"
   },
   "outputs": [],
   "source": [
    "def vectorize_sequences(sequences, dimension = 10_000):\n",
    "    result = np.zeros((len(sequences), dimension))\n",
    "    \n",
    "    for i in range(len(sequences)):\n",
    "        result[i, sequences[i]] = 1\n",
    "        \n",
    "    return result"
   ]
  },
  {
   "cell_type": "code",
   "execution_count": 6,
   "id": "d39bc23e",
   "metadata": {
    "cellId": "bk5mjef03asntsu6ha6a"
   },
   "outputs": [],
   "source": [
    "x_train = vectorize_sequences(x_train)\n",
    "x_test = vectorize_sequences(x_test)"
   ]
  },
  {
   "cell_type": "code",
   "execution_count": 7,
   "id": "5690095a",
   "metadata": {
    "cellId": "bau2l7xmu2639s36dhem9i"
   },
   "outputs": [],
   "source": [
    "y_train = y_train.astype('float32')\n",
    "y_test = y_test.astype('float32')"
   ]
  },
  {
   "cell_type": "markdown",
   "id": "80c1a14a",
   "metadata": {
    "cellId": "bij6q2xggcn9w656o6pf87"
   },
   "source": [
    "##  Обучение модели"
   ]
  },
  {
   "cell_type": "markdown",
   "id": "ab619da4",
   "metadata": {
    "cellId": "h6alp56tusqenzkfhd0t8"
   },
   "source": [
    "### Тренировочные и валидационные данные"
   ]
  },
  {
   "cell_type": "code",
   "execution_count": 8,
   "id": "db290e2a",
   "metadata": {
    "cellId": "a8qg79j8tbm5pb90vi1qgp"
   },
   "outputs": [],
   "source": [
    "x_val = x_train[:10_000]\n",
    "partial_x_train = x_train[10_000:]\n",
    "\n",
    "y_val = y_train[:10_000]\n",
    "partial_y_train = y_train[10_000:]"
   ]
  },
  {
   "cell_type": "markdown",
   "id": "7acc2f30",
   "metadata": {
    "cellId": "6narh3c4w6auhtk6krv7v"
   },
   "source": [
    "### Конструирование сети"
   ]
  },
  {
   "cell_type": "code",
   "execution_count": 9,
   "id": "24d98d26",
   "metadata": {
    "cellId": "3ycwnu8ui5739doad2uhy1"
   },
   "outputs": [],
   "source": [
    "model = models.Sequential()\n",
    "\n",
    "model.add(layers.Dense(16, activation='tanh', input_shape=(10_000,)))\n",
    "model.add(layers.Dense(16, activation='tanh'))\n",
    "model.add(layers.Dense(1, activation='sigmoid'))\n",
    "\n",
    "model.compile(optimizer='rmsprop', loss='binary_crossentropy', metrics=['acc'])"
   ]
  },
  {
   "cell_type": "markdown",
   "id": "f382115f",
   "metadata": {
    "cellId": "dmtb7b9gm8qrd6l5g5dv"
   },
   "source": [
    "### Обучение"
   ]
  },
  {
   "cell_type": "code",
   "execution_count": 10,
   "id": "68e081fb",
   "metadata": {
    "cellId": "2c972v6av0gee92wdtb17"
   },
   "outputs": [],
   "source": [
    "history = model.fit(\n",
    "    partial_x_train,\n",
    "    partial_y_train,\n",
    "    epochs=20,\n",
    "    batch_size=512,\n",
    "    validation_data=(x_val, y_val)\n",
    ")"
   ]
  },
  {
   "cell_type": "markdown",
   "id": "26f11828",
   "metadata": {
    "cellId": "h6uyph0qcz6d5fszgp5kmi",
    "tags": []
   },
   "source": [
    "### Провека метрик"
   ]
  },
  {
   "cell_type": "code",
   "execution_count": 11,
   "id": "686d47af",
   "metadata": {
    "cellId": "ehywfvqoajtptoxkeoxoa"
   },
   "outputs": [],
   "source": [
    "history_dict = history.history\n",
    "history_dict.keys()"
   ]
  },
  {
   "cell_type": "code",
   "execution_count": 12,
   "id": "d84c3368",
   "metadata": {
    "cellId": "r13zy3kndynr0n3a1qjt1o"
   },
   "outputs": [],
   "source": [
    "loss = history_dict['loss']\n",
    "val_loss = history_dict['val_loss']"
   ]
  },
  {
   "cell_type": "code",
   "execution_count": 13,
   "id": "16c64e4f",
   "metadata": {
    "cellId": "vea5gdtjrt9wa0m9hdg0ad"
   },
   "outputs": [],
   "source": [
    "epochs = range(1, len(loss) + 1)\n",
    "\n",
    "plt.plot(epochs, loss, label='Training loss')\n",
    "plt.plot(epochs, val_loss, label='Validation loss')\n",
    "plt.title('Training and validation data')\n",
    "plt.xlabel('Epochs')\n",
    "plt.ylabel('Loss')\n",
    "plt.legend()\n",
    "plt.show()"
   ]
  },
  {
   "cell_type": "code",
   "execution_count": 14,
   "id": "02255356",
   "metadata": {
    "cellId": "h2i6w337kg6z8swih1v52e"
   },
   "outputs": [],
   "source": [
    "acc = history_dict['acc']\n",
    "val_acc = history_dict['val_acc']"
   ]
  },
  {
   "cell_type": "code",
   "execution_count": 15,
   "id": "dc62d71d",
   "metadata": {
    "cellId": "9gv2isji9lpgbjpllax6"
   },
   "outputs": [],
   "source": [
    "plt.plot(epochs, acc, label='Training accuracy')\n",
    "plt.plot(epochs, val_acc, label='Validation accuracy')\n",
    "plt.title('Training and validation accuracy')\n",
    "plt.xlabel('Epochs')\n",
    "plt.ylabel('Accuracy')\n",
    "plt.legend()\n",
    "plt.show()"
   ]
  },
  {
   "cell_type": "markdown",
   "id": "95daf698",
   "metadata": {
    "cellId": "t906qe3q7orak0xnc15eka"
   },
   "source": [
    "### Финальное обучение"
   ]
  },
  {
   "cell_type": "code",
   "execution_count": 16,
   "id": "c558215f",
   "metadata": {
    "cellId": "chq08b9jxiusmo49aeebtn"
   },
   "outputs": [],
   "source": [
    "model = models.Sequential()\n",
    "\n",
    "model.add(layers.Dense(16, activation='relu', input_shape=(10_000,)))\n",
    "model.add(layers.Dense(16, activation='relu'))\n",
    "model.add(layers.Dense(1, activation='sigmoid'))\n",
    "\n",
    "model.compile(optimizer='rmsprop', loss='binary_crossentropy', metrics=['acc'])"
   ]
  },
  {
   "cell_type": "code",
   "execution_count": 17,
   "id": "16da2812",
   "metadata": {
    "cellId": "t37uwgtkn4li5xw363c2w"
   },
   "outputs": [],
   "source": [
    "history = model.fit(\n",
    "    partial_x_train,\n",
    "    partial_y_train,\n",
    "    epochs=4,\n",
    "    batch_size=512,\n",
    "    validation_data=(x_val, y_val)\n",
    ")"
   ]
  },
  {
   "cell_type": "markdown",
   "id": "77f1974d",
   "metadata": {
    "cellId": "wjrqlbtzk38fs9bowzj2lw"
   },
   "source": [
    "## Результат"
   ]
  },
  {
   "cell_type": "code",
   "execution_count": 18,
   "id": "8d99a606",
   "metadata": {
    "cellId": "h1palfnsya6k2j9pnw8xdr"
   },
   "outputs": [],
   "source": [
    "result = model.evaluate(x_test, y_test)"
   ]
  },
  {
   "cell_type": "code",
   "execution_count": 19,
   "id": "236ab8b5",
   "metadata": {
    "cellId": "bc8l4r3rdjjz7j733xzlp"
   },
   "outputs": [],
   "source": [
    "result"
   ]
  },
  {
   "cell_type": "markdown",
   "id": "b2c8517b",
   "metadata": {
    "cellId": "8okkbq9rozd4wrgq0vrca"
   },
   "source": [
    "## Выводы"
   ]
  },
  {
   "cell_type": "markdown",
   "id": "24c7c502",
   "metadata": {
    "cellId": "z8blqm887e6r7wvz1g90x"
   },
   "source": [
    "От выбора количества нейронных слоев и количества нейронов в них зависит:\n",
    "1. Точность модели\n",
    "2. Время, через которое наступает переобучение\n",
    "\n",
    "Поэтому очень важно найти правильный баланс. Необходимо не давать сети большой возможности по \"запоминанию\" данных с одной стороны, а с другой не создавать в сети узких мест, где будет терятся какое-то количество информации. Сеть должна учиться обобщать зависимости между данным, а не запоминать сами данные"
   ]
  },
  {
   "cell_type": "markdown",
   "id": "a2cea4d6",
   "metadata": {
    "cellId": "7yo6m6cce92duz1xwgszsu"
   },
   "source": [
    "[Продолжение](./%D0%9A%D0%BB%D0%B0%D1%81%D1%81%D0%B8%D1%84%D0%B8%D0%BA%D0%B0%D1%86%D0%B8%D1%8F%20%D0%BD%D0%BE%D0%B2%D0%BE%D1%81%D1%82%D0%BD%D1%8B%D1%85%20%D0%BB%D0%B5%D0%BD%D1%82.ipynb)"
   ]
  },
  {
   "cell_type": "code",
   "execution_count": null,
   "id": "3b2d1b8b",
   "metadata": {
    "cellId": "8telvzhfxmazot2eukfg6n"
   },
   "outputs": [],
   "source": []
  }
 ],
 "metadata": {
  "language_info": {
   "codemirror_mode": {
    "name": "ipython",
    "version": 3
   },
   "file_extension": ".py",
   "mimetype": "text/x-python",
   "name": "python",
   "nbconvert_exporter": "python",
   "pygments_lexer": "ipython3",
   "version": "3.7.7"
  },
  "notebookId": "9d7de1de-dcfc-4fea-946b-ce1e0bb1d7c9",
  "notebookPath": "deep-learning/chapter-3/Классификация отзывов к фильмам.ipynb"
 },
 "nbformat": 4,
 "nbformat_minor": 5
}
