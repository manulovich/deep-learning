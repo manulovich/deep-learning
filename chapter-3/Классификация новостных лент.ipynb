{
 "cells": [
  {
   "cell_type": "markdown",
   "id": "5eb58a94",
   "metadata": {
    "cellId": "h2tqxagsh3p2tsmjiu0xs2"
   },
   "source": [
    "# Классификация новостных лент"
   ]
  },
  {
   "cell_type": "markdown",
   "id": "0a3c5b5d",
   "metadata": {
    "cellId": "dgf107448tsl4kqaavbkyp"
   },
   "source": [
    "## Используемые библиотеки"
   ]
  },
  {
   "cell_type": "code",
   "execution_count": 15,
   "id": "0245b700",
   "metadata": {
    "cellId": "xigeio96kffo9gofs2que"
   },
   "outputs": [],
   "source": [
    "from keras.datasets import reuters\n",
    "from keras import models\n",
    "from keras import layers\n",
    "from keras.utils.np_utils import to_categorical\n",
    "import numpy as np\n",
    "import matplotlib.pyplot as plt"
   ]
  },
  {
   "cell_type": "markdown",
   "id": "976da139",
   "metadata": {
    "cellId": "gstm30fpexnp6ppgcr875k"
   },
   "source": [
    "## Загрузка данных"
   ]
  },
  {
   "cell_type": "code",
   "execution_count": 5,
   "id": "07eb6a93",
   "metadata": {
    "cellId": "8u95rundbw4ysodbup9no"
   },
   "outputs": [],
   "source": [
    "(train_data, train_labels), (test_data, test_labels) = reuters.load_data(num_words=10_000)"
   ]
  },
  {
   "cell_type": "markdown",
   "id": "970aca92",
   "metadata": {
    "cellId": "v0z3k6x98inmie8mduei7l"
   },
   "source": [
    "## Осмотр данных"
   ]
  },
  {
   "cell_type": "code",
   "execution_count": 6,
   "id": "0fdc7fb7",
   "metadata": {
    "cellId": "0mp6a4ue2s87ml6zz1ccrq"
   },
   "outputs": [],
   "source": [
    "word_index = reuters.get_word_index()\n",
    "reverse_word_index = {word_index.get(key): key for key in word_index.keys()}"
   ]
  },
  {
   "cell_type": "code",
   "execution_count": 9,
   "id": "897024d7",
   "metadata": {
    "cellId": "p7oa5vgnqtlz2izyzktpa"
   },
   "outputs": [],
   "source": [
    "string_decoding = ' '.join([reverse_word_index.get(idx) for idx in train_data[0]])"
   ]
  },
  {
   "cell_type": "markdown",
   "id": "174fa257",
   "metadata": {
    "cellId": "zlt8rwktg2nztu62nkki49"
   },
   "source": [
    "## Подготовка данных"
   ]
  },
  {
   "cell_type": "code",
   "execution_count": 10,
   "id": "07d0d35a",
   "metadata": {
    "cellId": "ghxizrm4zc29jo16vd0uu"
   },
   "outputs": [],
   "source": [
    "def vectorize_sequences(sequences, dimension = 10_000):\n",
    "    result = np.zeros((len(sequences), dimension))\n",
    "    \n",
    "    for i in range(len(sequences)):\n",
    "        result[i, sequences[i]] = 1\n",
    "        \n",
    "    return result"
   ]
  },
  {
   "cell_type": "code",
   "execution_count": 11,
   "id": "a477aaac",
   "metadata": {
    "cellId": "q2rlyk9xmj9hd4gqv9grjo"
   },
   "outputs": [],
   "source": [
    "x_train = vectorize_sequences(train_data)\n",
    "x_test = vectorize_sequences(test_data)"
   ]
  },
  {
   "cell_type": "code",
   "execution_count": 19,
   "id": "8f55b48f",
   "metadata": {
    "cellId": "2wdi6vfq4tnjjbxev9ppy"
   },
   "outputs": [],
   "source": [
    "y_train = to_categorical(train_labels)\n",
    "y_test = to_categorical(test_labels)"
   ]
  },
  {
   "cell_type": "markdown",
   "id": "63edc607",
   "metadata": {
    "cellId": "c5t793qe557u0w33bpaj8"
   },
   "source": [
    "##  Обучение модели"
   ]
  },
  {
   "cell_type": "markdown",
   "id": "fbd7b829",
   "metadata": {
    "cellId": "axzzt2041fr0pcazn5s5ln"
   },
   "source": [
    "### Тренировочные и валидационные данные"
   ]
  },
  {
   "cell_type": "code",
   "execution_count": 25,
   "id": "b4716bbe",
   "metadata": {
    "cellId": "dh6hmq7re3mdik9cd6qo"
   },
   "outputs": [],
   "source": [
    "x_val = x_train[:1000]\n",
    "x_train = x_train[1000:]"
   ]
  },
  {
   "cell_type": "code",
   "execution_count": 26,
   "id": "ec13d946",
   "metadata": {
    "cellId": "cj0j4biyajlp7w1vvkp4ns"
   },
   "outputs": [],
   "source": [
    "y_val = y_train[:1000]\n",
    "y_train = y_train[1000:]"
   ]
  },
  {
   "cell_type": "markdown",
   "id": "93e58738",
   "metadata": {
    "cellId": "ni73gvcivzcz4w18by0cr"
   },
   "source": [
    "### Конструирование сети"
   ]
  },
  {
   "cell_type": "code",
   "execution_count": 72,
   "id": "85456073",
   "metadata": {
    "cellId": "51dx5z6gzcuvqp3wkncyf9"
   },
   "outputs": [],
   "source": [
    "def get_model():\n",
    "    model = models.Sequential()\n",
    "    model.add(layers.Dense(64, activation='relu', input_shape=(10_000,)))\n",
    "    model.add(layers.Dense(46, activation='softmax'))\n",
    "\n",
    "    model.compile(optimizer='rmsprop', loss='categorical_crossentropy', metrics=['accuracy'])\n",
    "    \n",
    "    return model"
   ]
  },
  {
   "cell_type": "markdown",
   "id": "4abb24a3",
   "metadata": {
    "cellId": "vs1mg6ujlzltuo295pvwva"
   },
   "source": [
    "### Обучение"
   ]
  },
  {
   "cell_type": "code",
   "execution_count": 73,
   "id": "63656393",
   "metadata": {
    "cellId": "rzuru9s6k8c1jsifrlo5sa"
   },
   "outputs": [],
   "source": [
    "model = get_model()\n",
    "history = model.fit(\n",
    "    x_train,\n",
    "    y_train,\n",
    "    epochs=20,\n",
    "    batch_size=512,\n",
    "    validation_data=(x_val, y_val)\n",
    ")"
   ]
  },
  {
   "cell_type": "markdown",
   "id": "8b1927dc",
   "metadata": {
    "cellId": "6f1556nv8bhtiia0mby6s",
    "tags": []
   },
   "source": [
    "### Провека метрик"
   ]
  },
  {
   "cell_type": "code",
   "execution_count": 74,
   "id": "0d8db3c7",
   "metadata": {
    "cellId": "4uxi980e1f6k8q3o5vnwia"
   },
   "outputs": [],
   "source": [
    "history_dict = history.history\n",
    "history_dict.keys()"
   ]
  },
  {
   "cell_type": "code",
   "execution_count": 75,
   "id": "ed265725",
   "metadata": {
    "cellId": "n9s49inprrgl6b6xzpexo"
   },
   "outputs": [],
   "source": [
    "loss = history_dict['loss']\n",
    "val_loss = history_dict['val_loss']"
   ]
  },
  {
   "cell_type": "code",
   "execution_count": 76,
   "id": "4a2a63b5",
   "metadata": {
    "cellId": "h72shjjbytbj6ie72ji2dd"
   },
   "outputs": [],
   "source": [
    "epochs = range(1, len(loss) + 1)\n",
    "\n",
    "plt.plot(epochs, loss, label='Training loss')\n",
    "plt.plot(epochs, val_loss, label='Validation loss')\n",
    "plt.title('Training and validation data')\n",
    "plt.xlabel('Epochs')\n",
    "plt.ylabel('Loss')\n",
    "plt.legend()\n",
    "plt.show()"
   ]
  },
  {
   "cell_type": "code",
   "execution_count": 77,
   "id": "e4d54d7a",
   "metadata": {
    "cellId": "4mb9fa3taz6tkyg99k6zo"
   },
   "outputs": [],
   "source": [
    "acc = history_dict['accuracy']\n",
    "val_acc = history_dict['val_accuracy']"
   ]
  },
  {
   "cell_type": "code",
   "execution_count": 78,
   "id": "dddc4b3f",
   "metadata": {
    "cellId": "7aw9dgv5ja61gno5omiu97"
   },
   "outputs": [],
   "source": [
    "plt.plot(epochs, acc, label='Training accuracy')\n",
    "plt.plot(epochs, val_acc, label='Validation accuracy')\n",
    "plt.title('Training and validation accuracy')\n",
    "plt.xlabel('Epochs')\n",
    "plt.ylabel('Accuracy')\n",
    "plt.legend()\n",
    "plt.show()"
   ]
  },
  {
   "cell_type": "markdown",
   "id": "45ebebf5",
   "metadata": {
    "cellId": "8okybvrd9w798e4pjvm4jd"
   },
   "source": [
    "### Финальное обучение"
   ]
  },
  {
   "cell_type": "code",
   "execution_count": 79,
   "id": "29b8b344",
   "metadata": {
    "cellId": "x8pgx7vhk9tqwwa57w4qn"
   },
   "outputs": [],
   "source": [
    "model = get_model()\n",
    "history = model.fit(\n",
    "    x_train,\n",
    "    y_train,\n",
    "    epochs=7,\n",
    "    batch_size=512,\n",
    "    validation_data=(x_val, y_val)\n",
    ")"
   ]
  },
  {
   "cell_type": "markdown",
   "id": "9016d2cf",
   "metadata": {
    "cellId": "4d3ris563chs7aqq6l30tn"
   },
   "source": [
    "## Результат"
   ]
  },
  {
   "cell_type": "code",
   "execution_count": 80,
   "id": "3bc8ff9c",
   "metadata": {
    "cellId": "c3kwzxsv2l8qvd97phskxb"
   },
   "outputs": [],
   "source": [
    "result = model.evaluate(x_test, y_test)"
   ]
  },
  {
   "cell_type": "code",
   "execution_count": 81,
   "id": "2c366295",
   "metadata": {
    "cellId": "xfb1o4300kqev7fmdzccrt"
   },
   "outputs": [],
   "source": [
    "result"
   ]
  },
  {
   "cell_type": "markdown",
   "id": "1ac6a8ef",
   "metadata": {
    "cellId": "60s4w2a610mlmod9wfu8e"
   },
   "source": [
    "## Выводы\n",
    "\n",
    "Вывод такой же, каким и был в [предыдущем файле](./%D0%9A%D0%BB%D0%B0%D1%81%D1%81%D0%B8%D1%84%D0%B8%D0%BA%D0%B0%D1%86%D0%B8%D1%8F%20%D0%BE%D1%82%D0%B7%D1%8B%D0%B2%D0%BE%D0%B2%20%D0%BA%20%D1%84%D0%B8%D0%BB%D1%8C%D0%BC%D0%B0%D0%BC.ipynb)"
   ]
  },
  {
   "cell_type": "markdown",
   "id": "c652a756",
   "metadata": {
    "cellId": "ifj9p8ahyrblc4k64fe2ro"
   },
   "source": [
    "[Продолжение](./%D0%9F%D1%80%D0%B5%D0%B4%D1%81%D0%BA%D0%B0%D0%B7%D0%B0%D0%BD%D0%B8%D0%B5%20%D1%86%D0%B5%D0%BD%20%D0%BD%D0%B0%20%D0%B4%D0%BE%D0%BC%D0%B0.ipynb)"
   ]
  },
  {
   "cell_type": "code",
   "execution_count": null,
   "id": "1bff913e",
   "metadata": {
    "cellId": "xde45s8tmscgwfl2ae47oi"
   },
   "outputs": [],
   "source": []
  }
 ],
 "metadata": {
  "language_info": {
   "codemirror_mode": {
    "name": "ipython",
    "version": 3
   },
   "file_extension": ".py",
   "mimetype": "text/x-python",
   "name": "python",
   "nbconvert_exporter": "python",
   "pygments_lexer": "ipython3",
   "version": "3.7.7"
  },
  "notebookId": "0c3851de-29ea-4745-bd1a-7e98651067a1",
  "notebookPath": "deep-learning/chapter-3/Классификация новостных лент.ipynb"
 },
 "nbformat": 4,
 "nbformat_minor": 5
}
