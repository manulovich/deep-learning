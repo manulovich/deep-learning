{
 "cells": [
  {
   "cell_type": "markdown",
   "id": "87bce1e2-702b-4f31-bd2b-1cf72a542f54",
   "metadata": {},
   "source": [
    "# Классификация новостных лент"
   ]
  },
  {
   "cell_type": "markdown",
   "id": "a6cba253-3de1-4ec0-943c-e10d1876ac75",
   "metadata": {},
   "source": [
    "## Используемые библиотеки"
   ]
  },
  {
   "cell_type": "code",
   "execution_count": 15,
   "id": "66f21708-70da-4d14-ae64-b39bc0f70692",
   "metadata": {},
   "outputs": [],
   "source": [
    "from keras.datasets import reuters\n",
    "from keras import models\n",
    "from keras import layers\n",
    "from keras.utils.np_utils import to_categorical\n",
    "import numpy as np\n",
    "import matplotlib.pyplot as plt"
   ]
  },
  {
   "cell_type": "markdown",
   "id": "942f1b5c-4377-42a6-9825-a426c59dc030",
   "metadata": {},
   "source": [
    "## Загрузка данных"
   ]
  },
  {
   "cell_type": "code",
   "execution_count": 5,
   "id": "61e785ab-3ba5-40c1-b4ed-a9560c2444cd",
   "metadata": {},
   "outputs": [],
   "source": [
    "(train_data, train_labels), (test_data, test_labels) = reuters.load_data(num_words=10_000)"
   ]
  },
  {
   "cell_type": "markdown",
   "id": "7fa17aa3-85c0-473b-ba1a-864f2a8cf171",
   "metadata": {},
   "source": [
    "## Осмотр данных"
   ]
  },
  {
   "cell_type": "code",
   "execution_count": 6,
   "id": "03b44c8e-f6c5-4c55-b9ed-b3a66f45d7ff",
   "metadata": {},
   "outputs": [],
   "source": [
    "word_index = reuters.get_word_index()\n",
    "reverse_word_index = {word_index.get(key): key for key in word_index.keys()}"
   ]
  },
  {
   "cell_type": "code",
   "execution_count": 9,
   "id": "a0e86468-4fa1-42b0-acac-738a6419a57f",
   "metadata": {},
   "outputs": [],
   "source": [
    "string_decoding = ' '.join([reverse_word_index.get(idx) for idx in train_data[0]])"
   ]
  },
  {
   "cell_type": "markdown",
   "id": "424a657e-f7fc-431a-841d-368ce455437f",
   "metadata": {},
   "source": [
    "## Подготовка данных"
   ]
  },
  {
   "cell_type": "code",
   "execution_count": 10,
   "id": "62a00f15-2ec9-4549-ba3b-f8d2e809ebcf",
   "metadata": {},
   "outputs": [],
   "source": [
    "def vectorize_sequences(sequences, dimension = 10_000):\n",
    "    result = np.zeros((len(sequences), dimension))\n",
    "    \n",
    "    for i in range(len(sequences)):\n",
    "        result[i, sequences[i]] = 1\n",
    "        \n",
    "    return result"
   ]
  },
  {
   "cell_type": "code",
   "execution_count": 11,
   "id": "63f71fe1-9261-4992-b9ae-bfac7e46475b",
   "metadata": {},
   "outputs": [],
   "source": [
    "x_train = vectorize_sequences(train_data)\n",
    "x_test = vectorize_sequences(test_data)"
   ]
  },
  {
   "cell_type": "code",
   "execution_count": 19,
   "id": "2b59ceef-7848-47ae-ab8f-3bede7a7bc4c",
   "metadata": {},
   "outputs": [],
   "source": [
    "y_train = to_categorical(train_labels)\n",
    "y_test = to_categorical(test_labels)"
   ]
  },
  {
   "cell_type": "markdown",
   "id": "ba1a90fe-bf7a-4f42-97ae-b81dea354143",
   "metadata": {},
   "source": [
    "##  Обучение модели"
   ]
  },
  {
   "cell_type": "markdown",
   "id": "adfd6cd7-79ab-4456-8111-358a73ce9892",
   "metadata": {},
   "source": [
    "### Тренировочные и валидационные данные"
   ]
  },
  {
   "cell_type": "code",
   "execution_count": 25,
   "id": "45ef9b8a-2b6d-4ed2-a941-9f6b91247617",
   "metadata": {},
   "outputs": [],
   "source": [
    "x_val = x_train[:1000]\n",
    "x_train = x_train[1000:]"
   ]
  },
  {
   "cell_type": "code",
   "execution_count": 26,
   "id": "11a7f6b3-8f55-4017-86da-8ac615b56414",
   "metadata": {},
   "outputs": [],
   "source": [
    "y_val = y_train[:1000]\n",
    "y_train = y_train[1000:]"
   ]
  },
  {
   "cell_type": "markdown",
   "id": "2f987452-58dd-4257-9cd2-ca1d0b20862b",
   "metadata": {},
   "source": [
    "### Конструирование сети"
   ]
  },
  {
   "cell_type": "code",
   "execution_count": 72,
   "id": "42fc2c4d-e2b8-485e-8df5-2ad4ca824c4c",
   "metadata": {},
   "outputs": [],
   "source": [
    "def get_model():\n",
    "    model = models.Sequential()\n",
    "    model.add(layers.Dense(64, activation='relu', input_shape=(10_000,)))\n",
    "    model.add(layers.Dense(46, activation='softmax'))\n",
    "\n",
    "    model.compile(optimizer='rmsprop', loss='categorical_crossentropy', metrics=['accuracy'])\n",
    "    \n",
    "    return model"
   ]
  },
  {
   "cell_type": "markdown",
   "id": "54b0a5d5-d82e-4aeb-a2ab-3fbf91a2ad4a",
   "metadata": {},
   "source": [
    "### Обучение"
   ]
  },
  {
   "cell_type": "code",
   "execution_count": 73,
   "id": "97456c57-238c-46e3-9035-cd45fb8a2206",
   "metadata": {},
   "outputs": [
    {
     "name": "stdout",
     "output_type": "stream",
     "text": [
      "Epoch 1/20\n",
      "16/16 [==============================] - 1s 46ms/step - loss: 2.4477 - accuracy: 0.5611 - val_loss: 1.7162 - val_accuracy: 0.6530\n",
      "Epoch 2/20\n",
      "16/16 [==============================] - 1s 36ms/step - loss: 1.4151 - accuracy: 0.7215 - val_loss: 1.3078 - val_accuracy: 0.7300\n",
      "Epoch 3/20\n",
      "16/16 [==============================] - 1s 36ms/step - loss: 1.0416 - accuracy: 0.7864 - val_loss: 1.1175 - val_accuracy: 0.7600\n",
      "Epoch 4/20\n",
      "16/16 [==============================] - 1s 35ms/step - loss: 0.8149 - accuracy: 0.8338 - val_loss: 0.9919 - val_accuracy: 0.8000\n",
      "Epoch 5/20\n",
      "16/16 [==============================] - 1s 36ms/step - loss: 0.6525 - accuracy: 0.8712 - val_loss: 0.9207 - val_accuracy: 0.8090\n",
      "Epoch 6/20\n",
      "16/16 [==============================] - 1s 35ms/step - loss: 0.5301 - accuracy: 0.8961 - val_loss: 0.8753 - val_accuracy: 0.8150\n",
      "Epoch 7/20\n",
      "16/16 [==============================] - 1s 36ms/step - loss: 0.4354 - accuracy: 0.9132 - val_loss: 0.8499 - val_accuracy: 0.8210\n",
      "Epoch 8/20\n",
      "16/16 [==============================] - 1s 37ms/step - loss: 0.3613 - accuracy: 0.9267 - val_loss: 0.8255 - val_accuracy: 0.8260\n",
      "Epoch 9/20\n",
      "16/16 [==============================] - 1s 37ms/step - loss: 0.3031 - accuracy: 0.9379 - val_loss: 0.8213 - val_accuracy: 0.8250\n",
      "Epoch 10/20\n",
      "16/16 [==============================] - 1s 36ms/step - loss: 0.2583 - accuracy: 0.9421 - val_loss: 0.8233 - val_accuracy: 0.8260\n",
      "Epoch 11/20\n",
      "16/16 [==============================] - 1s 35ms/step - loss: 0.2253 - accuracy: 0.9489 - val_loss: 0.8206 - val_accuracy: 0.8280\n",
      "Epoch 12/20\n",
      "16/16 [==============================] - 1s 36ms/step - loss: 0.1979 - accuracy: 0.9499 - val_loss: 0.8240 - val_accuracy: 0.8240\n",
      "Epoch 13/20\n",
      "16/16 [==============================] - 1s 36ms/step - loss: 0.1759 - accuracy: 0.9520 - val_loss: 0.8358 - val_accuracy: 0.8230\n",
      "Epoch 14/20\n",
      "16/16 [==============================] - 1s 37ms/step - loss: 0.1567 - accuracy: 0.9558 - val_loss: 0.8658 - val_accuracy: 0.8130\n",
      "Epoch 15/20\n",
      "16/16 [==============================] - 1s 38ms/step - loss: 0.1454 - accuracy: 0.9541 - val_loss: 0.8558 - val_accuracy: 0.8140\n",
      "Epoch 16/20\n",
      "16/16 [==============================] - 1s 35ms/step - loss: 0.1340 - accuracy: 0.9559 - val_loss: 0.8671 - val_accuracy: 0.8220\n",
      "Epoch 17/20\n",
      "16/16 [==============================] - 1s 36ms/step - loss: 0.1264 - accuracy: 0.9577 - val_loss: 0.8922 - val_accuracy: 0.8180\n",
      "Epoch 18/20\n",
      "16/16 [==============================] - 1s 35ms/step - loss: 0.1178 - accuracy: 0.9569 - val_loss: 0.9110 - val_accuracy: 0.8180\n",
      "Epoch 19/20\n",
      "16/16 [==============================] - 1s 36ms/step - loss: 0.1134 - accuracy: 0.9577 - val_loss: 0.9209 - val_accuracy: 0.8110\n",
      "Epoch 20/20\n",
      "16/16 [==============================] - 1s 34ms/step - loss: 0.1072 - accuracy: 0.9568 - val_loss: 0.9255 - val_accuracy: 0.8200\n"
     ]
    }
   ],
   "source": [
    "model = get_model()\n",
    "history = model.fit(\n",
    "    x_train,\n",
    "    y_train,\n",
    "    epochs=20,\n",
    "    batch_size=512,\n",
    "    validation_data=(x_val, y_val)\n",
    ")"
   ]
  },
  {
   "cell_type": "markdown",
   "id": "7dffedea-29de-4a4d-a830-f09a51f73d11",
   "metadata": {
    "tags": []
   },
   "source": [
    "### Провека метрик"
   ]
  },
  {
   "cell_type": "code",
   "execution_count": 74,
   "id": "b4eca23d-eabb-495d-8e32-24c67b537539",
   "metadata": {},
   "outputs": [
    {
     "data": {
      "text/plain": [
       "dict_keys(['loss', 'accuracy', 'val_loss', 'val_accuracy'])"
      ]
     },
     "execution_count": 74,
     "metadata": {},
     "output_type": "execute_result"
    }
   ],
   "source": [
    "history_dict = history.history\n",
    "history_dict.keys()"
   ]
  },
  {
   "cell_type": "code",
   "execution_count": 75,
   "id": "5e61ec56-9599-4d10-b8bb-e90b7d8165ac",
   "metadata": {},
   "outputs": [],
   "source": [
    "loss = history_dict['loss']\n",
    "val_loss = history_dict['val_loss']"
   ]
  },
  {
   "cell_type": "code",
   "execution_count": 76,
   "id": "840efed4-1e7e-4d65-8c90-5b030d9a0863",
   "metadata": {},
   "outputs": [
    {
     "data": {
      "image/png": "[encoded data removed]",
      "text/plain": [
       "<Figure size 640x480 with 1 Axes>"
      ]
     },
     "metadata": {},
     "output_type": "display_data"
    }
   ],
   "source": [
    "epochs = range(1, len(loss) + 1)\n",
    "\n",
    "plt.plot(epochs, loss, label='Training loss')\n",
    "plt.plot(epochs, val_loss, label='Validation loss')\n",
    "plt.title('Training and validation data')\n",
    "plt.xlabel('Epochs')\n",
    "plt.ylabel('Loss')\n",
    "plt.legend()\n",
    "plt.show()"
   ]
  },
  {
   "cell_type": "code",
   "execution_count": 77,
   "id": "638611c8-9f39-43e5-8873-f9d36eaec166",
   "metadata": {},
   "outputs": [],
   "source": [
    "acc = history_dict['accuracy']\n",
    "val_acc = history_dict['val_accuracy']"
   ]
  },
  {
   "cell_type": "code",
   "execution_count": 78,
   "id": "3a51f81b-0366-4211-9796-fe56fa06e632",
   "metadata": {},
   "outputs": [
    {
     "data": {
      "image/png": "[encoded data removed]",
      "text/plain": [
       "<Figure size 640x480 with 1 Axes>"
      ]
     },
     "metadata": {},
     "output_type": "display_data"
    }
   ],
   "source": [
    "plt.plot(epochs, acc, label='Training accuracy')\n",
    "plt.plot(epochs, val_acc, label='Validation accuracy')\n",
    "plt.title('Training and validation accuracy')\n",
    "plt.xlabel('Epochs')\n",
    "plt.ylabel('Accuracy')\n",
    "plt.legend()\n",
    "plt.show()"
   ]
  },
  {
   "cell_type": "markdown",
   "id": "baf5f9e5-e794-4c19-9858-0601278c91e3",
   "metadata": {},
   "source": [
    "### Финальное обучение"
   ]
  },
  {
   "cell_type": "code",
   "execution_count": 79,
   "id": "aa6f4ab0-85a4-4c22-a15b-f273b9c8a5a0",
   "metadata": {},
   "outputs": [
    {
     "name": "stdout",
     "output_type": "stream",
     "text": [
      "Epoch 1/7\n",
      "16/16 [==============================] - 1s 44ms/step - loss: 2.7797 - accuracy: 0.5416 - val_loss: 1.9695 - val_accuracy: 0.6620\n",
      "Epoch 2/7\n",
      "16/16 [==============================] - 1s 36ms/step - loss: 1.5864 - accuracy: 0.7179 - val_loss: 1.3998 - val_accuracy: 0.7190\n",
      "Epoch 3/7\n",
      "16/16 [==============================] - 1s 37ms/step - loss: 1.1159 - accuracy: 0.7854 - val_loss: 1.1534 - val_accuracy: 0.7640\n",
      "Epoch 4/7\n",
      "16/16 [==============================] - 1s 36ms/step - loss: 0.8541 - accuracy: 0.8291 - val_loss: 1.0138 - val_accuracy: 0.8040\n",
      "Epoch 5/7\n",
      "16/16 [==============================] - 1s 37ms/step - loss: 0.6794 - accuracy: 0.8692 - val_loss: 0.9317 - val_accuracy: 0.8120\n",
      "Epoch 6/7\n",
      "16/16 [==============================] - 1s 36ms/step - loss: 0.5508 - accuracy: 0.8945 - val_loss: 0.8733 - val_accuracy: 0.8210\n",
      "Epoch 7/7\n",
      "16/16 [==============================] - 1s 35ms/step - loss: 0.4554 - accuracy: 0.9097 - val_loss: 0.8410 - val_accuracy: 0.8180\n"
     ]
    }
   ],
   "source": [
    "model = get_model()\n",
    "history = model.fit(\n",
    "    x_train,\n",
    "    y_train,\n",
    "    epochs=7,\n",
    "    batch_size=512,\n",
    "    validation_data=(x_val, y_val)\n",
    ")"
   ]
  },
  {
   "cell_type": "markdown",
   "id": "d4aaf3ea-9dc3-41f4-bf08-7b4889de54f4",
   "metadata": {},
   "source": [
    "## Результат"
   ]
  },
  {
   "cell_type": "code",
   "execution_count": 80,
   "id": "dcb289f8-4087-41c3-8b02-4d9181fb3572",
   "metadata": {},
   "outputs": [
    {
     "name": "stdout",
     "output_type": "stream",
     "text": [
      "71/71 [==============================] - 0s 3ms/step - loss: 0.9235 - accuracy: 0.7894\n"
     ]
    }
   ],
   "source": [
    "result = model.evaluate(x_test, y_test)"
   ]
  },
  {
   "cell_type": "code",
   "execution_count": 81,
   "id": "be222d9a-e6c5-4304-b543-e31173615346",
   "metadata": {},
   "outputs": [
    {
     "data": {
      "text/plain": [
       "[0.9234695434570312, 0.7894033789634705]"
      ]
     },
     "execution_count": 81,
     "metadata": {},
     "output_type": "execute_result"
    }
   ],
   "source": [
    "result"
   ]
  },
  {
   "cell_type": "markdown",
   "id": "a39a0569-8feb-484b-ba85-31b9302580b6",
   "metadata": {},
   "source": [
    "## Выводы\n",
    "\n",
    "Вывод такой же, каким и был в [предыдущем файле](./%D0%9A%D0%BB%D0%B0%D1%81%D1%81%D0%B8%D1%84%D0%B8%D0%BA%D0%B0%D1%86%D0%B8%D1%8F%20%D0%BE%D1%82%D0%B7%D1%8B%D0%B2%D0%BE%D0%B2%20%D0%BA%20%D1%84%D0%B8%D0%BB%D1%8C%D0%BC%D0%B0%D0%BC.ipynb)"
   ]
  },
  {
   "cell_type": "markdown",
   "id": "1e576794-d82f-4052-ae53-41449313bdce",
   "metadata": {},
   "source": [
    "[Продолжение](./%D0%9F%D1%80%D0%B5%D0%B4%D1%81%D0%BA%D0%B0%D0%B7%D0%B0%D0%BD%D0%B8%D0%B5%20%D1%86%D0%B5%D0%BD%20%D0%BD%D0%B0%20%D0%B4%D0%BE%D0%BC%D0%B0.ipynb)"
   ]
  },
  {
   "cell_type": "code",
   "execution_count": null,
   "id": "f43a1d4f-ad02-4586-a6c3-37120e24875f",
   "metadata": {},
   "outputs": [],
   "source": []
  }
 ],
 "metadata": {
  "kernelspec": {
   "display_name": "Python 3 (ipykernel)",
   "language": "python",
   "name": "python3"
  },
  "language_info": {
   "codemirror_mode": {
    "name": "ipython",
    "version": 3
   },
   "file_extension": ".py",
   "mimetype": "text/x-python",
   "name": "python",
   "nbconvert_exporter": "python",
   "pygments_lexer": "ipython3",
   "version": "3.10.6"
  }
 },
 "nbformat": 4,
 "nbformat_minor": 5
}
