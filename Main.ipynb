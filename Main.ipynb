{
 "cells": [
  {
   "cell_type": "markdown",
   "id": "46a2b99a",
   "metadata": {
    "cellId": "sbcfctcoa7sgbadf4kn5fb"
   },
   "source": [
    "# Глубокое обучение\n",
    "\n",
    "Данный репозиторий является отражением прочтения книги \"Глубокое обучение на Python\" автора Франсуа Шолле"
   ]
  },
  {
   "attachments": {},
   "cell_type": "markdown",
   "id": "018effc1",
   "metadata": {
    "cellId": "emuidac8t3rvqgpbv2vpo8",
    "execution_id": "716b1fc8-fc51-4100-9fbc-8358b165769e"
   },
   "source": [
    "## Содержание\n",
    "\n",
    "1. Глава 3. Начало работы с нейронными сетями\n",
    "    1. [Классификация отзывов к фильмам](./chapter-3/%D0%9A%D0%BB%D0%B0%D1%81%D1%81%D0%B8%D1%84%D0%B8%D0%BA%D0%B0%D1%86%D0%B8%D1%8F%20%D0%BE%D1%82%D0%B7%D1%8B%D0%B2%D0%BE%D0%B2%20%D0%BA%20%D1%84%D0%B8%D0%BB%D1%8C%D0%BC%D0%B0%D0%BC.ipynb)\n",
    "    2. [Классификация новостных лент](./chapter-3/%D0%9A%D0%BB%D0%B0%D1%81%D1%81%D0%B8%D1%84%D0%B8%D0%BA%D0%B0%D1%86%D0%B8%D1%8F%20%D0%BD%D0%BE%D0%B2%D0%BE%D1%81%D1%82%D0%BD%D1%8B%D1%85%20%D0%BB%D0%B5%D0%BD%D1%82.ipynb)\n",
    "    3. [Предсказание цен на дома](./chapter-3/%D0%9F%D1%80%D0%B5%D0%B4%D1%81%D0%BA%D0%B0%D0%B7%D0%B0%D0%BD%D0%B8%D0%B5%20%D1%86%D0%B5%D0%BD%20%D0%BD%D0%B0%20%D0%B4%D0%BE%D0%BC%D0%B0.ipynb)\n",
    "2. Глава 4. Основы машинного обучения\n",
    "    1. [Борьба с переобучением](./chapter-4/%D0%9C%D0%B5%D1%82%D0%BE%D0%B4%D1%8B%20%D0%B1%D0%BE%D1%80%D1%8C%D0%B1%D1%8B%20%D1%81%20%D0%BF%D0%B5%D1%80%D0%B5%D0%BE%D0%B1%D1%83%D1%87%D0%B5%D0%BD%D0%B8%D0%B5%D0%BC.ipynb)\n",
    "___\n",
    "__Промежуточная проверка знаний__\n",
    "1. [Предсказание стоимости недвижимости](./intermediate-models/house-prices/%D0%9F%D1%80%D0%B5%D0%B4%D1%81%D0%BA%D0%B0%D0%B7%D0%B0%D0%BD%D0%B8%D0%B5%20%D1%81%D1%82%D0%BE%D0%B8%D0%BC%D0%BE%D1%81%D1%82%D0%B8%20%D0%BD%D0%B5%D0%B4%D0%B2%D0%B8%D0%B6%D0%B8%D0%BC%D0%BE%D1%81%D1%82%D0%B8.ipynb)\n",
    "___\n",
    "3. Глава 5. Глубокое обучение в технологиях компьютерного зрения\n",
    "    1. [Сверточная нейронная сеть с нуля](./chapter-5/%D0%A1%D0%B2%D0%B5%D1%80%D1%82%D0%BE%D1%87%D0%BD%D0%B0%D1%8F%20%D0%BD%D0%B5%D0%B9%D1%80%D0%BE%D0%BD%D0%BD%D0%B0%D1%8F%20%D1%81%D0%B5%D1%82%D1%8C%20%D1%81%20%D0%BD%D1%83%D0%BB%D1%8F.ipynb)\n",
    "    2. [Использование предварительно обученной CNN](./chapter-5/%D0%98%D1%81%D0%BF%D0%BE%D0%BB%D1%8C%D0%B7%D0%BE%D0%B2%D0%B0%D0%BD%D0%B8%D0%B5%20%D0%BF%D1%80%D0%B5%D0%B4%D0%B2%D0%B0%D1%80%D0%B8%D1%82%D0%B5%D0%BB%D1%8C%D0%BD%D0%BE%20%D0%BE%D0%B1%D1%83%D1%87%D0%B5%D0%BD%D0%BD%D0%BE%D0%B9%20CNN.ipynb)\n",
    "___\n",
    "__Промежуточная проверка знаний__\n",
    "1. [Классификация изображений Тома и Джерри](./intermediate-models/tom-and-jerry/Классификация изображений Тома и Джери.ipynb)\n",
    "___"
   ]
  }
 ],
 "metadata": {
  "kernelspec": {
   "display_name": "Python 3",
   "language": "python",
   "name": "python3"
  },
  "language_info": {
   "codemirror_mode": {
    "name": "ipython",
    "version": 3
   },
   "file_extension": ".py",
   "mimetype": "text/x-python",
   "name": "python",
   "nbconvert_exporter": "python",
   "pygments_lexer": "ipython3",
   "version": "3.10.5 (v3.10.5:f377153967, Jun  6 2022, 12:36:10) [Clang 13.0.0 (clang-1300.0.29.30)]"
  },
  "notebookId": "ca93d2e5-2d23-4443-a75a-134c5eb72f15",
  "notebookPath": "deep-learning/Main.ipynb",
  "vscode": {
   "interpreter": {
    "hash": "aee8b7b246df8f9039afb4144a1f6fd8d2ca17a180786b69acc140d282b71a49"
   }
  }
 },
 "nbformat": 4,
 "nbformat_minor": 5
}
