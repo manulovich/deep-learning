{
 "cells": [
  {
   "cell_type": "markdown",
   "id": "442bcc0c-3921-4fa3-ac35-ad64f509c687",
   "metadata": {},
   "source": [
    "# Глубокое обучение\n",
    "\n",
    "Данный репозиторий является отражением прочтения книги \"Глубокое обучение на Python\" автора Франсуа Шолле"
   ]
  },
  {
   "cell_type": "markdown",
   "id": "80dccc02-0a41-4458-839f-fb7226577dea",
   "metadata": {},
   "source": [
    "## Содержание\n",
    "\n",
    "1. Глава 3. Начало работы с нейронными сетями\n",
    "    1. [Классификация отзывов к фильмам](./chapter-3/%D0%9A%D0%BB%D0%B0%D1%81%D1%81%D0%B8%D1%84%D0%B8%D0%BA%D0%B0%D1%86%D0%B8%D1%8F%20%D0%BE%D1%82%D0%B7%D1%8B%D0%B2%D0%BE%D0%B2%20%D0%BA%20%D1%84%D0%B8%D0%BB%D1%8C%D0%BC%D0%B0%D0%BC.ipynb)\n",
    "    2. [Классификация новостных лент](./chapter-3/%D0%9A%D0%BB%D0%B0%D1%81%D1%81%D0%B8%D1%84%D0%B8%D0%BA%D0%B0%D1%86%D0%B8%D1%8F%20%D0%BD%D0%BE%D0%B2%D0%BE%D1%81%D1%82%D0%BD%D1%8B%D1%85%20%D0%BB%D0%B5%D0%BD%D1%82.ipynb)\n",
    "    3. [Предсказание цен на дома](./chapter-3/%D0%9F%D1%80%D0%B5%D0%B4%D1%81%D0%BA%D0%B0%D0%B7%D0%B0%D0%BD%D0%B8%D0%B5%20%D1%86%D0%B5%D0%BD%20%D0%BD%D0%B0%20%D0%B4%D0%BE%D0%BC%D0%B0.ipynb)\n",
    "2. Глава 4. Основы машинного обучения\n",
    "    1. [Борьба с переобучением](./chapter-4/%D0%9C%D0%B5%D1%82%D0%BE%D0%B4%D1%8B%20%D0%B1%D0%BE%D1%80%D1%8C%D0%B1%D1%8B%20%D1%81%20%D0%BF%D0%B5%D1%80%D0%B5%D0%BE%D0%B1%D1%83%D1%87%D0%B5%D0%BD%D0%B8%D0%B5%D0%BC.ipynb)\n",
    "___\n",
    "__Промежуточная проверка знаний__\n",
    "1. [Предсказание стоимости недвижимости](./intermediate-models/house-prices/%D0%9F%D1%80%D0%B5%D0%B4%D1%81%D0%BA%D0%B0%D0%B7%D0%B0%D0%BD%D0%B8%D0%B5%20%D1%81%D1%82%D0%BE%D0%B8%D0%BC%D0%BE%D1%81%D1%82%D0%B8%20%D0%BD%D0%B5%D0%B4%D0%B2%D0%B8%D0%B6%D0%B8%D0%BC%D0%BE%D1%81%D1%82%D0%B8.ipynb)\n",
    "___\n",
    "3. Глава 5. Глубокое обучение в технологиях компьютерного зрения\n",
    "    1. [Сверточная нейронная сеть с нуля](./chapter-5/%D0%A1%D0%B2%D0%B5%D1%80%D1%82%D0%BE%D1%87%D0%BD%D0%B0%D1%8F%20%D0%BD%D0%B5%D0%B9%D1%80%D0%BE%D0%BD%D0%BD%D0%B0%D1%8F%20%D1%81%D0%B5%D1%82%D1%8C%20%D1%81%20%D0%BD%D1%83%D0%BB%D1%8F.ipynb)"
   ]
  },
  {
   "cell_type": "code",
   "execution_count": null,
   "id": "83a9abf5-eded-4317-90ac-46361f9eab6d",
   "metadata": {},
   "outputs": [],
   "source": []
  }
 ],
 "metadata": {
  "kernelspec": {
   "display_name": "Python 3 (ipykernel)",
   "language": "python",
   "name": "python3"
  },
  "language_info": {
   "codemirror_mode": {
    "name": "ipython",
    "version": 3
   },
   "file_extension": ".py",
   "mimetype": "text/x-python",
   "name": "python",
   "nbconvert_exporter": "python",
   "pygments_lexer": "ipython3",
   "version": "3.10.6"
  }
 },
 "nbformat": 4,
 "nbformat_minor": 5
}
