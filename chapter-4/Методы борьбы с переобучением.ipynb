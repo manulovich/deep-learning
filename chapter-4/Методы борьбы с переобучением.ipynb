{
 "cells": [
  {
   "cell_type": "markdown",
   "id": "3f2d035c-53d8-4a90-ac46-62d7da33c6c1",
   "metadata": {},
   "source": [
    "# Методы борьбы с переобучением\n",
    "\n",
    "Для тестирования методов для борьбы с переобучением воспользуемся датасетом Reuters.\n",
    "Не будем изобретать велосипед, для этого воспользуемся уже [готовым ноутбуком](./%D0%9A%D0%BB%D0%B0%D1%81%D1%81%D0%B8%D1%84%D0%B8%D0%BA%D0%B0%D1%86%D0%B8%D1%8F%20%D0%BD%D0%BE%D0%B2%D0%BE%D1%81%D1%82%D0%BD%D1%8B%D1%85%20%D0%BB%D0%B5%D0%BD%D1%82.ipynb)."
   ]
  },
  {
   "cell_type": "markdown",
   "id": "061937c6-62a5-4a65-bfae-eb03c4a04302",
   "metadata": {},
   "source": [
    "## Используемые библиотеки"
   ]
  },
  {
   "cell_type": "code",
   "execution_count": 123,
   "id": "fd5c111a-7cb9-469e-a908-206708c35cf0",
   "metadata": {},
   "outputs": [],
   "source": [
    "import keras\n",
    "import numpy as np\n",
    "from keras import layers\n",
    "from keras import regularizers\n",
    "import matplotlib.pyplot as plt\n",
    "from keras import Sequential\n",
    "from keras.datasets import reuters"
   ]
  },
  {
   "cell_type": "markdown",
   "id": "11c0528a-1e3e-4942-b951-c686d09f1067",
   "metadata": {},
   "source": [
    "## Утилиты"
   ]
  },
  {
   "cell_type": "code",
   "execution_count": 58,
   "id": "10c87b1c-15e5-4fb4-936b-a999994e9005",
   "metadata": {},
   "outputs": [],
   "source": [
    "def vectorization(array: np.array, dimension: int = 10_000):\n",
    "    data = np.zeros((len(array), dimension))\n",
    "    \n",
    "    for i, sequence in enumerate(array):\n",
    "        data[i, sequence] = 1\n",
    "    \n",
    "    return data"
   ]
  },
  {
   "cell_type": "markdown",
   "id": "422ed0ce-bd5d-448b-a041-d985d6525f88",
   "metadata": {},
   "source": [
    "## Загрузка данных"
   ]
  },
  {
   "cell_type": "code",
   "execution_count": 59,
   "id": "9c7e9a8a-a67a-483d-ae4a-bee1d3f17491",
   "metadata": {},
   "outputs": [],
   "source": [
    "(x_train, y_train), (x_test, y_test) = reuters.load_data(num_words=10_000)"
   ]
  },
  {
   "cell_type": "markdown",
   "id": "430288b3-f88f-46e9-89c7-186fc3bb3588",
   "metadata": {},
   "source": [
    "## Подготовка данных"
   ]
  },
  {
   "cell_type": "code",
   "execution_count": 60,
   "id": "d8358bd4-9437-44bf-a46c-b68170d9aac8",
   "metadata": {},
   "outputs": [],
   "source": [
    "x_train = vectorization(x_train)\n",
    "x_test = vectorization(x_test)"
   ]
  },
  {
   "cell_type": "code",
   "execution_count": 61,
   "id": "44821616-ab09-4f54-8316-afe1e1aa8402",
   "metadata": {},
   "outputs": [],
   "source": [
    "y_train = vectorization(y_train, 46)\n",
    "y_test = vectorization(y_test, 46)"
   ]
  },
  {
   "cell_type": "markdown",
   "id": "093d4d6b-c86c-44cf-bbd9-d1b990de174a",
   "metadata": {},
   "source": [
    "## Тренировочные и валидационные данные"
   ]
  },
  {
   "cell_type": "code",
   "execution_count": 62,
   "id": "9a73fd56-165f-45cd-b6ab-575b5b39e27f",
   "metadata": {},
   "outputs": [],
   "source": [
    "x_data = x_train\n",
    "y_data = y_train\n",
    "\n",
    "x_train = x_data[:7_000]\n",
    "y_train = y_data[:7_000]\n",
    "\n",
    "x_val = x_data[7_000:]\n",
    "y_val = y_data[7_000:]"
   ]
  },
  {
   "cell_type": "markdown",
   "id": "c568f5e7-afc4-48cb-b476-1948bb468ade",
   "metadata": {},
   "source": [
    "## Конструирование сети"
   ]
  },
  {
   "cell_type": "code",
   "execution_count": 149,
   "id": "6d52fdc8-5156-477c-9893-1cb9915501c5",
   "metadata": {},
   "outputs": [],
   "source": [
    "def build_model():\n",
    "    model = Sequential()\n",
    "\n",
    "    model.add(layers.Dense(64, kernel_regularizer=regularizers.l2(0.001), activation='relu', input_shape=(10_000,)))\n",
    "    model.add(layers.Dense(64, kernel_regularizer=regularizers.l2(0.001), activation='relu'))\n",
    "    model.add(layers.Dense(46, activation='softmax'))\n",
    "\n",
    "    model.compile(optimizer='rmsprop', loss='categorical_crossentropy', metrics=['accuracy'])\n",
    "    \n",
    "    return model"
   ]
  },
  {
   "cell_type": "markdown",
   "id": "97b10902-2557-48d5-a4da-2531b7022bf8",
   "metadata": {},
   "source": [
    "## Первичное обучение"
   ]
  },
  {
   "cell_type": "code",
   "execution_count": 150,
   "id": "f0faf5dd-4a43-4a60-a92b-c38a84008f22",
   "metadata": {},
   "outputs": [
    {
     "name": "stdout",
     "output_type": "stream",
     "text": [
      "Epoch 1/20\n",
      "14/14 [==============================] - 1s 60ms/step - loss: 2.8124 - accuracy: 0.5383 - val_loss: 1.8939 - val_accuracy: 0.6655\n",
      "Epoch 2/20\n",
      "14/14 [==============================] - 1s 46ms/step - loss: 1.6160 - accuracy: 0.6979 - val_loss: 1.4956 - val_accuracy: 0.7064\n",
      "Epoch 3/20\n",
      "14/14 [==============================] - 1s 59ms/step - loss: 1.2864 - accuracy: 0.7550 - val_loss: 1.3620 - val_accuracy: 0.7386\n",
      "Epoch 4/20\n",
      "14/14 [==============================] - 1s 49ms/step - loss: 1.1004 - accuracy: 0.8037 - val_loss: 1.2891 - val_accuracy: 0.7563\n",
      "Epoch 5/20\n",
      "14/14 [==============================] - 1s 49ms/step - loss: 0.9647 - accuracy: 0.8356 - val_loss: 1.2369 - val_accuracy: 0.7704\n",
      "Epoch 6/20\n",
      "14/14 [==============================] - 1s 46ms/step - loss: 0.8555 - accuracy: 0.8604 - val_loss: 1.2088 - val_accuracy: 0.7775\n",
      "Epoch 7/20\n",
      "14/14 [==============================] - 1s 46ms/step - loss: 0.7806 - accuracy: 0.8817 - val_loss: 1.1808 - val_accuracy: 0.7886\n",
      "Epoch 8/20\n",
      "14/14 [==============================] - 1s 48ms/step - loss: 0.7067 - accuracy: 0.9010 - val_loss: 1.1494 - val_accuracy: 0.7997\n",
      "Epoch 9/20\n",
      "14/14 [==============================] - 1s 62ms/step - loss: 0.6519 - accuracy: 0.9159 - val_loss: 1.1308 - val_accuracy: 0.8047\n",
      "Epoch 10/20\n",
      "14/14 [==============================] - 1s 46ms/step - loss: 0.6082 - accuracy: 0.9246 - val_loss: 1.1329 - val_accuracy: 0.8002\n",
      "Epoch 11/20\n",
      "14/14 [==============================] - 1s 45ms/step - loss: 0.5679 - accuracy: 0.9327 - val_loss: 1.1425 - val_accuracy: 0.8032\n",
      "Epoch 12/20\n",
      "14/14 [==============================] - 1s 46ms/step - loss: 0.5424 - accuracy: 0.9383 - val_loss: 1.1096 - val_accuracy: 0.8078\n",
      "Epoch 13/20\n",
      "14/14 [==============================] - 1s 46ms/step - loss: 0.5121 - accuracy: 0.9446 - val_loss: 1.1150 - val_accuracy: 0.8133\n",
      "Epoch 14/20\n",
      "14/14 [==============================] - 1s 46ms/step - loss: 0.5014 - accuracy: 0.9460 - val_loss: 1.1229 - val_accuracy: 0.8027\n",
      "Epoch 15/20\n",
      "14/14 [==============================] - 1s 65ms/step - loss: 0.4789 - accuracy: 0.9489 - val_loss: 1.1341 - val_accuracy: 0.8012\n",
      "Epoch 16/20\n",
      "14/14 [==============================] - 1s 46ms/step - loss: 0.4647 - accuracy: 0.9527 - val_loss: 1.1569 - val_accuracy: 0.7931\n",
      "Epoch 17/20\n",
      "14/14 [==============================] - 1s 45ms/step - loss: 0.4486 - accuracy: 0.9553 - val_loss: 1.1059 - val_accuracy: 0.8068\n",
      "Epoch 18/20\n",
      "14/14 [==============================] - 1s 46ms/step - loss: 0.4441 - accuracy: 0.9549 - val_loss: 1.1193 - val_accuracy: 0.8027\n",
      "Epoch 19/20\n",
      "14/14 [==============================] - 1s 45ms/step - loss: 0.4292 - accuracy: 0.9571 - val_loss: 1.1125 - val_accuracy: 0.8073\n",
      "Epoch 20/20\n",
      "14/14 [==============================] - 1s 45ms/step - loss: 0.4219 - accuracy: 0.9586 - val_loss: 1.1127 - val_accuracy: 0.8088\n"
     ]
    }
   ],
   "source": [
    "model = build_model()\n",
    "history = model.fit(\n",
    "    x_train,\n",
    "    y_train,\n",
    "    batch_size=512,\n",
    "    epochs=20,\n",
    "    validation_data=(x_val, y_val)\n",
    ")"
   ]
  },
  {
   "cell_type": "markdown",
   "id": "574b77aa-7625-44a2-b0c5-357463059744",
   "metadata": {},
   "source": [
    "### Контроль качества"
   ]
  },
  {
   "cell_type": "code",
   "execution_count": 151,
   "id": "9484f1c1-ca7f-4d0b-ac18-0d6f32d45791",
   "metadata": {},
   "outputs": [],
   "source": [
    "history_dict = history.history"
   ]
  },
  {
   "cell_type": "code",
   "execution_count": 152,
   "id": "2e8da0ed-e010-4c54-9bfe-16de4b3cb4ec",
   "metadata": {},
   "outputs": [
    {
     "data": {
      "text/plain": [
       "dict_keys(['loss', 'accuracy', 'val_loss', 'val_accuracy'])"
      ]
     },
     "execution_count": 152,
     "metadata": {},
     "output_type": "execute_result"
    }
   ],
   "source": [
    "history_dict.keys()"
   ]
  },
  {
   "cell_type": "code",
   "execution_count": 153,
   "id": "7b62bcdb-2482-48ef-9668-1c8706664dc2",
   "metadata": {},
   "outputs": [
    {
     "data": {
      "image/png": "[encoded data removed]",
      "text/plain": [
       "<Figure size 640x480 with 1 Axes>"
      ]
     },
     "metadata": {},
     "output_type": "display_data"
    }
   ],
   "source": [
    "epochs = range(len(history_dict['val_loss']))\n",
    "\n",
    "fig, ax = plt.subplots()\n",
    "\n",
    "ax.plot(epochs, history_dict['val_loss'], label='Validation loss')\n",
    "ax.plot(epochs, history_dict['loss'], label='Training loss')\n",
    "ax.set(xlabel='Epoch', ylabel='loss', title='Loss chart')\n",
    "\n",
    "plt.legend()\n",
    "plt.show()"
   ]
  },
  {
   "cell_type": "code",
   "execution_count": 154,
   "id": "181b3070-0172-4c7a-8094-a3b8a6284c87",
   "metadata": {},
   "outputs": [
    {
     "data": {
      "image/png": "[encoded data removed]",
      "text/plain": [
       "<Figure size 640x480 with 1 Axes>"
      ]
     },
     "metadata": {},
     "output_type": "display_data"
    }
   ],
   "source": [
    "epochs = range(len(history_dict['val_loss']))\n",
    "\n",
    "fig, ax = plt.subplots()\n",
    "\n",
    "ax.plot(epochs, history_dict['val_accuracy'], label='Validation accuracy')\n",
    "ax.plot(epochs, history_dict['accuracy'], label='Training accuracy')\n",
    "ax.set(xlabel='Epoch', ylabel='accuracy', title='Accuracy chart')\n",
    "\n",
    "plt.legend()\n",
    "plt.show()"
   ]
  },
  {
   "cell_type": "code",
   "execution_count": 155,
   "id": "fefcac5b-fb30-488a-8c45-3a1a5814f9fb",
   "metadata": {},
   "outputs": [
    {
     "name": "stdout",
     "output_type": "stream",
     "text": [
      "Model: \"sequential_14\"\n",
      "_________________________________________________________________\n",
      " Layer (type)                Output Shape              Param #   \n",
      "=================================================================\n",
      " dense_45 (Dense)            (None, 64)                640064    \n",
      "                                                                 \n",
      " dense_46 (Dense)            (None, 64)                4160      \n",
      "                                                                 \n",
      " dense_47 (Dense)            (None, 46)                2990      \n",
      "                                                                 \n",
      "=================================================================\n",
      "Total params: 647,214\n",
      "Trainable params: 647,214\n",
      "Non-trainable params: 0\n",
      "_________________________________________________________________\n"
     ]
    }
   ],
   "source": [
    "model.summary()"
   ]
  },
  {
   "cell_type": "markdown",
   "id": "a2fcabf8-8b5e-4edb-8cda-c420b5fde96e",
   "metadata": {},
   "source": [
    "## Финальное обучение"
   ]
  },
  {
   "cell_type": "code",
   "execution_count": 156,
   "id": "1a6b161c-927c-44a8-b662-63bfa5c72525",
   "metadata": {},
   "outputs": [
    {
     "name": "stdout",
     "output_type": "stream",
     "text": [
      "Epoch 1/10\n",
      "14/14 [==============================] - 2s 63ms/step - loss: 2.8332 - accuracy: 0.4826 - val_loss: 1.9642 - val_accuracy: 0.6559\n",
      "Epoch 2/10\n",
      "14/14 [==============================] - 1s 65ms/step - loss: 1.6741 - accuracy: 0.6824 - val_loss: 1.5363 - val_accuracy: 0.7190\n",
      "Epoch 3/10\n",
      "14/14 [==============================] - 1s 46ms/step - loss: 1.3206 - accuracy: 0.7547 - val_loss: 1.3762 - val_accuracy: 0.7417\n",
      "Epoch 4/10\n",
      "14/14 [==============================] - 1s 46ms/step - loss: 1.1223 - accuracy: 0.7970 - val_loss: 1.2998 - val_accuracy: 0.7492\n",
      "Epoch 5/10\n",
      "14/14 [==============================] - 1s 46ms/step - loss: 0.9883 - accuracy: 0.8299 - val_loss: 1.2452 - val_accuracy: 0.7684\n",
      "Epoch 6/10\n",
      "14/14 [==============================] - 1s 48ms/step - loss: 0.8832 - accuracy: 0.8514 - val_loss: 1.2165 - val_accuracy: 0.7760\n",
      "Epoch 7/10\n",
      "14/14 [==============================] - 1s 60ms/step - loss: 0.8022 - accuracy: 0.8733 - val_loss: 1.1736 - val_accuracy: 0.7891\n",
      "Epoch 8/10\n",
      "14/14 [==============================] - 1s 48ms/step - loss: 0.7336 - accuracy: 0.8910 - val_loss: 1.1693 - val_accuracy: 0.7931\n",
      "Epoch 9/10\n",
      "14/14 [==============================] - 1s 47ms/step - loss: 0.6840 - accuracy: 0.9053 - val_loss: 1.1642 - val_accuracy: 0.7936\n",
      "Epoch 10/10\n",
      "14/14 [==============================] - 1s 45ms/step - loss: 0.6356 - accuracy: 0.9157 - val_loss: 1.1301 - val_accuracy: 0.8027\n",
      "71/71 [==============================] - 0s 4ms/step - loss: 1.1821 - accuracy: 0.7845\n"
     ]
    }
   ],
   "source": [
    "model = build_model()\n",
    "model.fit(\n",
    "    x_train,\n",
    "    y_train,\n",
    "    batch_size=512,\n",
    "    epochs=10,\n",
    "    validation_data=(x_val, y_val)\n",
    ")\n",
    "result = model.evaluate(x_test, y_test)"
   ]
  },
  {
   "cell_type": "code",
   "execution_count": 157,
   "id": "688f9674-ade6-438f-a9ba-c0159f38f285",
   "metadata": {},
   "outputs": [
    {
     "data": {
      "text/plain": [
       "[1.1821422576904297, 0.7845057845115662]"
      ]
     },
     "execution_count": 157,
     "metadata": {},
     "output_type": "execute_result"
    }
   ],
   "source": [
    "result"
   ]
  },
  {
   "cell_type": "markdown",
   "id": "8469345a-4d60-4458-9c99-5fff4ce07732",
   "metadata": {},
   "source": [
    "## Вывод\n",
    "### Первичная модель\n",
    "```py\n",
    "Model: \"sequential_3\"\n",
    "_________________________________________________________________\n",
    " Layer (type)                Output Shape              Param #   \n",
    "=================================================================\n",
    " dense_9 (Dense)             (None, 64)                640064    \n",
    "                                                                 \n",
    " dense_10 (Dense)            (None, 64)                4160      \n",
    "                                                                 \n",
    " dense_11 (Dense)            (None, 46)                2990      \n",
    "                                                                 \n",
    "=================================================================\n",
    "Total params: 647,214\n",
    "Trainable params: 647,214\n",
    "Non-trainable params: 0\n",
    "_________________________________________________________________\n",
    "```\n",
    "\n",
    "1. Переобучение - > 5\n",
    "2. Потери - 1\n",
    "3. Точность - 0.8\n",
    "\n",
    "### Вторая модель\n",
    "```py\n",
    "Model: \"sequential_9\"\n",
    "_________________________________________________________________\n",
    " Layer (type)                Output Shape              Param #   \n",
    "=================================================================\n",
    " dense_28 (Dense)            (None, 64)                640064    \n",
    "                                                                 \n",
    " dropout_4 (Dropout)         (None, 64)                0         \n",
    "                                                                 \n",
    " dense_29 (Dense)            (None, 64)                4160      \n",
    "                                                                 \n",
    " dropout_5 (Dropout)         (None, 64)                0         \n",
    "                                                                 \n",
    " dense_30 (Dense)            (None, 46)                2990      \n",
    "                                                                 \n",
    "=================================================================\n",
    "Total params: 647,214\n",
    "Trainable params: 647,214\n",
    "Non-trainable params: 0\n",
    "_________________________________________________________________\n",
    "```\n",
    "\n",
    "1. Переобучение - > 10\n",
    "2. Потери - 1\n",
    "3. Точность - 0.7 - 0.8\n",
    "\n",
    "### Третья модель\n",
    "```py\n",
    "Model: \"sequential_14\"\n",
    "_________________________________________________________________\n",
    " Layer (type)                Output Shape              Param #   \n",
    "=================================================================\n",
    " dense_45 (Dense)            (None, 64)                640064    \n",
    "                                                                 \n",
    " dense_46 (Dense)            (None, 64)                4160      \n",
    "                                                                 \n",
    " dense_47 (Dense)            (None, 46)                2990      \n",
    "                                                                 \n",
    "=================================================================\n",
    "Total params: 647,214\n",
    "Trainable params: 647,214\n",
    "Non-trainable params: 0\n",
    "_________________________________________________________________\n",
    "```\n",
    "+\n",
    "`kernel_regularizer=regularizers.l2(0.001)`\n",
    "\n",
    "1. Переобучение - > 10\n",
    "2. Потери - 1\n",
    "3. Точность - 0.7 - 0.8"
   ]
  },
  {
   "cell_type": "markdown",
   "id": "c27f6a2a-7144-4181-bbfc-ae2ba80a5430",
   "metadata": {},
   "source": [
    "Регуляризация модели, как и прореживание(Dropout) позволяет уменьшить эффект переобучение. Но при этом как и повышение нейронов в каждом слое, так и количество слоев не ведет к увелечению качества самой модели. По крайней мере для данной природы данных"
   ]
  },
  {
   "cell_type": "code",
   "execution_count": null,
   "id": "51be3dca-052a-404c-9204-a954b22999c7",
   "metadata": {},
   "outputs": [],
   "source": []
  }
 ],
 "metadata": {
  "kernelspec": {
   "display_name": "Python 3 (ipykernel)",
   "language": "python",
   "name": "python3"
  },
  "language_info": {
   "codemirror_mode": {
    "name": "ipython",
    "version": 3
   },
   "file_extension": ".py",
   "mimetype": "text/x-python",
   "name": "python",
   "nbconvert_exporter": "python",
   "pygments_lexer": "ipython3",
   "version": "3.10.6"
  }
 },
 "nbformat": 4,
 "nbformat_minor": 5
}
