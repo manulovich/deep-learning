{
 "cells": [
  {
   "cell_type": "markdown",
   "id": "80a8c8b9",
   "metadata": {
    "cellId": "my09x0u6kscnhr0rm9lfrh"
   },
   "source": [
    "# Методы борьбы с переобучением\n",
    "\n",
    "Для тестирования методов для борьбы с переобучением воспользуемся датасетом Reuters.\n",
    "Не будем изобретать велосипед, для этого воспользуемся уже [готовым ноутбуком](./%D0%9A%D0%BB%D0%B0%D1%81%D1%81%D0%B8%D1%84%D0%B8%D0%BA%D0%B0%D1%86%D0%B8%D1%8F%20%D0%BD%D0%BE%D0%B2%D0%BE%D1%81%D1%82%D0%BD%D1%8B%D1%85%20%D0%BB%D0%B5%D0%BD%D1%82.ipynb)."
   ]
  },
  {
   "cell_type": "markdown",
   "id": "8da67d83",
   "metadata": {
    "cellId": "lvix2wxu2bfoa73bx26m"
   },
   "source": [
    "## Используемые библиотеки"
   ]
  },
  {
   "cell_type": "code",
   "execution_count": 123,
   "id": "a28b0824",
   "metadata": {
    "cellId": "avrlnq7imgl1zmq32x3y67"
   },
   "outputs": [],
   "source": [
    "import keras\n",
    "import numpy as np\n",
    "from keras import layers\n",
    "from keras import regularizers\n",
    "import matplotlib.pyplot as plt\n",
    "from keras import Sequential\n",
    "from keras.datasets import reuters"
   ]
  },
  {
   "cell_type": "markdown",
   "id": "cc402953",
   "metadata": {
    "cellId": "rngqjfe6a2t3cmjgc7z0g"
   },
   "source": [
    "## Утилиты"
   ]
  },
  {
   "cell_type": "code",
   "execution_count": 58,
   "id": "fa667191",
   "metadata": {
    "cellId": "c5rswkyq5mcjgpvljdu7q"
   },
   "outputs": [],
   "source": [
    "def vectorization(array: np.array, dimension: int = 10_000):\n",
    "    data = np.zeros((len(array), dimension))\n",
    "    \n",
    "    for i, sequence in enumerate(array):\n",
    "        data[i, sequence] = 1\n",
    "    \n",
    "    return data"
   ]
  },
  {
   "cell_type": "markdown",
   "id": "42e4edd8",
   "metadata": {
    "cellId": "7b90n5zqdu83bvyxvyl38q"
   },
   "source": [
    "## Загрузка данных"
   ]
  },
  {
   "cell_type": "code",
   "execution_count": 59,
   "id": "6a99129d",
   "metadata": {
    "cellId": "z8ufflyis3kdzmy6lt7szg"
   },
   "outputs": [],
   "source": [
    "(x_train, y_train), (x_test, y_test) = reuters.load_data(num_words=10_000)"
   ]
  },
  {
   "cell_type": "markdown",
   "id": "d32fdcfd",
   "metadata": {
    "cellId": "63lwnwuu8l8uxgknt41xme"
   },
   "source": [
    "## Подготовка данных"
   ]
  },
  {
   "cell_type": "code",
   "execution_count": 60,
   "id": "493dd728",
   "metadata": {
    "cellId": "5eutiyh2bqst8hri724ofl"
   },
   "outputs": [],
   "source": [
    "x_train = vectorization(x_train)\n",
    "x_test = vectorization(x_test)"
   ]
  },
  {
   "cell_type": "code",
   "execution_count": 61,
   "id": "f5557502",
   "metadata": {
    "cellId": "5jxp157e80vlgpabtxyu6d"
   },
   "outputs": [],
   "source": [
    "y_train = vectorization(y_train, 46)\n",
    "y_test = vectorization(y_test, 46)"
   ]
  },
  {
   "cell_type": "markdown",
   "id": "19ef61a8",
   "metadata": {
    "cellId": "hceragh5ywjm05utox6v1"
   },
   "source": [
    "## Тренировочные и валидационные данные"
   ]
  },
  {
   "cell_type": "code",
   "execution_count": 62,
   "id": "42292f39",
   "metadata": {
    "cellId": "zaduwqgmhfvodfau9vurn"
   },
   "outputs": [],
   "source": [
    "x_data = x_train\n",
    "y_data = y_train\n",
    "\n",
    "x_train = x_data[:7_000]\n",
    "y_train = y_data[:7_000]\n",
    "\n",
    "x_val = x_data[7_000:]\n",
    "y_val = y_data[7_000:]"
   ]
  },
  {
   "cell_type": "markdown",
   "id": "c7c86011",
   "metadata": {
    "cellId": "4hyakgu3wa5ay9u9dde5j"
   },
   "source": [
    "## Конструирование сети"
   ]
  },
  {
   "cell_type": "code",
   "execution_count": 149,
   "id": "2a4ca0d4",
   "metadata": {
    "cellId": "cmetcz91bgpvhhyyetpoe"
   },
   "outputs": [],
   "source": [
    "def build_model():\n",
    "    model = Sequential()\n",
    "\n",
    "    model.add(layers.Dense(64, kernel_regularizer=regularizers.l2(0.001), activation='relu', input_shape=(10_000,)))\n",
    "    model.add(layers.Dense(64, kernel_regularizer=regularizers.l2(0.001), activation='relu'))\n",
    "    model.add(layers.Dense(46, activation='softmax'))\n",
    "\n",
    "    model.compile(optimizer='rmsprop', loss='categorical_crossentropy', metrics=['accuracy'])\n",
    "    \n",
    "    return model"
   ]
  },
  {
   "cell_type": "markdown",
   "id": "77648c87",
   "metadata": {
    "cellId": "crvxhd5ueuwzge7nuvaas"
   },
   "source": [
    "## Первичное обучение"
   ]
  },
  {
   "cell_type": "code",
   "execution_count": 150,
   "id": "72aeb50c",
   "metadata": {
    "cellId": "cyyknjr7tibu0200icep2"
   },
   "outputs": [],
   "source": [
    "model = build_model()\n",
    "history = model.fit(\n",
    "    x_train,\n",
    "    y_train,\n",
    "    batch_size=512,\n",
    "    epochs=20,\n",
    "    validation_data=(x_val, y_val)\n",
    ")"
   ]
  },
  {
   "cell_type": "markdown",
   "id": "539b4a80",
   "metadata": {
    "cellId": "x86f2f3y8qqrsa9xch3kf"
   },
   "source": [
    "### Контроль качества"
   ]
  },
  {
   "cell_type": "code",
   "execution_count": 151,
   "id": "4b701612",
   "metadata": {
    "cellId": "etoevuyz5pfmgb8tb9t5r"
   },
   "outputs": [],
   "source": [
    "history_dict = history.history"
   ]
  },
  {
   "cell_type": "code",
   "execution_count": 152,
   "id": "4206a0ea",
   "metadata": {
    "cellId": "27tx1a5pn216moyigaxlqc"
   },
   "outputs": [],
   "source": [
    "history_dict.keys()"
   ]
  },
  {
   "cell_type": "code",
   "execution_count": 153,
   "id": "d404a072",
   "metadata": {
    "cellId": "c6qyuitgzrdifhzqcnffad"
   },
   "outputs": [],
   "source": [
    "epochs = range(len(history_dict['val_loss']))\n",
    "\n",
    "fig, ax = plt.subplots()\n",
    "\n",
    "ax.plot(epochs, history_dict['val_loss'], label='Validation loss')\n",
    "ax.plot(epochs, history_dict['loss'], label='Training loss')\n",
    "ax.set(xlabel='Epoch', ylabel='loss', title='Loss chart')\n",
    "\n",
    "plt.legend()\n",
    "plt.show()"
   ]
  },
  {
   "cell_type": "code",
   "execution_count": 154,
   "id": "6b42b212",
   "metadata": {
    "cellId": "mksg1wlrajii28caz5xr2"
   },
   "outputs": [],
   "source": [
    "epochs = range(len(history_dict['val_loss']))\n",
    "\n",
    "fig, ax = plt.subplots()\n",
    "\n",
    "ax.plot(epochs, history_dict['val_accuracy'], label='Validation accuracy')\n",
    "ax.plot(epochs, history_dict['accuracy'], label='Training accuracy')\n",
    "ax.set(xlabel='Epoch', ylabel='accuracy', title='Accuracy chart')\n",
    "\n",
    "plt.legend()\n",
    "plt.show()"
   ]
  },
  {
   "cell_type": "code",
   "execution_count": 155,
   "id": "a7296964",
   "metadata": {
    "cellId": "zsn314r1e2q9nswvwq7bhk"
   },
   "outputs": [],
   "source": [
    "model.summary()"
   ]
  },
  {
   "cell_type": "markdown",
   "id": "ec0c1898",
   "metadata": {
    "cellId": "8kdctfbav5uiafpc7cl3l"
   },
   "source": [
    "## Финальное обучение"
   ]
  },
  {
   "cell_type": "code",
   "execution_count": 156,
   "id": "918b00e3",
   "metadata": {
    "cellId": "ykouochtrxvfxezy6b8rf"
   },
   "outputs": [],
   "source": [
    "model = build_model()\n",
    "model.fit(\n",
    "    x_train,\n",
    "    y_train,\n",
    "    batch_size=512,\n",
    "    epochs=10,\n",
    "    validation_data=(x_val, y_val)\n",
    ")\n",
    "result = model.evaluate(x_test, y_test)"
   ]
  },
  {
   "cell_type": "code",
   "execution_count": 157,
   "id": "e320ba61",
   "metadata": {
    "cellId": "9zkf1wb67qb322s5vaghll"
   },
   "outputs": [],
   "source": [
    "result"
   ]
  },
  {
   "cell_type": "markdown",
   "id": "515e5515",
   "metadata": {
    "cellId": "46jh3ynr8lic2ao94u6ooe"
   },
   "source": [
    "## Вывод\n",
    "### Первичная модель\n",
    "```py\n",
    "Model: \"sequential_3\"\n",
    "_________________________________________________________________\n",
    " Layer (type)                Output Shape              Param #   \n",
    "=================================================================\n",
    " dense_9 (Dense)             (None, 64)                640064    \n",
    "                                                                 \n",
    " dense_10 (Dense)            (None, 64)                4160      \n",
    "                                                                 \n",
    " dense_11 (Dense)            (None, 46)                2990      \n",
    "                                                                 \n",
    "=================================================================\n",
    "Total params: 647,214\n",
    "Trainable params: 647,214\n",
    "Non-trainable params: 0\n",
    "_________________________________________________________________\n",
    "```\n",
    "\n",
    "1. Переобучение - > 5\n",
    "2. Потери - 1\n",
    "3. Точность - 0.8\n",
    "\n",
    "### Вторая модель\n",
    "```py\n",
    "Model: \"sequential_9\"\n",
    "_________________________________________________________________\n",
    " Layer (type)                Output Shape              Param #   \n",
    "=================================================================\n",
    " dense_28 (Dense)            (None, 64)                640064    \n",
    "                                                                 \n",
    " dropout_4 (Dropout)         (None, 64)                0         \n",
    "                                                                 \n",
    " dense_29 (Dense)            (None, 64)                4160      \n",
    "                                                                 \n",
    " dropout_5 (Dropout)         (None, 64)                0         \n",
    "                                                                 \n",
    " dense_30 (Dense)            (None, 46)                2990      \n",
    "                                                                 \n",
    "=================================================================\n",
    "Total params: 647,214\n",
    "Trainable params: 647,214\n",
    "Non-trainable params: 0\n",
    "_________________________________________________________________\n",
    "```\n",
    "\n",
    "1. Переобучение - > 10\n",
    "2. Потери - 1\n",
    "3. Точность - 0.7 - 0.8\n",
    "\n",
    "### Третья модель\n",
    "```py\n",
    "Model: \"sequential_14\"\n",
    "_________________________________________________________________\n",
    " Layer (type)                Output Shape              Param #   \n",
    "=================================================================\n",
    " dense_45 (Dense)            (None, 64)                640064    \n",
    "                                                                 \n",
    " dense_46 (Dense)            (None, 64)                4160      \n",
    "                                                                 \n",
    " dense_47 (Dense)            (None, 46)                2990      \n",
    "                                                                 \n",
    "=================================================================\n",
    "Total params: 647,214\n",
    "Trainable params: 647,214\n",
    "Non-trainable params: 0\n",
    "_________________________________________________________________\n",
    "```\n",
    "+\n",
    "`kernel_regularizer=regularizers.l2(0.001)`\n",
    "\n",
    "1. Переобучение - > 10\n",
    "2. Потери - 1\n",
    "3. Точность - 0.7 - 0.8"
   ]
  },
  {
   "cell_type": "markdown",
   "id": "473c21ff",
   "metadata": {
    "cellId": "la0c1l7mjeie3q1ezecyp5"
   },
   "source": [
    "Регуляризация модели, как и прореживание(Dropout) позволяет уменьшить эффект переобучение. Но при этом как и повышение нейронов в каждом слое, так и количество слоев не ведет к увелечению качества самой модели. По крайней мере для данной природы данных"
   ]
  },
  {
   "cell_type": "code",
   "execution_count": null,
   "id": "2f7bee0d",
   "metadata": {
    "cellId": "utr4ljytau5m1nhi4uyv7"
   },
   "outputs": [],
   "source": []
  }
 ],
 "metadata": {
  "language_info": {
   "codemirror_mode": {
    "name": "ipython",
    "version": 3
   },
   "file_extension": ".py",
   "mimetype": "text/x-python",
   "name": "python",
   "nbconvert_exporter": "python",
   "pygments_lexer": "ipython3",
   "version": "3.7.7"
  },
  "notebookId": "d1f52259-23df-4fae-b7ae-ba9b1e32e107",
  "notebookPath": "deep-learning/chapter-4/Методы борьбы с переобучением.ipynb"
 },
 "nbformat": 4,
 "nbformat_minor": 5
}
