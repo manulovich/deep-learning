{
 "cells": [
  {
   "cell_type": "markdown",
   "id": "c529087d-5745-4a25-8580-79b6fb9d4149",
   "metadata": {},
   "source": [
    "# Сверточная нейронная сеть с нуля"
   ]
  },
  {
   "cell_type": "markdown",
   "id": "7d49aaa2-7db2-4443-bc57-55af8f6de3a7",
   "metadata": {},
   "source": [
    "## Используемые библиотеки"
   ]
  },
  {
   "cell_type": "code",
   "execution_count": 5,
   "id": "15004ee7-a0c5-43c1-bc41-92be57fa960c",
   "metadata": {},
   "outputs": [],
   "source": [
    "import keras\n",
    "import shutil, os\n",
    "import numpy as np\n",
    "from keras import layers\n",
    "from keras import Sequential\n",
    "from keras import optimizers\n",
    "import matplotlib.pyplot as plt\n",
    "from keras.preprocessing.image import ImageDataGenerator"
   ]
  },
  {
   "cell_type": "markdown",
   "id": "e4e1e9ea-ed15-4b02-893e-478d422a4505",
   "metadata": {},
   "source": [
    "## Константы"
   ]
  },
  {
   "cell_type": "code",
   "execution_count": 6,
   "id": "dd1c33f6-9624-4414-beff-4eb086cfdb15",
   "metadata": {},
   "outputs": [],
   "source": [
    "BATCH_SIZE = 10"
   ]
  },
  {
   "cell_type": "markdown",
   "id": "5f2f586f-585f-4667-9d05-bdc42d435b27",
   "metadata": {
    "tags": []
   },
   "source": [
    "## Загрузка данных\n",
    "\n",
    "Данные необходимо скачать с сайта [Kaggle](https://www.kaggle.com/c/dogs-vs-cats/data) и расспаковать в соответвующие ли\n",
    "\n",
    "Структура должна быть следующей:"
   ]
  },
  {
   "cell_type": "markdown",
   "id": "1c28df3a-2f9c-4eab-9656-7a0b77396cf4",
   "metadata": {
    "tags": []
   },
   "source": [
    "### Для обучения отберем по 2000 экземпляров классов\n",
    "Использование полного датасета затратно по вычислительным ресурсам"
   ]
  },
  {
   "cell_type": "code",
   "execution_count": 7,
   "id": "44a90be9-eb80-431f-a551-7648cd9f6422",
   "metadata": {},
   "outputs": [],
   "source": [
    "train_path = os.path.join(os.getcwd(), '..', 'data', 'cat-vs-dog' 'learn-data', 'train')\n",
    "test_path = os.path.join(os.getcwd(), '..', 'data', 'cat-vs-dog', 'learn-data', 'test')\n",
    "valid_path = os.path.join(os.getcwd(), '..', 'data', 'cat-vs-dog', 'learn-data', 'val')\n",
    "src_data = os.path.join(os.getcwd(), '..', 'data', 'cat-vs-dog', 'src-data', 'train')"
   ]
  },
  {
   "cell_type": "code",
   "execution_count": 8,
   "id": "e3e993de-5705-4fd4-aa9f-e3c28342a206",
   "metadata": {},
   "outputs": [],
   "source": [
    "PARAMS = {\n",
    "    'samples': [\n",
    "        {\n",
    "            'train': 1000\n",
    "        },\n",
    "        {\n",
    "            'val': 500\n",
    "        },\n",
    "        {\n",
    "            'test': 500\n",
    "        }\n",
    "    ],\n",
    "    'classes': ['cat', 'dog'],\n",
    "    'count_all_instances': 2000\n",
    "}"
   ]
  },
  {
   "cell_type": "code",
   "execution_count": 9,
   "id": "ff895125-e493-40af-871d-bca793e0e43a",
   "metadata": {},
   "outputs": [],
   "source": [
    "paths_to_classes = {}\n",
    "\n",
    "for tag in PARAMS['classes']:\n",
    "    paths_to_classes[tag] = []"
   ]
  },
  {
   "cell_type": "code",
   "execution_count": 66,
   "id": "8bf92629-c272-4cdf-a1f8-ba8903ef51d3",
   "metadata": {},
   "outputs": [],
   "source": [
    "for path in os.listdir(src_data):\n",
    "    target = paths_to_classes['cat'] if 'cat' in path else paths_to_classes['dog']\n",
    "    \n",
    "    if len(target) < PARAMS['count_all_instances']:\n",
    "        target.append(f'{src_data}/{path}')"
   ]
  },
  {
   "cell_type": "code",
   "execution_count": 69,
   "id": "de577860-06f9-4b32-bb41-8777bf98c411",
   "metadata": {},
   "outputs": [],
   "source": [
    "paths = dict()\n",
    "\n",
    "for sample in PARAMS['samples']:\n",
    "    name, count = list(sample.items())[0]\n",
    "    paths[name] = dict()\n",
    "    \n",
    "    for tag in PARAMS['classes']:\n",
    "        paths[name][tag] = paths_to_classes[tag][:count]\n",
    "        paths_to_classes[tag] = paths_to_classes[tag][count:]"
   ]
  },
  {
   "cell_type": "code",
   "execution_count": 70,
   "id": "7cc73568-360f-48b4-90d3-308c50802af6",
   "metadata": {},
   "outputs": [],
   "source": [
    "shutil.rmtree(os.path.join(os.getcwd(), '..', 'data', 'cat-vs-dog', 'learn-data'),  ignore_errors=True)"
   ]
  },
  {
   "cell_type": "code",
   "execution_count": 71,
   "id": "52530d2a-ec91-419c-a055-de85581f8b85",
   "metadata": {},
   "outputs": [],
   "source": [
    "for sample in PARAMS['samples']:\n",
    "    name, _ = list(sample.items())[0]\n",
    "    \n",
    "    for tag in PARAMS['classes']:\n",
    "        os.makedirs(os.path.join(os.getcwd(), '..', 'data', 'cat-vs-dog', 'learn-data', name, tag))"
   ]
  },
  {
   "cell_type": "code",
   "execution_count": 72,
   "id": "d36fd2e0-cb81-43bf-8d65-f52b02377b03",
   "metadata": {},
   "outputs": [],
   "source": [
    "for sample in PARAMS['samples']:\n",
    "    name, _ = list(sample.items())[0]\n",
    "    \n",
    "    for tag in PARAMS['classes']:\n",
    "        for instance in paths[name][tag]:\n",
    "            shutil.copy(instance, os.path.join(os.getcwd(), '..', 'data', 'cat-vs-dog', 'learn-data', name, tag))"
   ]
  },
  {
   "cell_type": "markdown",
   "id": "5d107122-8829-493e-b6cf-cab9fd778c73",
   "metadata": {
    "tags": []
   },
   "source": [
    "### Предварительная обработка данных"
   ]
  },
  {
   "cell_type": "code",
   "execution_count": 88,
   "id": "ba415e40-2068-42d2-ae96-0beaceaf6a56",
   "metadata": {},
   "outputs": [],
   "source": [
    "train_data = ImageDataGenerator(\n",
    "    rescale=1/255,\n",
    "    rotation_range=40,\n",
    "    width_shift_range=0.2,\n",
    "    height_shift_range=0.2,\n",
    "    shear_range=0.2,\n",
    "    zoom_range=0.2,\n",
    "    horizontal_flip=True\n",
    ")\n",
    "valid_data = ImageDataGenerator(rescale=1/255)\n",
    "test_data = ImageDataGenerator(rescale=1/255)"
   ]
  },
  {
   "cell_type": "code",
   "execution_count": 89,
   "id": "9507ee27-db0e-4a86-b93a-5b6142085c24",
   "metadata": {},
   "outputs": [
    {
     "name": "stdout",
     "output_type": "stream",
     "text": [
      "Found 2000 images belonging to 2 classes.\n",
      "Found 1000 images belonging to 2 classes.\n",
      "Found 1000 images belonging to 2 classes.\n"
     ]
    }
   ],
   "source": [
    "train_generator = train_data.flow_from_directory(\n",
    "    train_path,\n",
    "    target_size=(150, 150),\n",
    "    batch_size=BATCH_SIZE,\n",
    "    class_mode='binary'\n",
    ")\n",
    "valid_generator = valid_data.flow_from_directory(\n",
    "    valid_path,\n",
    "    target_size=(150, 150),\n",
    "    batch_size=BATCH_SIZE,\n",
    "    class_mode='binary'\n",
    ")\n",
    "test_generator = test_data.flow_from_directory(\n",
    "    test_path,\n",
    "    target_size=(150, 150),\n",
    "    batch_size=BATCH_SIZE,\n",
    "    class_mode='binary'\n",
    ")"
   ]
  },
  {
   "cell_type": "markdown",
   "id": "4e5adb7a-3a99-4443-9c87-df60784ab102",
   "metadata": {
    "tags": []
   },
   "source": [
    " ##  Конструирование сети"
   ]
  },
  {
   "cell_type": "code",
   "execution_count": 90,
   "id": "c75e4fbc-6353-4225-9171-67d6d52a9e61",
   "metadata": {},
   "outputs": [],
   "source": [
    "model = Sequential()\n",
    "\n",
    "# Сверточная основа\n",
    "model.add(layers.Conv2D(32, (3, 3), activation='relu', input_shape=(150, 150, 3)))\n",
    "model.add(layers.MaxPooling2D((2, 2)))\n",
    "\n",
    "model.add(layers.Conv2D(64, (3, 3), activation='relu', input_shape=(150, 150, 3)))\n",
    "model.add(layers.MaxPooling2D((2, 2)))\n",
    "\n",
    "model.add(layers.Conv2D(128, (3, 3), activation='relu', input_shape=(150, 150, 3)))\n",
    "model.add(layers.MaxPooling2D((2, 2)))\n",
    "\n",
    "model.add(layers.Conv2D(128, (3, 3), activation='relu', input_shape=(150, 150, 3)))\n",
    "model.add(layers.MaxPooling2D((2, 2)))\n",
    "\n",
    "# Полносвязный классификатор\n",
    "model.add(layers.Flatten())\n",
    "model.add(layers.Dropout(0.5))\n",
    "model.add(layers.Dense(512, activation='relu'))\n",
    "model.add(layers.Dense(1, activation='sigmoid'))"
   ]
  },
  {
   "cell_type": "code",
   "execution_count": 91,
   "id": "04e90474-d5b8-460a-8cde-ea64b00d7a1d",
   "metadata": {},
   "outputs": [],
   "source": [
    "model.compile(optimizer=optimizers.RMSprop(learning_rate=1e-4), loss='binary_crossentropy', metrics=['acc'])"
   ]
  },
  {
   "cell_type": "code",
   "execution_count": 92,
   "id": "022d0d99-cbb4-4ed2-a860-6c26087fe66c",
   "metadata": {},
   "outputs": [
    {
     "name": "stdout",
     "output_type": "stream",
     "text": [
      "Model: \"sequential_2\"\n",
      "_________________________________________________________________\n",
      " Layer (type)                Output Shape              Param #   \n",
      "=================================================================\n",
      " conv2d_8 (Conv2D)           (None, 148, 148, 32)      896       \n",
      "                                                                 \n",
      " max_pooling2d_8 (MaxPooling  (None, 74, 74, 32)       0         \n",
      " 2D)                                                             \n",
      "                                                                 \n",
      " conv2d_9 (Conv2D)           (None, 72, 72, 64)        18496     \n",
      "                                                                 \n",
      " max_pooling2d_9 (MaxPooling  (None, 36, 36, 64)       0         \n",
      " 2D)                                                             \n",
      "                                                                 \n",
      " conv2d_10 (Conv2D)          (None, 34, 34, 128)       73856     \n",
      "                                                                 \n",
      " max_pooling2d_10 (MaxPoolin  (None, 17, 17, 128)      0         \n",
      " g2D)                                                            \n",
      "                                                                 \n",
      " conv2d_11 (Conv2D)          (None, 15, 15, 128)       147584    \n",
      "                                                                 \n",
      " max_pooling2d_11 (MaxPoolin  (None, 7, 7, 128)        0         \n",
      " g2D)                                                            \n",
      "                                                                 \n",
      " flatten_2 (Flatten)         (None, 6272)              0         \n",
      "                                                                 \n",
      " dropout_1 (Dropout)         (None, 6272)              0         \n",
      "                                                                 \n",
      " dense_4 (Dense)             (None, 512)               3211776   \n",
      "                                                                 \n",
      " dense_5 (Dense)             (None, 1)                 513       \n",
      "                                                                 \n",
      "=================================================================\n",
      "Total params: 3,453,121\n",
      "Trainable params: 3,453,121\n",
      "Non-trainable params: 0\n",
      "_________________________________________________________________\n"
     ]
    }
   ],
   "source": [
    "model.summary()"
   ]
  },
  {
   "cell_type": "markdown",
   "id": "393c0373-f15e-4011-a109-07ad4653867c",
   "metadata": {
    "tags": []
   },
   "source": [
    "## Обучение сети"
   ]
  },
  {
   "cell_type": "code",
   "execution_count": 93,
   "id": "163b9eca-7f73-48a6-a768-68ca71a05544",
   "metadata": {},
   "outputs": [
    {
     "name": "stdout",
     "output_type": "stream",
     "text": [
      "Epoch 1/30\n",
      "200/200 [==============================] - 77s 378ms/step - loss: 0.6953 - acc: 0.5085 - val_loss: 0.6914 - val_acc: 0.5000\n",
      "Epoch 2/30\n",
      "200/200 [==============================] - 75s 376ms/step - loss: 0.6904 - acc: 0.5335 - val_loss: 0.6771 - val_acc: 0.6000\n",
      "Epoch 3/30\n",
      "200/200 [==============================] - 73s 367ms/step - loss: 0.6816 - acc: 0.5825 - val_loss: 0.7080 - val_acc: 0.5080\n",
      "Epoch 4/30\n",
      "200/200 [==============================] - 74s 367ms/step - loss: 0.6763 - acc: 0.5750 - val_loss: 0.6534 - val_acc: 0.6120\n",
      "Epoch 5/30\n",
      "200/200 [==============================] - 74s 369ms/step - loss: 0.6557 - acc: 0.6090 - val_loss: 0.6296 - val_acc: 0.6490\n",
      "Epoch 6/30\n",
      "200/200 [==============================] - 74s 368ms/step - loss: 0.6444 - acc: 0.6230 - val_loss: 0.6509 - val_acc: 0.6320\n",
      "Epoch 7/30\n",
      "200/200 [==============================] - 74s 371ms/step - loss: 0.6345 - acc: 0.6390 - val_loss: 0.6929 - val_acc: 0.5910\n",
      "Epoch 8/30\n",
      "200/200 [==============================] - 77s 383ms/step - loss: 0.6372 - acc: 0.6355 - val_loss: 0.5924 - val_acc: 0.6820\n",
      "Epoch 9/30\n",
      "200/200 [==============================] - 77s 386ms/step - loss: 0.6139 - acc: 0.6575 - val_loss: 0.6016 - val_acc: 0.6620\n",
      "Epoch 10/30\n",
      "200/200 [==============================] - 78s 391ms/step - loss: 0.6177 - acc: 0.6680 - val_loss: 0.6697 - val_acc: 0.6130\n",
      "Epoch 11/30\n",
      "200/200 [==============================] - 76s 382ms/step - loss: 0.6126 - acc: 0.6720 - val_loss: 0.5789 - val_acc: 0.6950\n",
      "Epoch 12/30\n",
      "200/200 [==============================] - 82s 410ms/step - loss: 0.5915 - acc: 0.6905 - val_loss: 0.5655 - val_acc: 0.7060\n",
      "Epoch 13/30\n",
      "200/200 [==============================] - 84s 422ms/step - loss: 0.5919 - acc: 0.6820 - val_loss: 0.6248 - val_acc: 0.6510\n",
      "Epoch 14/30\n",
      "200/200 [==============================] - 85s 424ms/step - loss: 0.5899 - acc: 0.6905 - val_loss: 0.5442 - val_acc: 0.7350\n",
      "Epoch 15/30\n",
      "200/200 [==============================] - 79s 394ms/step - loss: 0.5804 - acc: 0.6955 - val_loss: 0.5592 - val_acc: 0.7040\n",
      "Epoch 16/30\n",
      "200/200 [==============================] - 75s 374ms/step - loss: 0.5723 - acc: 0.7050 - val_loss: 0.5143 - val_acc: 0.7480\n",
      "Epoch 17/30\n",
      "200/200 [==============================] - 77s 386ms/step - loss: 0.5693 - acc: 0.7050 - val_loss: 0.5477 - val_acc: 0.7350\n",
      "Epoch 18/30\n",
      "200/200 [==============================] - 83s 413ms/step - loss: 0.5695 - acc: 0.7180 - val_loss: 0.5218 - val_acc: 0.7520\n",
      "Epoch 19/30\n",
      "200/200 [==============================] - 83s 413ms/step - loss: 0.5467 - acc: 0.7255 - val_loss: 0.5110 - val_acc: 0.7480\n",
      "Epoch 20/30\n",
      "200/200 [==============================] - 85s 424ms/step - loss: 0.5556 - acc: 0.7205 - val_loss: 0.5223 - val_acc: 0.7490\n",
      "Epoch 21/30\n",
      "200/200 [==============================] - 94s 469ms/step - loss: 0.5590 - acc: 0.7180 - val_loss: 0.5138 - val_acc: 0.7470\n",
      "Epoch 22/30\n",
      "200/200 [==============================] - 93s 465ms/step - loss: 0.5628 - acc: 0.7160 - val_loss: 0.5023 - val_acc: 0.7650\n",
      "Epoch 23/30\n",
      "200/200 [==============================] - 97s 485ms/step - loss: 0.5493 - acc: 0.7225 - val_loss: 0.5070 - val_acc: 0.7650\n",
      "Epoch 24/30\n",
      "200/200 [==============================] - 79s 395ms/step - loss: 0.5572 - acc: 0.7185 - val_loss: 0.4956 - val_acc: 0.7590\n",
      "Epoch 25/30\n",
      "200/200 [==============================] - 84s 420ms/step - loss: 0.5426 - acc: 0.7315 - val_loss: 0.5088 - val_acc: 0.7500\n",
      "Epoch 26/30\n",
      "200/200 [==============================] - 91s 455ms/step - loss: 0.5342 - acc: 0.7400 - val_loss: 0.5551 - val_acc: 0.7260\n",
      "Epoch 27/30\n",
      "200/200 [==============================] - 77s 385ms/step - loss: 0.5383 - acc: 0.7375 - val_loss: 0.5404 - val_acc: 0.7540\n",
      "Epoch 28/30\n",
      "200/200 [==============================] - 85s 423ms/step - loss: 0.5442 - acc: 0.7240 - val_loss: 0.4996 - val_acc: 0.7650\n",
      "Epoch 29/30\n",
      "200/200 [==============================] - 84s 419ms/step - loss: 0.5262 - acc: 0.7375 - val_loss: 0.4693 - val_acc: 0.7870\n",
      "Epoch 30/30\n",
      "200/200 [==============================] - 84s 419ms/step - loss: 0.5277 - acc: 0.7430 - val_loss: 0.4958 - val_acc: 0.7810\n"
     ]
    }
   ],
   "source": [
    "history = model.fit(\n",
    "    train_generator,\n",
    "    steps_per_epoch=2000/BATCH_SIZE, # count data elements / batch size\n",
    "    epochs=30,\n",
    "    validation_data=valid_generator,\n",
    "    validation_steps=1000/BATCH_SIZE\n",
    ")"
   ]
  },
  {
   "cell_type": "code",
   "execution_count": 94,
   "id": "39a6ebd4-4576-460b-8500-00a7b95b6144",
   "metadata": {},
   "outputs": [],
   "source": [
    "model.save('cat_vs_dog.h5')"
   ]
  },
  {
   "cell_type": "code",
   "execution_count": 95,
   "id": "15794216-c7ba-4eb2-a5e0-3daee4af032f",
   "metadata": {},
   "outputs": [
    {
     "data": {
      "text/plain": [
       "dict_keys(['loss', 'acc', 'val_loss', 'val_acc'])"
      ]
     },
     "execution_count": 95,
     "metadata": {},
     "output_type": "execute_result"
    }
   ],
   "source": [
    "history_dict = history.history\n",
    "history_dict.keys()"
   ]
  },
  {
   "cell_type": "code",
   "execution_count": 96,
   "id": "41265eba-1428-4ce0-a736-dee7b0159300",
   "metadata": {},
   "outputs": [],
   "source": [
    "acc = history_dict['acc']\n",
    "val_acc = history_dict['val_acc']\n",
    "\n",
    "loss = history_dict['loss']\n",
    "val_loss = history_dict['val_acc']\n",
    "\n",
    "epochs = range(len(acc))"
   ]
  },
  {
   "cell_type": "code",
   "execution_count": 97,
   "id": "d451ddd7-0a1f-4eea-bf1e-9c70a7cc8aed",
   "metadata": {},
   "outputs": [
    {
     "data": {
      "text/plain": [
       "<matplotlib.legend.Legend at 0x14f39ead0>"
      ]
     },
     "execution_count": 97,
     "metadata": {},
     "output_type": "execute_result"
    },
    {
     "data": {
      "image/png": "[encoded data removed]",
      "text/plain": [
       "<Figure size 640x480 with 1 Axes>"
      ]
     },
     "metadata": {},
     "output_type": "display_data"
    }
   ],
   "source": [
    "plt.plot(epochs, acc, label='Train acc')\n",
    "plt.plot(epochs, val_acc, label='Test acc')\n",
    "plt.legend()"
   ]
  },
  {
   "cell_type": "code",
   "execution_count": 98,
   "id": "d7b5014a-1d9c-496c-b523-9e3329c469ab",
   "metadata": {},
   "outputs": [
    {
     "data": {
      "text/plain": [
       "<matplotlib.legend.Legend at 0x14fe63340>"
      ]
     },
     "execution_count": 98,
     "metadata": {},
     "output_type": "execute_result"
    },
    {
     "data": {
      "image/png": "[encoded data removed]",
      "text/plain": [
       "<Figure size 640x480 with 1 Axes>"
      ]
     },
     "metadata": {},
     "output_type": "display_data"
    }
   ],
   "source": [
    "plt.plot(epochs, loss, label='Train loss')\n",
    "plt.plot(epochs, val_loss, label='Test loss')\n",
    "plt.legend()"
   ]
  },
  {
   "cell_type": "code",
   "execution_count": null,
   "id": "cd22c957-f150-403c-9e17-0561105c6a36",
   "metadata": {},
   "outputs": [],
   "source": []
  }
 ],
 "metadata": {
  "kernelspec": {
   "display_name": "Python 3 (ipykernel)",
   "language": "python",
   "name": "python3"
  },
  "language_info": {
   "codemirror_mode": {
    "name": "ipython",
    "version": 3
   },
   "file_extension": ".py",
   "mimetype": "text/x-python",
   "name": "python",
   "nbconvert_exporter": "python",
   "pygments_lexer": "ipython3",
   "version": "3.10.6"
  }
 },
 "nbformat": 4,
 "nbformat_minor": 5
}
