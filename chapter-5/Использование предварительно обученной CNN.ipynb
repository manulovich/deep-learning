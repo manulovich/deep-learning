{
 "cells": [
  {
   "cell_type": "markdown",
   "id": "ff723db1",
   "metadata": {
    "cellId": "19437kgefytnhihy3kdst",
    "execution_id": "5dba584c-df79-444f-af54-b60c755d6dc4"
   },
   "source": [
    "# Использование предварительно обученной CNN"
   ]
  },
  {
   "cell_type": "markdown",
   "id": "25e40ed4",
   "metadata": {
    "cellId": "ghzd6nhathxj9sjmxu8x8"
   },
   "source": [
    "## Используемые библиотеки"
   ]
  },
  {
   "cell_type": "code",
   "execution_count": 11,
   "id": "72164a16",
   "metadata": {
    "cellId": "mc9xek47tidzkvjc79uhj"
   },
   "outputs": [
    {
     "name": "stderr",
     "output_type": "stream",
     "text": [
      "2023-01-29 12:45:02.946204: W tensorflow/stream_executor/platform/default/dso_loader.cc:64] Could not load dynamic library 'libcuda.so.1'; dlerror: libcuda.so.1: cannot open shared object file: No such file or directory; LD_LIBRARY_PATH: /usr/local/nvidia/lib:/usr/local/nvidia/lib64:/usr/local/cuda/lib64\n",
      "2023-01-29 12:45:02.946244: W tensorflow/stream_executor/cuda/cuda_driver.cc:269] failed call to cuInit: UNKNOWN ERROR (303)\n",
      "2023-01-29 12:45:02.946268: I tensorflow/stream_executor/cuda/cuda_diagnostics.cc:156] kernel driver does not appear to be running on this host (s-fca14154-d790-457e-b5bf-0f3f0c246cb3): /proc/driver/nvidia/version does not exist\n",
      "2023-01-29 12:45:02.946474: I tensorflow/core/platform/cpu_feature_guard.cc:142] This TensorFlow binary is optimized with oneAPI Deep Neural Network Library (oneDNN) to use the following CPU instructions in performance-critical operations:  AVX2 AVX512F FMA\n",
      "To enable them in other operations, rebuild TensorFlow with the appropriate compiler flags.\n"
     ]
    }
   ],
   "source": [
    "import keras\n",
    "import shutil, os\n",
    "from keras.applications.vgg16 import VGG16\n",
    "import numpy as np\n",
    "from keras import layers\n",
    "from keras import Sequential\n",
    "from keras import optimizers\n",
    "import matplotlib.pyplot as plt\n",
    "from keras.preprocessing.image import ImageDataGenerator"
   ]
  },
  {
   "cell_type": "markdown",
   "id": "337a1ca5",
   "metadata": {
    "cellId": "id3qa1gdufr91khf0t21ge",
    "execution_id": "71f8b10f-45e3-4d4d-ae0f-f656c22e558d"
   },
   "source": [
    "## Константы"
   ]
  },
  {
   "cell_type": "code",
   "execution_count": 12,
   "id": "89d3d623",
   "metadata": {
    "cellId": "m1xnu4fja1cgve0q9vlca"
   },
   "outputs": [],
   "source": [
    "BATCH_SIZE = 20\n",
    "TRAIN_PATH = os.path.join(os.getcwd(), '..', 'data', 'cat-vs-dog', 'learn', 'train')\n",
    "TEST_PATH = os.path.join(os.getcwd(), '..', 'data', 'cat-vs-dog', 'learn', 'test')\n",
    "VAL_PATH = os.path.join(os.getcwd(), '..', 'data', 'cat-vs-dog', 'learn', 'val')"
   ]
  },
  {
   "cell_type": "markdown",
   "id": "810c879e",
   "metadata": {
    "cellId": "zi78xn9wg0se62ch3stigv",
    "execution_id": "a17926e0-7de7-4e1b-a4ce-15e0ab484fb7"
   },
   "source": [
    "## Экземпляр сверточной основы VGG16"
   ]
  },
  {
   "cell_type": "code",
   "execution_count": 13,
   "id": "dd4248c3",
   "metadata": {
    "cellId": "nlbmaydvqol8p17bacynsy"
   },
   "outputs": [],
   "source": [
    "conv_base = VGG16(\n",
    "    weights='imagenet',\n",
    "    include_top=False,\n",
    "    input_shape=(150, 150, 3)\n",
    ")"
   ]
  },
  {
   "cell_type": "code",
   "execution_count": 14,
   "id": "6c8ec394",
   "metadata": {
    "cellId": "ndhbqpshlb15idtsylckr"
   },
   "outputs": [
    {
     "name": "stdout",
     "output_type": "stream",
     "text": [
      "Model: \"vgg16\"\n",
      "_________________________________________________________________\n",
      "Layer (type)                 Output Shape              Param #   \n",
      "=================================================================\n",
      "input_1 (InputLayer)         [(None, 150, 150, 3)]     0         \n",
      "_________________________________________________________________\n",
      "block1_conv1 (Conv2D)        (None, 150, 150, 64)      1792      \n",
      "_________________________________________________________________\n",
      "block1_conv2 (Conv2D)        (None, 150, 150, 64)      36928     \n",
      "_________________________________________________________________\n",
      "block1_pool (MaxPooling2D)   (None, 75, 75, 64)        0         \n",
      "_________________________________________________________________\n",
      "block2_conv1 (Conv2D)        (None, 75, 75, 128)       73856     \n",
      "_________________________________________________________________\n",
      "block2_conv2 (Conv2D)        (None, 75, 75, 128)       147584    \n",
      "_________________________________________________________________\n",
      "block2_pool (MaxPooling2D)   (None, 37, 37, 128)       0         \n",
      "_________________________________________________________________\n",
      "block3_conv1 (Conv2D)        (None, 37, 37, 256)       295168    \n",
      "_________________________________________________________________\n",
      "block3_conv2 (Conv2D)        (None, 37, 37, 256)       590080    \n",
      "_________________________________________________________________\n",
      "block3_conv3 (Conv2D)        (None, 37, 37, 256)       590080    \n",
      "_________________________________________________________________\n",
      "block3_pool (MaxPooling2D)   (None, 18, 18, 256)       0         \n",
      "_________________________________________________________________\n",
      "block4_conv1 (Conv2D)        (None, 18, 18, 512)       1180160   \n",
      "_________________________________________________________________\n",
      "block4_conv2 (Conv2D)        (None, 18, 18, 512)       2359808   \n",
      "_________________________________________________________________\n",
      "block4_conv3 (Conv2D)        (None, 18, 18, 512)       2359808   \n",
      "_________________________________________________________________\n",
      "block4_pool (MaxPooling2D)   (None, 9, 9, 512)         0         \n",
      "_________________________________________________________________\n",
      "block5_conv1 (Conv2D)        (None, 9, 9, 512)         2359808   \n",
      "_________________________________________________________________\n",
      "block5_conv2 (Conv2D)        (None, 9, 9, 512)         2359808   \n",
      "_________________________________________________________________\n",
      "block5_conv3 (Conv2D)        (None, 9, 9, 512)         2359808   \n",
      "_________________________________________________________________\n",
      "block5_pool (MaxPooling2D)   (None, 4, 4, 512)         0         \n",
      "=================================================================\n",
      "Total params: 14,714,688\n",
      "Trainable params: 14,714,688\n",
      "Non-trainable params: 0\n",
      "_________________________________________________________________\n"
     ]
    }
   ],
   "source": [
    "conv_base.summary()"
   ]
  },
  {
   "cell_type": "markdown",
   "id": "d2f07ba1",
   "metadata": {
    "cellId": "h4efoum98t55qx308t7f3v",
    "execution_id": "0ec606fb-bced-415e-b9d7-fc049f896a47"
   },
   "source": [
    "## Пути использования готовой сверточной основы\n",
    "\n",
    "- Менее энергозатратный: Преобразовать датасет при помощи готовой сверточной основы и обучить простую полносвязную сеть\n",
    "- Более энергозатратный: Поверх сверточной сети добавить полносвязный классификатор"
   ]
  },
  {
   "cell_type": "markdown",
   "id": "cff3c161",
   "metadata": {
    "cellId": "71iqk2d09pd5xq8dlrnvl9",
    "execution_id": "00b12716-18ea-4abe-8314-a8b5111f9b02"
   },
   "source": [
    "## Путь 0. Менее энергозатратный"
   ]
  },
  {
   "cell_type": "markdown",
   "id": "924946c6",
   "metadata": {
    "cellId": "lfxuin3bdjc4fggkhn4oio",
    "execution_id": "f8f294d2-938a-4a3d-9c8a-b84fa2f1065e"
   },
   "source": [
    "### Формируем фичи"
   ]
  },
  {
   "cell_type": "code",
   "execution_count": 38,
   "id": "bd12604c",
   "metadata": {
    "cellId": "f5ae44kq0a5otjc42b4zd"
   },
   "outputs": [],
   "source": [
    "#!g2.mig\n",
    "\n",
    "def extract_features(directory: str, sample_count: int):\n",
    "    features = np.zeros(shape=(sample_count, 4, 4, 512)) # Последние 3 значения соответсвуют форме выходу сверточной основы\n",
    "    labels = np.zeros(shape=(sample_count))\n",
    "    \n",
    "    conv_base = VGG16(\n",
    "        weights='imagenet',\n",
    "        include_top=False,\n",
    "        input_shape=(150, 150, 3)\n",
    "    )\n",
    "    \n",
    "    datagen = ImageDataGenerator(rescale=1/255)\n",
    "    generator = datagen.flow_from_directory(\n",
    "        directory,\n",
    "        target_size=(150, 150),\n",
    "        batch_size=BATCH_SIZE,\n",
    "        class_mode='binary'\n",
    "    )\n",
    "    \n",
    "    i = 0\n",
    "    for inputs_batch, labels_batch in generator:\n",
    "        features_batch = conv_base.predict(inputs_batch)\n",
    "        \n",
    "        features[i*BATCH_SIZE:(i+1)*BATCH_SIZE] = features_batch\n",
    "        labels[i*BATCH_SIZE:(i+1)*BATCH_SIZE] = labels_batch\n",
    "        \n",
    "        i += 1\n",
    "        if i * BATCH_SIZE >= sample_count:\n",
    "            break\n",
    "    \n",
    "    return features, labels"
   ]
  },
  {
   "cell_type": "code",
   "execution_count": 39,
   "id": "9c9ceb12",
   "metadata": {
    "cellId": "2lu3o5thku4b0r0tnzsxj9"
   },
   "outputs": [
    {
     "name": "stderr",
     "output_type": "stream",
     "text": [
      "2023-01-29 13:12:19.279000: I tensorflow/core/platform/cpu_feature_guard.cc:142] This TensorFlow binary is optimized with oneAPI Deep Neural Network Library (oneDNN) to use the following CPU instructions in performance-critical operations:  AVX2 FMA\n",
      "To enable them in other operations, rebuild TensorFlow with the appropriate compiler flags.\n",
      "2023-01-29 13:12:19.753070: I tensorflow/core/common_runtime/gpu/gpu_device.cc:1510] Created device /job:localhost/replica:0/task:0/device:GPU:0 with 2629 MB memory:  -> device: 0, name: GRID A100X-1-5C MIG 1g.5gb, pci bus id: 0000:8c:00.0, compute capability: 8.0\n",
      "2023-01-29 13:12:20.976937: I tensorflow/compiler/mlir/mlir_graph_optimization_pass.cc:185] None of the MLIR Optimization Passes are enabled (registered 2)\n",
      "2023-01-29 13:12:21.658213: I tensorflow/stream_executor/cuda/cuda_dnn.cc:369] Loaded cuDNN version 8101\n",
      "2023-01-29 13:12:23.523769: W tensorflow/core/common_runtime/bfc_allocator.cc:272] Allocator (GPU_0_bfc) ran out of memory trying to allocate 2.66GiB with freed_by_count=0. The caller indicates that this is not a failure, but may mean that there could be performance gains if more memory were available.\n",
      "2023-01-29 13:12:23.523852: W tensorflow/core/common_runtime/bfc_allocator.cc:272] Allocator (GPU_0_bfc) ran out of memory trying to allocate 2.66GiB with freed_by_count=0. The caller indicates that this is not a failure, but may mean that there could be performance gains if more memory were available.\n",
      "2023-01-29 13:12:24.450883: W tensorflow/core/common_runtime/bfc_allocator.cc:272] Allocator (GPU_0_bfc) ran out of memory trying to allocate 2.36GiB with freed_by_count=0. The caller indicates that this is not a failure, but may mean that there could be performance gains if more memory were available.\n",
      "2023-01-29 13:12:24.450963: W tensorflow/core/common_runtime/bfc_allocator.cc:272] Allocator (GPU_0_bfc) ran out of memory trying to allocate 2.36GiB with freed_by_count=0. The caller indicates that this is not a failure, but may mean that there could be performance gains if more memory were available.\n"
     ]
    },
    {
     "name": "stdout",
     "output_type": "stream",
     "text": [
      "Found 2000 images belonging to 2 classes.\n",
      "Found 1000 images belonging to 2 classes.\n",
      "Found 1000 images belonging to 2 classes.\n"
     ]
    }
   ],
   "source": [
    "#!g2.mig\n",
    "\n",
    "train_features, train_labels = extract_features(TRAIN_PATH, 2000)\n",
    "val_features, val_labels = extract_features(VAL_PATH, 1000)\n",
    "test_features, test_labels = extract_features(TEST_PATH, 1000)"
   ]
  },
  {
   "cell_type": "code",
   "execution_count": 40,
   "id": "925ffad0",
   "metadata": {
    "cellId": "c8ihy9sl645nzwrj7aw5am"
   },
   "outputs": [],
   "source": [
    "#!g2.mig\n",
    "\n",
    "train_features = train_features.reshape(2_000, 4 * 4 * 512)\n",
    "val_features = val_features.reshape(1_000, 4 * 4 * 512)\n",
    "test_features = test_features.reshape(1_000, 4 * 4 * 512)"
   ]
  },
  {
   "cell_type": "markdown",
   "id": "aab3f5c5",
   "metadata": {
    "cellId": "b7t9r8fkc1guxn8opaesqo",
    "execution_id": "f1d6837d-27bd-409a-8758-f2da7208e596"
   },
   "source": [
    "### Создаем классификтор"
   ]
  },
  {
   "cell_type": "code",
   "execution_count": 41,
   "id": "3f171a4b",
   "metadata": {
    "cellId": "lo325pdgwnayiwhcevkvf"
   },
   "outputs": [],
   "source": [
    "#!g2.mig\n",
    "\n",
    "model = Sequential()\n",
    "model.add(layers.Dense(256, activation='relu', input_shape=(8192,)))\n",
    "model.add(layers.Dropout(0.5))\n",
    "model.add(layers.Dense(1, activation='sigmoid'))\n",
    "\n",
    "model.compile(optimizer='rmsprop', loss='binary_crossentropy', metrics=['acc'])"
   ]
  },
  {
   "cell_type": "code",
   "execution_count": 42,
   "id": "0c9600ea",
   "metadata": {
    "cellId": "ixehj0uddr8w79jwu7ekb"
   },
   "outputs": [
    {
     "name": "stderr",
     "output_type": "stream",
     "text": [
      "2023-01-29 13:12:58.366940: I tensorflow/stream_executor/cuda/cuda_blas.cc:1760] TensorFloat-32 will be used for the matrix multiplication. This will only be logged once.\n"
     ]
    },
    {
     "name": "stdout",
     "output_type": "stream",
     "text": [
      "Epoch 1/30\n",
      "63/63 [==============================] - 1s 6ms/step - loss: 0.8781 - acc: 0.7210 - val_loss: 0.9687 - val_acc: 0.6510\n",
      "Epoch 2/30\n",
      "63/63 [==============================] - 0s 4ms/step - loss: 0.3982 - acc: 0.8235 - val_loss: 0.2816 - val_acc: 0.8750\n",
      "Epoch 3/30\n",
      "63/63 [==============================] - 0s 4ms/step - loss: 0.3113 - acc: 0.8715 - val_loss: 0.2767 - val_acc: 0.8800\n",
      "Epoch 4/30\n",
      "63/63 [==============================] - 0s 4ms/step - loss: 0.2828 - acc: 0.8865 - val_loss: 0.4525 - val_acc: 0.8290\n",
      "Epoch 5/30\n",
      "63/63 [==============================] - 0s 4ms/step - loss: 0.2400 - acc: 0.9035 - val_loss: 0.3260 - val_acc: 0.8660\n",
      "Epoch 6/30\n",
      "63/63 [==============================] - 0s 4ms/step - loss: 0.2207 - acc: 0.9045 - val_loss: 0.3790 - val_acc: 0.8580\n",
      "Epoch 7/30\n",
      "63/63 [==============================] - 0s 4ms/step - loss: 0.1900 - acc: 0.9220 - val_loss: 0.3262 - val_acc: 0.8850\n",
      "Epoch 8/30\n",
      "63/63 [==============================] - 0s 4ms/step - loss: 0.1573 - acc: 0.9405 - val_loss: 0.7358 - val_acc: 0.8110\n",
      "Epoch 9/30\n",
      "63/63 [==============================] - 0s 4ms/step - loss: 0.1382 - acc: 0.9480 - val_loss: 0.4521 - val_acc: 0.8380\n",
      "Epoch 10/30\n",
      "63/63 [==============================] - 0s 4ms/step - loss: 0.1260 - acc: 0.9500 - val_loss: 0.3245 - val_acc: 0.8840\n",
      "Epoch 11/30\n",
      "63/63 [==============================] - 0s 4ms/step - loss: 0.1190 - acc: 0.9510 - val_loss: 0.3047 - val_acc: 0.8950\n",
      "Epoch 12/30\n",
      "63/63 [==============================] - 0s 4ms/step - loss: 0.1004 - acc: 0.9595 - val_loss: 0.3178 - val_acc: 0.8920\n",
      "Epoch 13/30\n",
      "63/63 [==============================] - 0s 4ms/step - loss: 0.0816 - acc: 0.9695 - val_loss: 0.4205 - val_acc: 0.8700\n",
      "Epoch 14/30\n",
      "63/63 [==============================] - 0s 4ms/step - loss: 0.0805 - acc: 0.9700 - val_loss: 0.3787 - val_acc: 0.8920\n",
      "Epoch 15/30\n",
      "63/63 [==============================] - 0s 4ms/step - loss: 0.0652 - acc: 0.9750 - val_loss: 0.4717 - val_acc: 0.8820\n",
      "Epoch 16/30\n",
      "63/63 [==============================] - 0s 4ms/step - loss: 0.0738 - acc: 0.9745 - val_loss: 0.3937 - val_acc: 0.8880\n",
      "Epoch 17/30\n",
      "63/63 [==============================] - 0s 4ms/step - loss: 0.0673 - acc: 0.9770 - val_loss: 0.5691 - val_acc: 0.8730\n",
      "Epoch 18/30\n",
      "63/63 [==============================] - 0s 4ms/step - loss: 0.0543 - acc: 0.9815 - val_loss: 0.4363 - val_acc: 0.8890\n",
      "Epoch 19/30\n",
      "63/63 [==============================] - 0s 4ms/step - loss: 0.0511 - acc: 0.9830 - val_loss: 0.4501 - val_acc: 0.8910\n",
      "Epoch 20/30\n",
      "63/63 [==============================] - 0s 4ms/step - loss: 0.0580 - acc: 0.9790 - val_loss: 0.5327 - val_acc: 0.8880\n",
      "Epoch 21/30\n",
      "63/63 [==============================] - 0s 4ms/step - loss: 0.0332 - acc: 0.9875 - val_loss: 0.4969 - val_acc: 0.8920\n",
      "Epoch 22/30\n",
      "63/63 [==============================] - 0s 4ms/step - loss: 0.0571 - acc: 0.9795 - val_loss: 0.5347 - val_acc: 0.8910\n",
      "Epoch 23/30\n",
      "63/63 [==============================] - 0s 4ms/step - loss: 0.0180 - acc: 0.9935 - val_loss: 1.0659 - val_acc: 0.8240\n",
      "Epoch 24/30\n",
      "63/63 [==============================] - 0s 4ms/step - loss: 0.0433 - acc: 0.9815 - val_loss: 0.5719 - val_acc: 0.8910\n",
      "Epoch 25/30\n",
      "63/63 [==============================] - 0s 4ms/step - loss: 0.0257 - acc: 0.9885 - val_loss: 0.5769 - val_acc: 0.8870\n",
      "Epoch 26/30\n",
      "63/63 [==============================] - 0s 4ms/step - loss: 0.0240 - acc: 0.9915 - val_loss: 0.6146 - val_acc: 0.8840\n",
      "Epoch 27/30\n",
      "63/63 [==============================] - 0s 4ms/step - loss: 0.0205 - acc: 0.9915 - val_loss: 0.8684 - val_acc: 0.8620\n",
      "Epoch 28/30\n",
      "63/63 [==============================] - 0s 4ms/step - loss: 0.0191 - acc: 0.9925 - val_loss: 0.6973 - val_acc: 0.8890\n",
      "Epoch 29/30\n",
      "63/63 [==============================] - 0s 4ms/step - loss: 0.0236 - acc: 0.9905 - val_loss: 0.6435 - val_acc: 0.8890\n",
      "Epoch 30/30\n",
      "63/63 [==============================] - 0s 4ms/step - loss: 0.0156 - acc: 0.9945 - val_loss: 0.7041 - val_acc: 0.8860\n"
     ]
    }
   ],
   "source": [
    "#!g2.mig\n",
    "history = model.fit(\n",
    "    train_features,\n",
    "    train_labels,\n",
    "    epochs=30,\n",
    "    validation_data=(val_features, val_labels)\n",
    ")"
   ]
  },
  {
   "cell_type": "code",
   "execution_count": 43,
   "id": "8b963e57",
   "metadata": {
    "cellId": "gxl9vwopdy8wby8gq6axb"
   },
   "outputs": [],
   "source": [
    "history_dict = history.history"
   ]
  },
  {
   "cell_type": "code",
   "execution_count": 44,
   "id": "962f6c20",
   "metadata": {
    "cellId": "mpe6gx3vri9c8l6x11z0vd"
   },
   "outputs": [
    {
     "data": {
      "image/png": "[encoded data removed]",
      "text/plain": [
       "<Figure size 432x288 with 1 Axes>"
      ]
     },
     "metadata": {
      "needs_background": "light"
     },
     "output_type": "display_data"
    }
   ],
   "source": [
    "epochs = range(len(history_dict['val_loss']))\n",
    "\n",
    "fig, ax = plt.subplots()\n",
    "\n",
    "ax.plot(epochs, history_dict['val_loss'], label='Validation loss')\n",
    "ax.plot(epochs, history_dict['loss'], label='Training loss')\n",
    "ax.set(xlabel='Epoch', ylabel='loss', title='Loss chart')\n",
    "\n",
    "plt.legend()\n",
    "plt.show()"
   ]
  },
  {
   "cell_type": "code",
   "execution_count": 45,
   "id": "cc4860a7",
   "metadata": {
    "cellId": "0qdp4mgzwcqilihoppsf6b"
   },
   "outputs": [
    {
     "data": {
      "image/png": "[encoded data removed]",
      "text/plain": [
       "<Figure size 432x288 with 1 Axes>"
      ]
     },
     "metadata": {
      "needs_background": "light"
     },
     "output_type": "display_data"
    }
   ],
   "source": [
    "epochs = range(len(history_dict['val_acc']))\n",
    "\n",
    "fig, ax = plt.subplots()\n",
    "\n",
    "ax.plot(epochs, history_dict['val_acc'], label='Validation acc')\n",
    "ax.plot(epochs, history_dict['acc'], label='Training acc')\n",
    "ax.set(xlabel='Epoch', ylabel='acc', title='acc chart')\n",
    "\n",
    "plt.legend()\n",
    "plt.show()"
   ]
  },
  {
   "cell_type": "markdown",
   "id": "e71a4e94",
   "metadata": {
    "cellId": "fjuh2v38iiubuay5uk7wy",
    "execution_id": "5712db46-150e-4802-9684-7de8862b8b04"
   },
   "source": [
    "### Выводы\n",
    "\n",
    "Заметно значительное повышение качества модели\n",
    "- Точность повысилась до 0.9\n",
    "- Потери около 0.8\n",
    "\n",
    "Заметен эффект переобучения на первых эпохах. Модели не хвататет данных"
   ]
  },
  {
   "cell_type": "markdown",
   "id": "72789dc3",
   "metadata": {
    "cellId": "bgcx9n4gqnvr4yepp9mm5",
    "execution_id": "f34c816c-a27b-407e-896e-7a796986b499"
   },
   "source": [
    "## Путь 1. Энергозатраный"
   ]
  },
  {
   "cell_type": "code",
   "execution_count": 62,
   "id": "4eb339a3",
   "metadata": {
    "cellId": "7nd0u0uxnz87p5wbaefdu4"
   },
   "outputs": [],
   "source": [
    "#!g2.mig\n",
    "train_data = ImageDataGenerator(\n",
    "    rescale=1/255,\n",
    "    rotation_range=40,\n",
    "    width_shift_range=0.2,\n",
    "    height_shift_range=0.2,\n",
    "    shear_range=0.2,\n",
    "    zoom_range=0.2,\n",
    "    horizontal_flip=True,\n",
    "    fill_mode='nearest'\n",
    ")\n",
    "test_data = ImageDataGenerator(rescale=1/255)"
   ]
  },
  {
   "cell_type": "code",
   "execution_count": 63,
   "id": "43fbccbd",
   "metadata": {
    "cellId": "nbk3abpx8nota7oyw1o8qs"
   },
   "outputs": [
    {
     "name": "stdout",
     "output_type": "stream",
     "text": [
      "Found 2000 images belonging to 2 classes.\n",
      "Found 1000 images belonging to 2 classes.\n",
      "Found 1000 images belonging to 2 classes.\n"
     ]
    }
   ],
   "source": [
    "#!g2.mig\n",
    "train_generator = train_data.flow_from_directory(\n",
    "    TRAIN_PATH,\n",
    "    target_size=(150, 150),\n",
    "    batch_size=BATCH_SIZE,\n",
    "    class_mode='binary'\n",
    ")\n",
    "valid_generator = train_data.flow_from_directory(\n",
    "    VAL_PATH,\n",
    "    target_size=(150, 150),\n",
    "    batch_size=BATCH_SIZE,\n",
    "    class_mode='binary'\n",
    ")\n",
    "test_generator = test_data.flow_from_directory(\n",
    "    TEST_PATH,\n",
    "    target_size=(150, 150),\n",
    "    batch_size=BATCH_SIZE,\n",
    "    class_mode='binary'\n",
    ")"
   ]
  },
  {
   "cell_type": "code",
   "execution_count": 64,
   "id": "bac9ac80",
   "metadata": {
    "cellId": "kyc5a9hzokeeuegdqdh7fm"
   },
   "outputs": [],
   "source": [
    "#!g2.mig\n",
    "\n",
    "conv_base = VGG16(\n",
    "    weights='imagenet',\n",
    "    include_top=False,\n",
    "    input_shape=(150, 150, 3)\n",
    ")"
   ]
  },
  {
   "cell_type": "code",
   "execution_count": 65,
   "id": "d8c97366",
   "metadata": {
    "cellId": "s2b6cw00feqy8fx2oyao"
   },
   "outputs": [],
   "source": [
    "#!g2.mig\n",
    "\n",
    "model = Sequential()\n",
    "model.add(conv_base)\n",
    "model.add(layers.Flatten())\n",
    "model.add(layers.Dense(256, activation='relu', input_shape=(8192,)))\n",
    "model.add(layers.Dense(1, activation='sigmoid'))\n",
    "\n",
    "conv_base.trainable = False\n",
    "\n",
    "model.compile(optimizer='rmsprop', loss='binary_crossentropy', metrics=['acc'])"
   ]
  },
  {
   "cell_type": "code",
   "execution_count": 66,
   "id": "f1f1a1e0",
   "metadata": {
    "cellId": "g19zmet4w9sx722e9rak6"
   },
   "outputs": [
    {
     "name": "stdout",
     "output_type": "stream",
     "text": [
      "Model: \"sequential_4\"\n",
      "_________________________________________________________________\n",
      "Layer (type)                 Output Shape              Param #   \n",
      "=================================================================\n",
      "vgg16 (Functional)           (None, 4, 4, 512)         14714688  \n",
      "_________________________________________________________________\n",
      "flatten_4 (Flatten)          (None, 8192)              0         \n",
      "_________________________________________________________________\n",
      "dense_8 (Dense)              (None, 256)               2097408   \n",
      "_________________________________________________________________\n",
      "dense_9 (Dense)              (None, 1)                 257       \n",
      "=================================================================\n",
      "Total params: 16,812,353\n",
      "Trainable params: 2,097,665\n",
      "Non-trainable params: 14,714,688\n",
      "_________________________________________________________________\n"
     ]
    }
   ],
   "source": [
    "#!g2.mig\n",
    "\n",
    "model.summary()"
   ]
  },
  {
   "cell_type": "code",
   "execution_count": 68,
   "id": "d196f634",
   "metadata": {
    "cellId": "62x3lu16i5bx4vy8zo67zm"
   },
   "outputs": [
    {
     "name": "stderr",
     "output_type": "stream",
     "text": [
      "2023-01-29 18:42:44.426152: I tensorflow/compiler/mlir/mlir_graph_optimization_pass.cc:185] None of the MLIR Optimization Passes are enabled (registered 2)\n"
     ]
    },
    {
     "name": "stdout",
     "output_type": "stream",
     "text": [
      "Epoch 1/30\n"
     ]
    },
    {
     "name": "stderr",
     "output_type": "stream",
     "text": [
      "2023-01-29 18:42:47.648000: I tensorflow/stream_executor/cuda/cuda_dnn.cc:369] Loaded cuDNN version 8101\n",
      "2023-01-29 18:42:55.257767: W tensorflow/core/common_runtime/bfc_allocator.cc:272] Allocator (GPU_0_bfc) ran out of memory trying to allocate 2.66GiB with freed_by_count=0. The caller indicates that this is not a failure, but may mean that there could be performance gains if more memory were available.\n",
      "2023-01-29 18:42:55.257839: W tensorflow/core/common_runtime/bfc_allocator.cc:272] Allocator (GPU_0_bfc) ran out of memory trying to allocate 2.66GiB with freed_by_count=0. The caller indicates that this is not a failure, but may mean that there could be performance gains if more memory were available.\n",
      "2023-01-29 18:42:56.200755: W tensorflow/core/common_runtime/bfc_allocator.cc:272] Allocator (GPU_0_bfc) ran out of memory trying to allocate 2.36GiB with freed_by_count=0. The caller indicates that this is not a failure, but may mean that there could be performance gains if more memory were available.\n",
      "2023-01-29 18:42:56.200819: W tensorflow/core/common_runtime/bfc_allocator.cc:272] Allocator (GPU_0_bfc) ran out of memory trying to allocate 2.36GiB with freed_by_count=0. The caller indicates that this is not a failure, but may mean that there could be performance gains if more memory were available.\n",
      "2023-01-29 18:42:57.088711: W tensorflow/core/common_runtime/bfc_allocator.cc:272] Allocator (GPU_0_bfc) ran out of memory trying to allocate 2.24GiB with freed_by_count=0. The caller indicates that this is not a failure, but may mean that there could be performance gains if more memory were available.\n",
      "2023-01-29 18:42:57.088775: W tensorflow/core/common_runtime/bfc_allocator.cc:272] Allocator (GPU_0_bfc) ran out of memory trying to allocate 2.24GiB with freed_by_count=0. The caller indicates that this is not a failure, but may mean that there could be performance gains if more memory were available.\n",
      "2023-01-29 18:42:57.936258: W tensorflow/core/common_runtime/bfc_allocator.cc:272] Allocator (GPU_0_bfc) ran out of memory trying to allocate 2.23GiB with freed_by_count=0. The caller indicates that this is not a failure, but may mean that there could be performance gains if more memory were available.\n",
      "2023-01-29 18:42:57.936317: W tensorflow/core/common_runtime/bfc_allocator.cc:272] Allocator (GPU_0_bfc) ran out of memory trying to allocate 2.23GiB with freed_by_count=0. The caller indicates that this is not a failure, but may mean that there could be performance gains if more memory were available.\n",
      "2023-01-29 18:42:58.251615: I tensorflow/stream_executor/cuda/cuda_blas.cc:1760] TensorFloat-32 will be used for the matrix multiplication. This will only be logged once.\n"
     ]
    },
    {
     "name": "stdout",
     "output_type": "stream",
     "text": [
      "100/100 [==============================] - 35s 213ms/step - loss: 0.7636 - acc: 0.6845 - val_loss: 0.5379 - val_acc: 0.7210\n",
      "Epoch 2/30\n",
      "100/100 [==============================] - 16s 158ms/step - loss: 0.4954 - acc: 0.7555 - val_loss: 0.7694 - val_acc: 0.6340\n",
      "Epoch 3/30\n",
      "100/100 [==============================] - 14s 144ms/step - loss: 0.4414 - acc: 0.7865 - val_loss: 0.5682 - val_acc: 0.7060\n",
      "Epoch 4/30\n",
      "100/100 [==============================] - 14s 144ms/step - loss: 0.4153 - acc: 0.8085 - val_loss: 0.4023 - val_acc: 0.8120\n",
      "Epoch 5/30\n",
      "100/100 [==============================] - 14s 145ms/step - loss: 0.3754 - acc: 0.8325 - val_loss: 0.3697 - val_acc: 0.8330\n",
      "Epoch 6/30\n",
      "100/100 [==============================] - 14s 144ms/step - loss: 0.3972 - acc: 0.8125 - val_loss: 0.4441 - val_acc: 0.7760\n",
      "Epoch 7/30\n",
      "100/100 [==============================] - 14s 143ms/step - loss: 0.3888 - acc: 0.8325 - val_loss: 0.3643 - val_acc: 0.8350\n",
      "Epoch 8/30\n",
      "100/100 [==============================] - 14s 144ms/step - loss: 0.3662 - acc: 0.8275 - val_loss: 0.3901 - val_acc: 0.8270\n",
      "Epoch 9/30\n",
      "100/100 [==============================] - 14s 145ms/step - loss: 0.3450 - acc: 0.8525 - val_loss: 0.3748 - val_acc: 0.8270\n",
      "Epoch 10/30\n",
      "100/100 [==============================] - 14s 144ms/step - loss: 0.3575 - acc: 0.8375 - val_loss: 0.3611 - val_acc: 0.8410\n",
      "Epoch 11/30\n",
      "100/100 [==============================] - 14s 145ms/step - loss: 0.3383 - acc: 0.8420 - val_loss: 0.3353 - val_acc: 0.8510\n",
      "Epoch 12/30\n",
      "100/100 [==============================] - 14s 144ms/step - loss: 0.3379 - acc: 0.8535 - val_loss: 0.3700 - val_acc: 0.8160\n",
      "Epoch 13/30\n",
      "100/100 [==============================] - 14s 145ms/step - loss: 0.3248 - acc: 0.8695 - val_loss: 0.3609 - val_acc: 0.8360\n",
      "Epoch 14/30\n",
      "100/100 [==============================] - 14s 144ms/step - loss: 0.3329 - acc: 0.8550 - val_loss: 0.3302 - val_acc: 0.8540\n",
      "Epoch 15/30\n",
      "100/100 [==============================] - 14s 145ms/step - loss: 0.3223 - acc: 0.8580 - val_loss: 0.3610 - val_acc: 0.8290\n",
      "Epoch 16/30\n",
      "100/100 [==============================] - 14s 144ms/step - loss: 0.3001 - acc: 0.8770 - val_loss: 0.3642 - val_acc: 0.8530\n",
      "Epoch 17/30\n",
      "100/100 [==============================] - 14s 144ms/step - loss: 0.3290 - acc: 0.8560 - val_loss: 0.3429 - val_acc: 0.8320\n",
      "Epoch 18/30\n",
      "100/100 [==============================] - 14s 144ms/step - loss: 0.3168 - acc: 0.8540 - val_loss: 0.3375 - val_acc: 0.8480\n",
      "Epoch 19/30\n",
      "100/100 [==============================] - 14s 144ms/step - loss: 0.3161 - acc: 0.8685 - val_loss: 0.3697 - val_acc: 0.8370\n",
      "Epoch 20/30\n",
      "100/100 [==============================] - 14s 144ms/step - loss: 0.2938 - acc: 0.8710 - val_loss: 0.3581 - val_acc: 0.8460\n",
      "Epoch 21/30\n",
      "100/100 [==============================] - 14s 144ms/step - loss: 0.3317 - acc: 0.8545 - val_loss: 0.3420 - val_acc: 0.8470\n",
      "Epoch 22/30\n",
      "100/100 [==============================] - 14s 144ms/step - loss: 0.3141 - acc: 0.8665 - val_loss: 0.3467 - val_acc: 0.8420\n",
      "Epoch 23/30\n",
      "100/100 [==============================] - 14s 145ms/step - loss: 0.3084 - acc: 0.8790 - val_loss: 0.3804 - val_acc: 0.8340\n",
      "Epoch 24/30\n",
      "100/100 [==============================] - 14s 144ms/step - loss: 0.3014 - acc: 0.8705 - val_loss: 0.3552 - val_acc: 0.8540\n",
      "Epoch 25/30\n",
      "100/100 [==============================] - 14s 145ms/step - loss: 0.2966 - acc: 0.8690 - val_loss: 0.3511 - val_acc: 0.8460\n",
      "Epoch 26/30\n",
      "100/100 [==============================] - 14s 144ms/step - loss: 0.2904 - acc: 0.8745 - val_loss: 0.3658 - val_acc: 0.8430\n",
      "Epoch 27/30\n",
      "100/100 [==============================] - 14s 144ms/step - loss: 0.2868 - acc: 0.8860 - val_loss: 0.4123 - val_acc: 0.8280\n",
      "Epoch 28/30\n",
      "100/100 [==============================] - 14s 143ms/step - loss: 0.2904 - acc: 0.8760 - val_loss: 0.3850 - val_acc: 0.8410\n",
      "Epoch 29/30\n",
      "100/100 [==============================] - 14s 144ms/step - loss: 0.2800 - acc: 0.8810 - val_loss: 0.3616 - val_acc: 0.8510\n",
      "Epoch 30/30\n",
      "100/100 [==============================] - 14s 145ms/step - loss: 0.2855 - acc: 0.8835 - val_loss: 0.4027 - val_acc: 0.8290\n"
     ]
    }
   ],
   "source": [
    "#!g2.mig\n",
    "\n",
    "history = model.fit(\n",
    "    train_generator,\n",
    "    steps_per_epoch=100,\n",
    "    epochs=30,\n",
    "    validation_data=valid_generator,\n",
    "    validation_steps=50\n",
    ")"
   ]
  },
  {
   "cell_type": "code",
   "execution_count": 69,
   "id": "16072c36",
   "metadata": {
    "cellId": "rm2yx5wb5j76xiy0mh5qp"
   },
   "outputs": [
    {
     "name": "stderr",
     "output_type": "stream",
     "text": [
      "2023-01-29 18:51:23.648016: W tensorflow/stream_executor/platform/default/dso_loader.cc:64] Could not load dynamic library 'libcuda.so.1'; dlerror: libcuda.so.1: cannot open shared object file: No such file or directory; LD_LIBRARY_PATH: /usr/local/nvidia/lib:/usr/local/nvidia/lib64:/usr/local/cuda/lib64\n",
      "2023-01-29 18:51:23.648058: W tensorflow/stream_executor/cuda/cuda_driver.cc:269] failed call to cuInit: UNKNOWN ERROR (303)\n",
      "2023-01-29 18:51:23.648078: I tensorflow/stream_executor/cuda/cuda_diagnostics.cc:156] kernel driver does not appear to be running on this host (s-fdd4d8bf-b259-460b-a616-9593f9caa131): /proc/driver/nvidia/version does not exist\n",
      "2023-01-29 18:51:23.648368: I tensorflow/core/platform/cpu_feature_guard.cc:142] This TensorFlow binary is optimized with oneAPI Deep Neural Network Library (oneDNN) to use the following CPU instructions in performance-critical operations:  AVX2 AVX512F FMA\n",
      "To enable them in other operations, rebuild TensorFlow with the appropriate compiler flags.\n"
     ]
    }
   ],
   "source": [
    "history_dict = history.history"
   ]
  },
  {
   "cell_type": "code",
   "execution_count": 70,
   "id": "53401725",
   "metadata": {
    "cellId": "lto30y1bmmaovb3lgm8ngn"
   },
   "outputs": [
    {
     "data": {
      "image/png": "[encoded data removed]",
      "text/plain": [
       "<Figure size 432x288 with 1 Axes>"
      ]
     },
     "metadata": {
      "needs_background": "light"
     },
     "output_type": "display_data"
    }
   ],
   "source": [
    "epochs = range(len(history_dict['val_loss']))\n",
    "\n",
    "fig, ax = plt.subplots()\n",
    "\n",
    "ax.plot(epochs, history_dict['val_loss'], label='Validation loss')\n",
    "ax.plot(epochs, history_dict['loss'], label='Training loss')\n",
    "ax.set(xlabel='Epoch', ylabel='loss', title='Loss chart')\n",
    "\n",
    "plt.legend()\n",
    "plt.show()"
   ]
  },
  {
   "cell_type": "code",
   "execution_count": 71,
   "id": "fcf41ec0",
   "metadata": {
    "cellId": "57ddxl3iz63y7y6p4wc55q"
   },
   "outputs": [
    {
     "data": {
      "image/png": "[encoded data removed]",
      "text/plain": [
       "<Figure size 432x288 with 1 Axes>"
      ]
     },
     "metadata": {
      "needs_background": "light"
     },
     "output_type": "display_data"
    }
   ],
   "source": [
    "epochs = range(len(history_dict['val_acc']))\n",
    "\n",
    "fig, ax = plt.subplots()\n",
    "\n",
    "ax.plot(epochs, history_dict['val_acc'], label='Validation acc')\n",
    "ax.plot(epochs, history_dict['acc'], label='Training acc')\n",
    "ax.set(xlabel='Epoch', ylabel='acc', title='acc chart')\n",
    "\n",
    "plt.legend()\n",
    "plt.show()"
   ]
  },
  {
   "cell_type": "markdown",
   "id": "eca4bc0d",
   "metadata": {
    "cellId": "93w9sq3yzmcyg1og5l1c7e",
    "execution_id": "67caba97-3b43-479e-af90-ce3a4b0ee32d"
   },
   "source": [
    "### Выводы\n",
    "\n",
    "Заметно значительное повышение качества модели\n",
    "- Точность немного уменьшилась по сравнению с предыдущей моделей\n",
    "- Потери упали примерно до 0.4\n",
    "\n",
    "Эффект переобучения выявлен не так выражено"
   ]
  },
  {
   "cell_type": "code",
   "execution_count": null,
   "id": "ba471619",
   "metadata": {
    "cellId": "pbtt6s7ihlbbueag4brtl4"
   },
   "outputs": [],
   "source": []
  }
 ],
 "metadata": {
  "language_info": {
   "codemirror_mode": {
    "name": "ipython",
    "version": 3
   },
   "file_extension": ".py",
   "mimetype": "text/x-python",
   "name": "python",
   "nbconvert_exporter": "python",
   "pygments_lexer": "ipython3",
   "version": "3.7.7"
  },
  "notebookId": "c0286351-a3f9-472b-92fe-d54825922ac7",
  "notebookPath": "deep-learning/chapter-5/Использование предварительно обученной CNN.ipynb"
 },
 "nbformat": 4,
 "nbformat_minor": 5
}
