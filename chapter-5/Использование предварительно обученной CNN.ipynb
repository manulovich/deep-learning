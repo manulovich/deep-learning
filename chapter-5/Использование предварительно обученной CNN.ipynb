{
 "cells": [
  {
   "cell_type": "markdown",
   "id": "b59cd710",
   "metadata": {
    "cellId": "19437kgefytnhihy3kdst",
    "execution_id": "5dba584c-df79-444f-af54-b60c755d6dc4"
   },
   "source": [
    "# Использование предварительно обученной CNN"
   ]
  },
  {
   "cell_type": "markdown",
   "id": "363d9151",
   "metadata": {
    "cellId": "ghzd6nhathxj9sjmxu8x8"
   },
   "source": [
    "## Используемые библиотеки"
   ]
  },
  {
   "cell_type": "code",
   "execution_count": 104,
   "id": "c50541a2",
   "metadata": {
    "cellId": "mc9xek47tidzkvjc79uhj"
   },
   "outputs": [],
   "source": [
    "import keras\n",
    "import shutil, os\n",
    "from keras.applications.vgg16 import VGG16\n",
    "import numpy as np\n",
    "from keras import layers\n",
    "from keras import Sequential\n",
    "from keras import optimizers\n",
    "import matplotlib.pyplot as plt\n",
    "from keras.preprocessing.image import ImageDataGenerator"
   ]
  },
  {
   "cell_type": "markdown",
   "id": "2982049e",
   "metadata": {
    "cellId": "id3qa1gdufr91khf0t21ge",
    "execution_id": "6dee65c6-54d8-4bc6-ab0c-ab92b9ba1c42"
   },
   "source": [
    "## Константы"
   ]
  },
  {
   "cell_type": "code",
   "execution_count": 105,
   "id": "5723447c",
   "metadata": {
    "cellId": "m1xnu4fja1cgve0q9vlca"
   },
   "outputs": [],
   "source": [
    "BATCH_SIZE = 20\n",
    "TRAIN_PATH = os.path.join(os.getcwd(), '..', 'data', 'cat-vs-dog', 'learn', 'train')\n",
    "TEST_PATH = os.path.join(os.getcwd(), '..', 'data', 'cat-vs-dog', 'learn', 'test')\n",
    "VAL_PATH = os.path.join(os.getcwd(), '..', 'data', 'cat-vs-dog', 'learn', 'val')"
   ]
  },
  {
   "cell_type": "markdown",
   "id": "6024bfb6",
   "metadata": {
    "cellId": "zi78xn9wg0se62ch3stigv",
    "execution_id": "bce5a382-62d4-4f1b-8429-fe72da9483d0"
   },
   "source": [
    "## Экземпляр сверточной основы VGG16"
   ]
  },
  {
   "cell_type": "code",
   "execution_count": 108,
   "id": "fa61d489",
   "metadata": {
    "cellId": "nlbmaydvqol8p17bacynsy"
   },
   "outputs": [],
   "source": [
    "conv_base = VGG16(\n",
    "    weights='imagenet',\n",
    "    include_top=False,\n",
    "    input_shape=(150, 150, 3)\n",
    ")"
   ]
  },
  {
   "cell_type": "code",
   "execution_count": 109,
   "id": "9527b759",
   "metadata": {
    "cellId": "ndhbqpshlb15idtsylckr"
   },
   "outputs": [
    {
     "name": "stdout",
     "output_type": "stream",
     "text": [
      "Model: \"vgg16\"\n",
      "_________________________________________________________________\n",
      "Layer (type)                 Output Shape              Param #   \n",
      "=================================================================\n",
      "input_2 (InputLayer)         [(None, 150, 150, 3)]     0         \n",
      "_________________________________________________________________\n",
      "block1_conv1 (Conv2D)        (None, 150, 150, 64)      1792      \n",
      "_________________________________________________________________\n",
      "block1_conv2 (Conv2D)        (None, 150, 150, 64)      36928     \n",
      "_________________________________________________________________\n",
      "block1_pool (MaxPooling2D)   (None, 75, 75, 64)        0         \n",
      "_________________________________________________________________\n",
      "block2_conv1 (Conv2D)        (None, 75, 75, 128)       73856     \n",
      "_________________________________________________________________\n",
      "block2_conv2 (Conv2D)        (None, 75, 75, 128)       147584    \n",
      "_________________________________________________________________\n",
      "block2_pool (MaxPooling2D)   (None, 37, 37, 128)       0         \n",
      "_________________________________________________________________\n",
      "block3_conv1 (Conv2D)        (None, 37, 37, 256)       295168    \n",
      "_________________________________________________________________\n",
      "block3_conv2 (Conv2D)        (None, 37, 37, 256)       590080    \n",
      "_________________________________________________________________\n",
      "block3_conv3 (Conv2D)        (None, 37, 37, 256)       590080    \n",
      "_________________________________________________________________\n",
      "block3_pool (MaxPooling2D)   (None, 18, 18, 256)       0         \n",
      "_________________________________________________________________\n",
      "block4_conv1 (Conv2D)        (None, 18, 18, 512)       1180160   \n",
      "_________________________________________________________________\n",
      "block4_conv2 (Conv2D)        (None, 18, 18, 512)       2359808   \n",
      "_________________________________________________________________\n",
      "block4_conv3 (Conv2D)        (None, 18, 18, 512)       2359808   \n",
      "_________________________________________________________________\n",
      "block4_pool (MaxPooling2D)   (None, 9, 9, 512)         0         \n",
      "_________________________________________________________________\n",
      "block5_conv1 (Conv2D)        (None, 9, 9, 512)         2359808   \n",
      "_________________________________________________________________\n",
      "block5_conv2 (Conv2D)        (None, 9, 9, 512)         2359808   \n",
      "_________________________________________________________________\n",
      "block5_conv3 (Conv2D)        (None, 9, 9, 512)         2359808   \n",
      "_________________________________________________________________\n",
      "block5_pool (MaxPooling2D)   (None, 4, 4, 512)         0         \n",
      "=================================================================\n",
      "Total params: 14,714,688\n",
      "Trainable params: 14,714,688\n",
      "Non-trainable params: 0\n",
      "_________________________________________________________________\n"
     ]
    }
   ],
   "source": [
    "conv_base.summary()"
   ]
  },
  {
   "cell_type": "markdown",
   "id": "80f17fdf",
   "metadata": {
    "cellId": "h4efoum98t55qx308t7f3v",
    "execution_id": "65225444-cc1a-4475-b3fe-5f3e7805a33e"
   },
   "source": [
    "## Пути использования готовой сверточной основы\n",
    "\n",
    "1. Выделение признаков\n",
    "    - Менее энергозатратный: Преобразовать датасет при помощи готовой сверточной основы и обучить простую полносвязную сеть\n",
    "    - Более энергозатратный: Поверх сверточной сети добавить полносвязный классификатор\n",
    "2. Дообучение"
   ]
  },
  {
   "cell_type": "markdown",
   "id": "dc664834",
   "metadata": {
    "cellId": "rqyimflsgoprnzr05mh3y"
   },
   "source": [
    "## Выделение признаков"
   ]
  },
  {
   "cell_type": "markdown",
   "id": "a47b884d",
   "metadata": {
    "cellId": "71iqk2d09pd5xq8dlrnvl9",
    "execution_id": "00b12716-18ea-4abe-8314-a8b5111f9b02"
   },
   "source": [
    "### Путь 0. Менее энергозатратный"
   ]
  },
  {
   "cell_type": "markdown",
   "id": "640730f0",
   "metadata": {
    "cellId": "lfxuin3bdjc4fggkhn4oio",
    "execution_id": "f8f294d2-938a-4a3d-9c8a-b84fa2f1065e"
   },
   "source": [
    "#### Формируем фичи"
   ]
  },
  {
   "cell_type": "code",
   "execution_count": 110,
   "id": "2bb24783",
   "metadata": {
    "cellId": "f5ae44kq0a5otjc42b4zd"
   },
   "outputs": [],
   "source": [
    "#!g2.mig\n",
    "\n",
    "def extract_features(directory: str, sample_count: int):\n",
    "    features = np.zeros(shape=(sample_count, 4, 4, 512)) # Последние 3 значения соответсвуют форме выходу сверточной основы\n",
    "    labels = np.zeros(shape=(sample_count))\n",
    "    \n",
    "    conv_base = VGG16(\n",
    "        weights='imagenet',\n",
    "        include_top=False,\n",
    "        input_shape=(150, 150, 3)\n",
    "    )\n",
    "    \n",
    "    datagen = ImageDataGenerator(rescale=1/255)\n",
    "    generator = datagen.flow_from_directory(\n",
    "        directory,\n",
    "        target_size=(150, 150),\n",
    "        batch_size=BATCH_SIZE,\n",
    "        class_mode='binary'\n",
    "    )\n",
    "    \n",
    "    i = 0\n",
    "    for inputs_batch, labels_batch in generator:\n",
    "        features_batch = conv_base.predict(inputs_batch)\n",
    "        \n",
    "        features[i*BATCH_SIZE:(i+1)*BATCH_SIZE] = features_batch\n",
    "        labels[i*BATCH_SIZE:(i+1)*BATCH_SIZE] = labels_batch\n",
    "        \n",
    "        i += 1\n",
    "        if i * BATCH_SIZE >= sample_count:\n",
    "            break\n",
    "    \n",
    "    return features, labels"
   ]
  },
  {
   "cell_type": "code",
   "execution_count": 111,
   "id": "675a9088",
   "metadata": {
    "cellId": "2lu3o5thku4b0r0tnzsxj9"
   },
   "outputs": [
    {
     "name": "stderr",
     "output_type": "stream",
     "text": [
      "2023-02-06 19:31:12.073669: I tensorflow/core/platform/cpu_feature_guard.cc:142] This TensorFlow binary is optimized with oneAPI Deep Neural Network Library (oneDNN) to use the following CPU instructions in performance-critical operations:  AVX2 FMA\n",
      "To enable them in other operations, rebuild TensorFlow with the appropriate compiler flags.\n",
      "2023-02-06 19:31:12.522040: I tensorflow/core/common_runtime/gpu/gpu_device.cc:1510] Created device /job:localhost/replica:0/task:0/device:GPU:0 with 2629 MB memory:  -> device: 0, name: GRID A100X-1-5C MIG 1g.5gb, pci bus id: 0000:8c:00.0, compute capability: 8.0\n",
      "2023-02-06 19:31:13.863810: I tensorflow/compiler/mlir/mlir_graph_optimization_pass.cc:185] None of the MLIR Optimization Passes are enabled (registered 2)\n",
      "2023-02-06 19:31:14.516686: I tensorflow/stream_executor/cuda/cuda_dnn.cc:369] Loaded cuDNN version 8101\n",
      "2023-02-06 19:31:16.236418: W tensorflow/core/common_runtime/bfc_allocator.cc:272] Allocator (GPU_0_bfc) ran out of memory trying to allocate 2.66GiB with freed_by_count=0. The caller indicates that this is not a failure, but may mean that there could be performance gains if more memory were available.\n",
      "2023-02-06 19:31:16.236484: W tensorflow/core/common_runtime/bfc_allocator.cc:272] Allocator (GPU_0_bfc) ran out of memory trying to allocate 2.66GiB with freed_by_count=0. The caller indicates that this is not a failure, but may mean that there could be performance gains if more memory were available.\n",
      "2023-02-06 19:31:17.171856: W tensorflow/core/common_runtime/bfc_allocator.cc:272] Allocator (GPU_0_bfc) ran out of memory trying to allocate 2.36GiB with freed_by_count=0. The caller indicates that this is not a failure, but may mean that there could be performance gains if more memory were available.\n",
      "2023-02-06 19:31:17.171920: W tensorflow/core/common_runtime/bfc_allocator.cc:272] Allocator (GPU_0_bfc) ran out of memory trying to allocate 2.36GiB with freed_by_count=0. The caller indicates that this is not a failure, but may mean that there could be performance gains if more memory were available.\n"
     ]
    },
    {
     "name": "stdout",
     "output_type": "stream",
     "text": [
      "Found 2000 images belonging to 2 classes.\n",
      "Found 1000 images belonging to 2 classes.\n",
      "Found 1000 images belonging to 2 classes.\n"
     ]
    }
   ],
   "source": [
    "#!g2.mig\n",
    "\n",
    "train_features, train_labels = extract_features(TRAIN_PATH, 2000)\n",
    "val_features, val_labels = extract_features(VAL_PATH, 1000)\n",
    "test_features, test_labels = extract_features(TEST_PATH, 1000)"
   ]
  },
  {
   "cell_type": "code",
   "execution_count": 112,
   "id": "c3906a2e",
   "metadata": {
    "cellId": "c8ihy9sl645nzwrj7aw5am"
   },
   "outputs": [],
   "source": [
    "#!g2.mig\n",
    "\n",
    "train_features = train_features.reshape(2_000, 4 * 4 * 512)\n",
    "val_features = val_features.reshape(1_000, 4 * 4 * 512)\n",
    "test_features = test_features.reshape(1_000, 4 * 4 * 512)"
   ]
  },
  {
   "cell_type": "markdown",
   "id": "31dcf1d3",
   "metadata": {
    "cellId": "b7t9r8fkc1guxn8opaesqo",
    "execution_id": "df475d31-6180-4e87-aea3-40ccdbff02b0"
   },
   "source": [
    "#### Создаем классификтор"
   ]
  },
  {
   "cell_type": "code",
   "execution_count": 113,
   "id": "f2385410",
   "metadata": {
    "cellId": "lo325pdgwnayiwhcevkvf"
   },
   "outputs": [],
   "source": [
    "#!g2.mig\n",
    "\n",
    "model = Sequential()\n",
    "model.add(layers.Dense(256, activation='relu', input_shape=(8192,)))\n",
    "model.add(layers.Dropout(0.5))\n",
    "model.add(layers.Dense(1, activation='sigmoid'))\n",
    "\n",
    "model.compile(optimizer='rmsprop', loss='binary_crossentropy', metrics=['acc'])"
   ]
  },
  {
   "cell_type": "code",
   "execution_count": 114,
   "id": "41db5aad",
   "metadata": {
    "cellId": "ixehj0uddr8w79jwu7ekb"
   },
   "outputs": [
    {
     "name": "stderr",
     "output_type": "stream",
     "text": [
      "2023-02-06 19:31:51.542572: I tensorflow/stream_executor/cuda/cuda_blas.cc:1760] TensorFloat-32 will be used for the matrix multiplication. This will only be logged once.\n"
     ]
    },
    {
     "name": "stdout",
     "output_type": "stream",
     "text": [
      "Epoch 1/30\n",
      "63/63 [==============================] - 1s 6ms/step - loss: 0.8610 - acc: 0.7250 - val_loss: 0.8307 - val_acc: 0.6640\n",
      "Epoch 2/30\n",
      "63/63 [==============================] - 0s 4ms/step - loss: 0.4098 - acc: 0.8185 - val_loss: 0.3044 - val_acc: 0.8520\n",
      "Epoch 3/30\n",
      "63/63 [==============================] - 0s 4ms/step - loss: 0.3522 - acc: 0.8530 - val_loss: 0.3231 - val_acc: 0.8590\n",
      "Epoch 4/30\n",
      "63/63 [==============================] - 0s 4ms/step - loss: 0.2927 - acc: 0.8775 - val_loss: 0.2789 - val_acc: 0.8850\n",
      "Epoch 5/30\n",
      "63/63 [==============================] - 0s 4ms/step - loss: 0.2492 - acc: 0.8945 - val_loss: 0.5421 - val_acc: 0.8110\n",
      "Epoch 6/30\n",
      "63/63 [==============================] - 0s 4ms/step - loss: 0.2399 - acc: 0.9005 - val_loss: 0.2703 - val_acc: 0.8900\n",
      "Epoch 7/30\n",
      "63/63 [==============================] - 0s 4ms/step - loss: 0.1938 - acc: 0.9220 - val_loss: 0.5975 - val_acc: 0.8060\n",
      "Epoch 8/30\n",
      "63/63 [==============================] - 0s 4ms/step - loss: 0.1680 - acc: 0.9410 - val_loss: 0.2988 - val_acc: 0.8810\n",
      "Epoch 9/30\n",
      "63/63 [==============================] - 0s 4ms/step - loss: 0.1467 - acc: 0.9435 - val_loss: 0.5242 - val_acc: 0.8410\n",
      "Epoch 10/30\n",
      "63/63 [==============================] - 0s 4ms/step - loss: 0.1628 - acc: 0.9370 - val_loss: 0.3046 - val_acc: 0.8940\n",
      "Epoch 11/30\n",
      "63/63 [==============================] - 0s 4ms/step - loss: 0.1294 - acc: 0.9540 - val_loss: 0.4029 - val_acc: 0.8690\n",
      "Epoch 12/30\n",
      "63/63 [==============================] - 0s 4ms/step - loss: 0.1208 - acc: 0.9525 - val_loss: 0.4732 - val_acc: 0.8420\n",
      "Epoch 13/30\n",
      "63/63 [==============================] - 0s 4ms/step - loss: 0.0953 - acc: 0.9610 - val_loss: 0.4438 - val_acc: 0.8690\n",
      "Epoch 14/30\n",
      "63/63 [==============================] - 0s 4ms/step - loss: 0.0730 - acc: 0.9735 - val_loss: 0.4003 - val_acc: 0.8930\n",
      "Epoch 15/30\n",
      "63/63 [==============================] - 0s 4ms/step - loss: 0.0935 - acc: 0.9625 - val_loss: 0.9333 - val_acc: 0.8080\n",
      "Epoch 16/30\n",
      "63/63 [==============================] - 0s 4ms/step - loss: 0.0666 - acc: 0.9755 - val_loss: 0.3866 - val_acc: 0.8920\n",
      "Epoch 17/30\n",
      "63/63 [==============================] - 0s 4ms/step - loss: 0.0726 - acc: 0.9740 - val_loss: 0.6255 - val_acc: 0.8480\n",
      "Epoch 18/30\n",
      "63/63 [==============================] - 0s 4ms/step - loss: 0.0702 - acc: 0.9760 - val_loss: 0.4235 - val_acc: 0.8890\n",
      "Epoch 19/30\n",
      "63/63 [==============================] - 0s 4ms/step - loss: 0.0571 - acc: 0.9775 - val_loss: 0.4828 - val_acc: 0.8860\n",
      "Epoch 20/30\n",
      "63/63 [==============================] - 0s 4ms/step - loss: 0.0499 - acc: 0.9830 - val_loss: 0.5065 - val_acc: 0.8950\n",
      "Epoch 21/30\n",
      "63/63 [==============================] - 0s 4ms/step - loss: 0.0345 - acc: 0.9885 - val_loss: 0.5637 - val_acc: 0.8800\n",
      "Epoch 22/30\n",
      "63/63 [==============================] - 0s 4ms/step - loss: 0.0402 - acc: 0.9865 - val_loss: 0.8578 - val_acc: 0.8430\n",
      "Epoch 23/30\n",
      "63/63 [==============================] - 0s 4ms/step - loss: 0.0463 - acc: 0.9830 - val_loss: 0.7013 - val_acc: 0.8720\n",
      "Epoch 24/30\n",
      "63/63 [==============================] - 0s 4ms/step - loss: 0.0225 - acc: 0.9945 - val_loss: 0.9667 - val_acc: 0.8430\n",
      "Epoch 25/30\n",
      "63/63 [==============================] - 0s 4ms/step - loss: 0.0368 - acc: 0.9850 - val_loss: 0.5707 - val_acc: 0.8960\n",
      "Epoch 26/30\n",
      "63/63 [==============================] - 0s 4ms/step - loss: 0.0335 - acc: 0.9865 - val_loss: 0.5594 - val_acc: 0.8930\n",
      "Epoch 27/30\n",
      "63/63 [==============================] - 0s 4ms/step - loss: 0.0292 - acc: 0.9905 - val_loss: 0.6219 - val_acc: 0.8850\n",
      "Epoch 28/30\n",
      "63/63 [==============================] - 0s 4ms/step - loss: 0.0243 - acc: 0.9920 - val_loss: 0.6730 - val_acc: 0.8860\n",
      "Epoch 29/30\n",
      "63/63 [==============================] - 0s 4ms/step - loss: 0.0326 - acc: 0.9900 - val_loss: 0.6181 - val_acc: 0.8910\n",
      "Epoch 30/30\n",
      "63/63 [==============================] - 0s 4ms/step - loss: 0.0166 - acc: 0.9935 - val_loss: 0.6111 - val_acc: 0.8950\n"
     ]
    }
   ],
   "source": [
    "#!g2.mig\n",
    "history = model.fit(\n",
    "    train_features,\n",
    "    train_labels,\n",
    "    epochs=30,\n",
    "    validation_data=(val_features, val_labels)\n",
    ")"
   ]
  },
  {
   "cell_type": "code",
   "execution_count": 115,
   "id": "fe38e724",
   "metadata": {
    "cellId": "gxl9vwopdy8wby8gq6axb"
   },
   "outputs": [],
   "source": [
    "history_dict = history.history"
   ]
  },
  {
   "cell_type": "code",
   "execution_count": 116,
   "id": "c99da1e8",
   "metadata": {
    "cellId": "mpe6gx3vri9c8l6x11z0vd"
   },
   "outputs": [
    {
     "data": {
      "image/png": "[encoded data removed]",
      "text/plain": [
       "<Figure size 432x288 with 1 Axes>"
      ]
     },
     "metadata": {
      "needs_background": "light"
     },
     "output_type": "display_data"
    }
   ],
   "source": [
    "epochs = range(len(history_dict['val_loss']))\n",
    "\n",
    "fig, ax = plt.subplots()\n",
    "\n",
    "ax.plot(epochs, history_dict['val_loss'], label='Validation loss')\n",
    "ax.plot(epochs, history_dict['loss'], label='Training loss')\n",
    "ax.set(xlabel='Epoch', ylabel='loss', title='Loss chart')\n",
    "\n",
    "plt.legend()\n",
    "plt.show()"
   ]
  },
  {
   "cell_type": "code",
   "execution_count": 117,
   "id": "198f481d",
   "metadata": {
    "cellId": "0qdp4mgzwcqilihoppsf6b"
   },
   "outputs": [
    {
     "data": {
      "image/png": "[encoded data removed]",
      "text/plain": [
       "<Figure size 432x288 with 1 Axes>"
      ]
     },
     "metadata": {
      "needs_background": "light"
     },
     "output_type": "display_data"
    }
   ],
   "source": [
    "epochs = range(len(history_dict['val_acc']))\n",
    "\n",
    "fig, ax = plt.subplots()\n",
    "\n",
    "ax.plot(epochs, history_dict['val_acc'], label='Validation acc')\n",
    "ax.plot(epochs, history_dict['acc'], label='Training acc')\n",
    "ax.set(xlabel='Epoch', ylabel='acc', title='acc chart')\n",
    "\n",
    "plt.legend()\n",
    "plt.show()"
   ]
  },
  {
   "cell_type": "markdown",
   "id": "1bdb6b53",
   "metadata": {
    "cellId": "fjuh2v38iiubuay5uk7wy",
    "execution_id": "c799e57d-d528-4566-9c73-14a7a895bb4e"
   },
   "source": [
    "#### Выводы\n",
    "\n",
    "Заметно значительное повышение качества модели\n",
    "- Точность повысилась до 0.9\n",
    "- Потери около 0.8\n",
    "\n",
    "Заметен эффект переобучения на первых эпохах. Модели не хвататет данных"
   ]
  },
  {
   "cell_type": "markdown",
   "id": "4bc2c089",
   "metadata": {
    "cellId": "bgcx9n4gqnvr4yepp9mm5",
    "execution_id": "acc7f0ed-3eff-4dfd-a1f4-fc0cb81e2ae0"
   },
   "source": [
    "### Путь 1. Энергозатраный"
   ]
  },
  {
   "cell_type": "code",
   "execution_count": 118,
   "id": "715092fe",
   "metadata": {
    "cellId": "7nd0u0uxnz87p5wbaefdu4"
   },
   "outputs": [],
   "source": [
    "#!g2.mig\n",
    "train_data = ImageDataGenerator(\n",
    "    rescale=1/255,\n",
    "    rotation_range=40,\n",
    "    width_shift_range=0.2,\n",
    "    height_shift_range=0.2,\n",
    "    shear_range=0.2,\n",
    "    zoom_range=0.2,\n",
    "    horizontal_flip=True,\n",
    "    fill_mode='nearest'\n",
    ")\n",
    "test_data = ImageDataGenerator(rescale=1/255)"
   ]
  },
  {
   "cell_type": "code",
   "execution_count": 119,
   "id": "fc17ea7a",
   "metadata": {
    "cellId": "nbk3abpx8nota7oyw1o8qs"
   },
   "outputs": [
    {
     "name": "stdout",
     "output_type": "stream",
     "text": [
      "Found 2000 images belonging to 2 classes.\n",
      "Found 1000 images belonging to 2 classes.\n",
      "Found 1000 images belonging to 2 classes.\n"
     ]
    }
   ],
   "source": [
    "#!g2.mig\n",
    "train_generator = train_data.flow_from_directory(\n",
    "    TRAIN_PATH,\n",
    "    target_size=(150, 150),\n",
    "    batch_size=BATCH_SIZE,\n",
    "    class_mode='binary'\n",
    ")\n",
    "valid_generator = train_data.flow_from_directory(\n",
    "    VAL_PATH,\n",
    "    target_size=(150, 150),\n",
    "    batch_size=BATCH_SIZE,\n",
    "    class_mode='binary'\n",
    ")\n",
    "test_generator = test_data.flow_from_directory(\n",
    "    TEST_PATH,\n",
    "    target_size=(150, 150),\n",
    "    batch_size=BATCH_SIZE,\n",
    "    class_mode='binary'\n",
    ")"
   ]
  },
  {
   "cell_type": "code",
   "execution_count": 120,
   "id": "e0d0bc4d",
   "metadata": {
    "cellId": "kyc5a9hzokeeuegdqdh7fm"
   },
   "outputs": [
    {
     "name": "stderr",
     "output_type": "stream",
     "text": [
      "2023-02-06 19:33:09.848609: I tensorflow/core/platform/cpu_feature_guard.cc:142] This TensorFlow binary is optimized with oneAPI Deep Neural Network Library (oneDNN) to use the following CPU instructions in performance-critical operations:  AVX2 FMA\n",
      "To enable them in other operations, rebuild TensorFlow with the appropriate compiler flags.\n",
      "2023-02-06 19:33:10.296484: I tensorflow/core/common_runtime/gpu/gpu_device.cc:1510] Created device /job:localhost/replica:0/task:0/device:GPU:0 with 2629 MB memory:  -> device: 0, name: GRID A100X-1-5C MIG 1g.5gb, pci bus id: 0000:8c:00.0, compute capability: 8.0\n"
     ]
    }
   ],
   "source": [
    "#!g2.mig\n",
    "\n",
    "conv_base = VGG16(\n",
    "    weights='imagenet',\n",
    "    include_top=False,\n",
    "    input_shape=(150, 150, 3)\n",
    ")"
   ]
  },
  {
   "cell_type": "code",
   "execution_count": 121,
   "id": "a35c030e",
   "metadata": {
    "cellId": "s2b6cw00feqy8fx2oyao"
   },
   "outputs": [],
   "source": [
    "#!g2.mig\n",
    "\n",
    "model = Sequential()\n",
    "model.add(conv_base)\n",
    "model.add(layers.Flatten())\n",
    "model.add(layers.Dense(256, activation='relu', input_shape=(8192,)))\n",
    "model.add(layers.Dense(1, activation='sigmoid'))\n",
    "\n",
    "conv_base.trainable = False\n",
    "\n",
    "model.compile(optimizer='rmsprop', loss='binary_crossentropy', metrics=['acc'])"
   ]
  },
  {
   "cell_type": "code",
   "execution_count": 122,
   "id": "85411c03",
   "metadata": {
    "cellId": "g19zmet4w9sx722e9rak6"
   },
   "outputs": [
    {
     "name": "stdout",
     "output_type": "stream",
     "text": [
      "Model: \"sequential\"\n",
      "_________________________________________________________________\n",
      "Layer (type)                 Output Shape              Param #   \n",
      "=================================================================\n",
      "vgg16 (Functional)           (None, 4, 4, 512)         14714688  \n",
      "_________________________________________________________________\n",
      "flatten (Flatten)            (None, 8192)              0         \n",
      "_________________________________________________________________\n",
      "dense (Dense)                (None, 256)               2097408   \n",
      "_________________________________________________________________\n",
      "dense_1 (Dense)              (None, 1)                 257       \n",
      "=================================================================\n",
      "Total params: 16,812,353\n",
      "Trainable params: 2,097,665\n",
      "Non-trainable params: 14,714,688\n",
      "_________________________________________________________________\n"
     ]
    }
   ],
   "source": [
    "#!g2.mig\n",
    "\n",
    "model.summary()"
   ]
  },
  {
   "cell_type": "code",
   "execution_count": 123,
   "id": "d504ec61",
   "metadata": {
    "cellId": "62x3lu16i5bx4vy8zo67zm"
   },
   "outputs": [
    {
     "name": "stderr",
     "output_type": "stream",
     "text": [
      "2023-02-06 19:33:14.233829: I tensorflow/compiler/mlir/mlir_graph_optimization_pass.cc:185] None of the MLIR Optimization Passes are enabled (registered 2)\n",
      "2023-02-06 19:33:15.458422: I tensorflow/stream_executor/cuda/cuda_dnn.cc:369] Loaded cuDNN version 8101\n",
      "2023-02-06 19:33:17.163672: W tensorflow/core/common_runtime/bfc_allocator.cc:272] Allocator (GPU_0_bfc) ran out of memory trying to allocate 2.66GiB with freed_by_count=0. The caller indicates that this is not a failure, but may mean that there could be performance gains if more memory were available.\n",
      "2023-02-06 19:33:17.163739: W tensorflow/core/common_runtime/bfc_allocator.cc:272] Allocator (GPU_0_bfc) ran out of memory trying to allocate 2.66GiB with freed_by_count=0. The caller indicates that this is not a failure, but may mean that there could be performance gains if more memory were available.\n",
      "2023-02-06 19:33:18.099203: W tensorflow/core/common_runtime/bfc_allocator.cc:272] Allocator (GPU_0_bfc) ran out of memory trying to allocate 2.36GiB with freed_by_count=0. The caller indicates that this is not a failure, but may mean that there could be performance gains if more memory were available.\n",
      "2023-02-06 19:33:18.099267: W tensorflow/core/common_runtime/bfc_allocator.cc:272] Allocator (GPU_0_bfc) ran out of memory trying to allocate 2.36GiB with freed_by_count=0. The caller indicates that this is not a failure, but may mean that there could be performance gains if more memory were available.\n",
      "2023-02-06 19:33:20.263204: I tensorflow/stream_executor/cuda/cuda_blas.cc:1760] TensorFloat-32 will be used for the matrix multiplication. This will only be logged once.\n"
     ]
    },
    {
     "name": "stdout",
     "output_type": "stream",
     "text": [
      "Epoch 1/50\n",
      "100/100 [==============================] - 23s 175ms/step - loss: 0.7601 - acc: 0.6875 - val_loss: 0.7498 - val_acc: 0.6150\n",
      "Epoch 2/50\n",
      "100/100 [==============================] - 16s 158ms/step - loss: 0.5015 - acc: 0.7685 - val_loss: 0.5278 - val_acc: 0.7390\n",
      "Epoch 3/50\n",
      "100/100 [==============================] - 14s 143ms/step - loss: 0.4641 - acc: 0.7915 - val_loss: 0.7884 - val_acc: 0.6670\n",
      "Epoch 4/50\n",
      "100/100 [==============================] - 15s 143ms/step - loss: 0.4414 - acc: 0.8045 - val_loss: 0.4013 - val_acc: 0.8120\n",
      "Epoch 5/50\n",
      "100/100 [==============================] - 14s 145ms/step - loss: 0.4150 - acc: 0.8055 - val_loss: 0.5087 - val_acc: 0.7690\n",
      "Epoch 6/50\n",
      "100/100 [==============================] - 14s 144ms/step - loss: 0.4072 - acc: 0.8180 - val_loss: 0.3359 - val_acc: 0.8450\n",
      "Epoch 7/50\n",
      "100/100 [==============================] - 14s 144ms/step - loss: 0.3773 - acc: 0.8235 - val_loss: 0.3847 - val_acc: 0.8200\n",
      "Epoch 8/50\n",
      "100/100 [==============================] - 14s 143ms/step - loss: 0.3777 - acc: 0.8335 - val_loss: 0.3446 - val_acc: 0.8340\n",
      "Epoch 9/50\n",
      "100/100 [==============================] - 14s 143ms/step - loss: 0.3762 - acc: 0.8365 - val_loss: 0.3447 - val_acc: 0.8380\n",
      "Epoch 10/50\n",
      "100/100 [==============================] - 14s 143ms/step - loss: 0.3620 - acc: 0.8395 - val_loss: 0.4191 - val_acc: 0.7950\n",
      "Epoch 11/50\n",
      "100/100 [==============================] - 14s 143ms/step - loss: 0.3392 - acc: 0.8465 - val_loss: 0.4431 - val_acc: 0.7970\n",
      "Epoch 12/50\n",
      "100/100 [==============================] - 14s 143ms/step - loss: 0.3353 - acc: 0.8480 - val_loss: 0.3522 - val_acc: 0.8310\n",
      "Epoch 13/50\n",
      "100/100 [==============================] - 14s 144ms/step - loss: 0.3390 - acc: 0.8470 - val_loss: 0.3923 - val_acc: 0.8190\n",
      "Epoch 14/50\n",
      "100/100 [==============================] - 14s 144ms/step - loss: 0.3154 - acc: 0.8660 - val_loss: 0.3648 - val_acc: 0.8370\n",
      "Epoch 15/50\n",
      "100/100 [==============================] - 14s 144ms/step - loss: 0.3256 - acc: 0.8525 - val_loss: 0.3573 - val_acc: 0.8500\n",
      "Epoch 16/50\n",
      "100/100 [==============================] - 14s 143ms/step - loss: 0.3066 - acc: 0.8715 - val_loss: 0.3590 - val_acc: 0.8280\n",
      "Epoch 17/50\n",
      "100/100 [==============================] - 14s 143ms/step - loss: 0.3252 - acc: 0.8550 - val_loss: 0.4637 - val_acc: 0.8130\n",
      "Epoch 18/50\n",
      "100/100 [==============================] - 14s 144ms/step - loss: 0.3121 - acc: 0.8700 - val_loss: 0.3932 - val_acc: 0.8420\n",
      "Epoch 19/50\n",
      "100/100 [==============================] - 14s 143ms/step - loss: 0.3184 - acc: 0.8655 - val_loss: 0.3961 - val_acc: 0.8240\n",
      "Epoch 20/50\n",
      "100/100 [==============================] - 14s 143ms/step - loss: 0.3085 - acc: 0.8680 - val_loss: 0.3283 - val_acc: 0.8420\n",
      "Epoch 21/50\n",
      "100/100 [==============================] - 14s 141ms/step - loss: 0.3053 - acc: 0.8615 - val_loss: 0.3457 - val_acc: 0.8390\n",
      "Epoch 22/50\n",
      "100/100 [==============================] - 14s 141ms/step - loss: 0.2963 - acc: 0.8645 - val_loss: 0.3595 - val_acc: 0.8290\n",
      "Epoch 23/50\n",
      "100/100 [==============================] - 14s 142ms/step - loss: 0.2928 - acc: 0.8785 - val_loss: 0.3566 - val_acc: 0.8520\n",
      "Epoch 24/50\n",
      "100/100 [==============================] - 14s 142ms/step - loss: 0.2873 - acc: 0.8735 - val_loss: 0.3802 - val_acc: 0.8370\n",
      "Epoch 25/50\n",
      "100/100 [==============================] - 14s 142ms/step - loss: 0.2858 - acc: 0.8755 - val_loss: 0.3375 - val_acc: 0.8560\n",
      "Epoch 26/50\n",
      "100/100 [==============================] - 14s 144ms/step - loss: 0.2785 - acc: 0.8860 - val_loss: 0.3297 - val_acc: 0.8580\n",
      "Epoch 27/50\n",
      "100/100 [==============================] - 14s 142ms/step - loss: 0.2898 - acc: 0.8730 - val_loss: 0.3981 - val_acc: 0.8320\n",
      "Epoch 28/50\n",
      "100/100 [==============================] - 14s 142ms/step - loss: 0.2732 - acc: 0.8875 - val_loss: 0.3459 - val_acc: 0.8360\n",
      "Epoch 29/50\n",
      "100/100 [==============================] - 14s 141ms/step - loss: 0.2755 - acc: 0.8880 - val_loss: 0.3327 - val_acc: 0.8570\n",
      "Epoch 30/50\n",
      "100/100 [==============================] - 14s 142ms/step - loss: 0.2698 - acc: 0.8870 - val_loss: 0.3460 - val_acc: 0.8580\n",
      "Epoch 31/50\n",
      "100/100 [==============================] - 14s 142ms/step - loss: 0.2685 - acc: 0.8910 - val_loss: 0.3717 - val_acc: 0.8540\n",
      "Epoch 32/50\n",
      "100/100 [==============================] - 14s 142ms/step - loss: 0.2797 - acc: 0.8810 - val_loss: 0.3367 - val_acc: 0.8470\n",
      "Epoch 33/50\n",
      "100/100 [==============================] - 14s 142ms/step - loss: 0.2556 - acc: 0.8935 - val_loss: 0.3562 - val_acc: 0.8580\n",
      "Epoch 34/50\n",
      "100/100 [==============================] - 14s 141ms/step - loss: 0.2503 - acc: 0.9015 - val_loss: 0.3635 - val_acc: 0.8470\n",
      "Epoch 35/50\n",
      "100/100 [==============================] - 14s 142ms/step - loss: 0.2567 - acc: 0.8935 - val_loss: 0.3524 - val_acc: 0.8560\n",
      "Epoch 36/50\n",
      "100/100 [==============================] - 14s 142ms/step - loss: 0.2624 - acc: 0.8905 - val_loss: 0.4027 - val_acc: 0.8310\n",
      "Epoch 37/50\n",
      "100/100 [==============================] - 14s 143ms/step - loss: 0.2461 - acc: 0.8875 - val_loss: 0.4149 - val_acc: 0.8390\n",
      "Epoch 38/50\n",
      "100/100 [==============================] - 14s 140ms/step - loss: 0.2610 - acc: 0.8890 - val_loss: 0.3546 - val_acc: 0.8520\n",
      "Epoch 39/50\n",
      "100/100 [==============================] - 14s 142ms/step - loss: 0.2801 - acc: 0.8890 - val_loss: 0.3645 - val_acc: 0.8430\n",
      "Epoch 40/50\n",
      "100/100 [==============================] - 14s 142ms/step - loss: 0.2633 - acc: 0.8960 - val_loss: 0.3603 - val_acc: 0.8440\n",
      "Epoch 41/50\n",
      "100/100 [==============================] - 14s 142ms/step - loss: 0.2572 - acc: 0.8945 - val_loss: 0.3655 - val_acc: 0.8460\n",
      "Epoch 42/50\n",
      "100/100 [==============================] - 14s 140ms/step - loss: 0.2572 - acc: 0.8975 - val_loss: 0.3549 - val_acc: 0.8440\n",
      "Epoch 43/50\n",
      "100/100 [==============================] - 14s 142ms/step - loss: 0.2382 - acc: 0.8980 - val_loss: 0.3566 - val_acc: 0.8470\n",
      "Epoch 44/50\n",
      "100/100 [==============================] - 14s 143ms/step - loss: 0.2357 - acc: 0.8965 - val_loss: 0.3901 - val_acc: 0.8410\n",
      "Epoch 45/50\n",
      "100/100 [==============================] - 14s 143ms/step - loss: 0.2511 - acc: 0.8965 - val_loss: 0.3655 - val_acc: 0.8600\n",
      "Epoch 46/50\n",
      "100/100 [==============================] - 14s 142ms/step - loss: 0.2497 - acc: 0.8995 - val_loss: 0.3897 - val_acc: 0.8420\n",
      "Epoch 47/50\n",
      "100/100 [==============================] - 14s 142ms/step - loss: 0.2319 - acc: 0.9065 - val_loss: 0.3626 - val_acc: 0.8610\n",
      "Epoch 48/50\n",
      "100/100 [==============================] - 14s 143ms/step - loss: 0.2328 - acc: 0.9090 - val_loss: 0.4286 - val_acc: 0.8430\n",
      "Epoch 49/50\n",
      "100/100 [==============================] - 14s 143ms/step - loss: 0.2396 - acc: 0.9050 - val_loss: 0.3769 - val_acc: 0.8540\n",
      "Epoch 50/50\n",
      "100/100 [==============================] - 14s 143ms/step - loss: 0.2282 - acc: 0.9020 - val_loss: 0.3907 - val_acc: 0.8650\n"
     ]
    }
   ],
   "source": [
    "#!g2.mig\n",
    "\n",
    "history = model.fit(\n",
    "    train_generator,\n",
    "    steps_per_epoch=100,\n",
    "    epochs=50,\n",
    "    validation_data=valid_generator,\n",
    "    validation_steps=50\n",
    ")"
   ]
  },
  {
   "cell_type": "code",
   "execution_count": 124,
   "id": "8a3d7164",
   "metadata": {
    "cellId": "rm2yx5wb5j76xiy0mh5qp"
   },
   "outputs": [],
   "source": [
    "history_dict = history.history"
   ]
  },
  {
   "cell_type": "code",
   "execution_count": 125,
   "id": "78719d88",
   "metadata": {
    "cellId": "lto30y1bmmaovb3lgm8ngn"
   },
   "outputs": [
    {
     "data": {
      "image/png": "[encoded data removed]",
      "text/plain": [
       "<Figure size 432x288 with 1 Axes>"
      ]
     },
     "metadata": {
      "needs_background": "light"
     },
     "output_type": "display_data"
    }
   ],
   "source": [
    "epochs = range(len(history_dict['val_loss']))\n",
    "\n",
    "fig, ax = plt.subplots()\n",
    "\n",
    "ax.plot(epochs, history_dict['val_loss'], label='Validation loss')\n",
    "ax.plot(epochs, history_dict['loss'], label='Training loss')\n",
    "ax.set(xlabel='Epoch', ylabel='loss', title='Loss chart')\n",
    "\n",
    "plt.legend()\n",
    "plt.show()"
   ]
  },
  {
   "cell_type": "code",
   "execution_count": 126,
   "id": "4631cd8a",
   "metadata": {
    "cellId": "57ddxl3iz63y7y6p4wc55q"
   },
   "outputs": [
    {
     "data": {
      "image/png": "[encoded data removed]",
      "text/plain": [
       "<Figure size 432x288 with 1 Axes>"
      ]
     },
     "metadata": {
      "needs_background": "light"
     },
     "output_type": "display_data"
    }
   ],
   "source": [
    "epochs = range(len(history_dict['val_acc']))\n",
    "\n",
    "fig, ax = plt.subplots()\n",
    "\n",
    "ax.plot(epochs, history_dict['val_acc'], label='Validation acc')\n",
    "ax.plot(epochs, history_dict['acc'], label='Training acc')\n",
    "ax.set(xlabel='Epoch', ylabel='acc', title='acc chart')\n",
    "\n",
    "plt.legend()\n",
    "plt.show()"
   ]
  },
  {
   "cell_type": "markdown",
   "id": "9cb5e776",
   "metadata": {
    "cellId": "93w9sq3yzmcyg1og5l1c7e",
    "execution_id": "67caba97-3b43-479e-af90-ce3a4b0ee32d"
   },
   "source": [
    "#### Выводы\n",
    "\n",
    "Повышение качества модели не значительное"
   ]
  },
  {
   "cell_type": "markdown",
   "id": "271b4ab4",
   "metadata": {
    "cellId": "77mqkx9j0n7qb90fo0xzhm",
    "execution_id": "f966fbfa-aa1b-4d22-a672-1391738f1f3a"
   },
   "source": [
    "## Дообучение"
   ]
  },
  {
   "cell_type": "code",
   "execution_count": 127,
   "id": "cc263404",
   "metadata": {
    "cellId": "kx7th3rvc7fbfmpywpx9hd"
   },
   "outputs": [],
   "source": [
    "#!g2.mig\n",
    "\n",
    "train_data = ImageDataGenerator(\n",
    "    rescale=1/255,\n",
    "    rotation_range=40,\n",
    "    width_shift_range=0.2,\n",
    "    height_shift_range=0.2,\n",
    "    shear_range=0.2,\n",
    "    zoom_range=0.2,\n",
    "    horizontal_flip=True,\n",
    "    fill_mode='nearest'\n",
    ")\n",
    "test_data = ImageDataGenerator(rescale=1/255)"
   ]
  },
  {
   "cell_type": "code",
   "execution_count": 128,
   "id": "c84f88a2",
   "metadata": {
    "cellId": "c6kn3jaaqxoe0ry7vnupit"
   },
   "outputs": [
    {
     "name": "stdout",
     "output_type": "stream",
     "text": [
      "Found 2000 images belonging to 2 classes.\n",
      "Found 1000 images belonging to 2 classes.\n",
      "Found 1000 images belonging to 2 classes.\n"
     ]
    }
   ],
   "source": [
    "#!g2.mig\n",
    "\n",
    "train_generator = train_data.flow_from_directory(\n",
    "    TRAIN_PATH,\n",
    "    target_size=(150, 150),\n",
    "    batch_size=BATCH_SIZE,\n",
    "    class_mode='binary'\n",
    ")\n",
    "valid_generator = train_data.flow_from_directory(\n",
    "    VAL_PATH,\n",
    "    target_size=(150, 150),\n",
    "    batch_size=BATCH_SIZE,\n",
    "    class_mode='binary'\n",
    ")\n",
    "test_generator = test_data.flow_from_directory(\n",
    "    TEST_PATH,\n",
    "    target_size=(150, 150),\n",
    "    batch_size=BATCH_SIZE,\n",
    "    class_mode='binary'\n",
    ")"
   ]
  },
  {
   "cell_type": "code",
   "execution_count": 129,
   "id": "84bb3752",
   "metadata": {
    "cellId": "wt7qeiu8kzblcmwh8fuj4"
   },
   "outputs": [
    {
     "name": "stderr",
     "output_type": "stream",
     "text": [
      "2023-02-06 19:59:43.752580: I tensorflow/core/platform/cpu_feature_guard.cc:142] This TensorFlow binary is optimized with oneAPI Deep Neural Network Library (oneDNN) to use the following CPU instructions in performance-critical operations:  AVX2 FMA\n",
      "To enable them in other operations, rebuild TensorFlow with the appropriate compiler flags.\n",
      "2023-02-06 19:59:44.201640: I tensorflow/core/common_runtime/gpu/gpu_device.cc:1510] Created device /job:localhost/replica:0/task:0/device:GPU:0 with 2629 MB memory:  -> device: 0, name: GRID A100X-1-5C MIG 1g.5gb, pci bus id: 0000:8c:00.0, compute capability: 8.0\n"
     ]
    }
   ],
   "source": [
    "#!g2.mig\n",
    "\n",
    "conv_base = VGG16(\n",
    "    weights='imagenet',\n",
    "    include_top=False,\n",
    "    input_shape=(150, 150, 3)\n",
    ")"
   ]
  },
  {
   "cell_type": "code",
   "execution_count": 130,
   "id": "032fe25c",
   "metadata": {
    "cellId": "i5lcid9d8s7ekcgldoc"
   },
   "outputs": [],
   "source": [
    "#!g2.mig\n",
    "\n",
    "model = Sequential()\n",
    "model.add(conv_base)\n",
    "model.add(layers.Flatten())\n",
    "model.add(layers.Dense(256, activation='relu', input_shape=(8192,)))\n",
    "model.add(layers.Dense(1, activation='sigmoid'))\n",
    "\n",
    "conv_base.trainable = False\n",
    "\n",
    "model.compile(optimizer='rmsprop', loss='binary_crossentropy', metrics=['acc'])"
   ]
  },
  {
   "cell_type": "code",
   "execution_count": 131,
   "id": "560e1bed",
   "metadata": {
    "cellId": "506z7h7snubvmkwzi4o8v"
   },
   "outputs": [
    {
     "name": "stderr",
     "output_type": "stream",
     "text": [
      "2023-02-06 19:59:49.860099: I tensorflow/compiler/mlir/mlir_graph_optimization_pass.cc:185] None of the MLIR Optimization Passes are enabled (registered 2)\n"
     ]
    },
    {
     "name": "stdout",
     "output_type": "stream",
     "text": [
      "Epoch 1/30\n"
     ]
    },
    {
     "name": "stderr",
     "output_type": "stream",
     "text": [
      "2023-02-06 19:59:51.048329: I tensorflow/stream_executor/cuda/cuda_dnn.cc:369] Loaded cuDNN version 8101\n",
      "2023-02-06 19:59:52.779068: W tensorflow/core/common_runtime/bfc_allocator.cc:272] Allocator (GPU_0_bfc) ran out of memory trying to allocate 2.66GiB with freed_by_count=0. The caller indicates that this is not a failure, but may mean that there could be performance gains if more memory were available.\n",
      "2023-02-06 19:59:52.779146: W tensorflow/core/common_runtime/bfc_allocator.cc:272] Allocator (GPU_0_bfc) ran out of memory trying to allocate 2.66GiB with freed_by_count=0. The caller indicates that this is not a failure, but may mean that there could be performance gains if more memory were available.\n",
      "2023-02-06 19:59:53.714660: W tensorflow/core/common_runtime/bfc_allocator.cc:272] Allocator (GPU_0_bfc) ran out of memory trying to allocate 2.36GiB with freed_by_count=0. The caller indicates that this is not a failure, but may mean that there could be performance gains if more memory were available.\n",
      "2023-02-06 19:59:53.714745: W tensorflow/core/common_runtime/bfc_allocator.cc:272] Allocator (GPU_0_bfc) ran out of memory trying to allocate 2.36GiB with freed_by_count=0. The caller indicates that this is not a failure, but may mean that there could be performance gains if more memory were available.\n",
      "2023-02-06 19:59:55.878299: I tensorflow/stream_executor/cuda/cuda_blas.cc:1760] TensorFloat-32 will be used for the matrix multiplication. This will only be logged once.\n"
     ]
    },
    {
     "name": "stdout",
     "output_type": "stream",
     "text": [
      "100/100 [==============================] - 23s 176ms/step - loss: 0.7767 - acc: 0.6830 - val_loss: 0.6574 - val_acc: 0.6510\n",
      "Epoch 2/30\n",
      "100/100 [==============================] - 16s 157ms/step - loss: 0.4833 - acc: 0.7830 - val_loss: 0.7855 - val_acc: 0.6330\n",
      "Epoch 3/30\n",
      "100/100 [==============================] - 14s 144ms/step - loss: 0.4434 - acc: 0.7970 - val_loss: 0.6931 - val_acc: 0.6660\n",
      "Epoch 4/30\n",
      "100/100 [==============================] - 14s 144ms/step - loss: 0.4392 - acc: 0.8030 - val_loss: 0.4593 - val_acc: 0.7820\n",
      "Epoch 5/30\n",
      "100/100 [==============================] - 14s 143ms/step - loss: 0.4077 - acc: 0.8045 - val_loss: 0.4058 - val_acc: 0.8170\n",
      "Epoch 6/30\n",
      "100/100 [==============================] - 14s 143ms/step - loss: 0.4033 - acc: 0.8100 - val_loss: 0.4374 - val_acc: 0.7790\n",
      "Epoch 7/30\n",
      "100/100 [==============================] - 14s 144ms/step - loss: 0.3833 - acc: 0.8435 - val_loss: 0.3577 - val_acc: 0.8210\n",
      "Epoch 8/30\n",
      "100/100 [==============================] - 14s 142ms/step - loss: 0.3631 - acc: 0.8350 - val_loss: 0.3730 - val_acc: 0.8260\n",
      "Epoch 9/30\n",
      "100/100 [==============================] - 14s 143ms/step - loss: 0.3643 - acc: 0.8415 - val_loss: 0.4988 - val_acc: 0.7620\n",
      "Epoch 10/30\n",
      "100/100 [==============================] - 14s 142ms/step - loss: 0.3520 - acc: 0.8405 - val_loss: 0.3356 - val_acc: 0.8510\n",
      "Epoch 11/30\n",
      "100/100 [==============================] - 14s 142ms/step - loss: 0.3478 - acc: 0.8405 - val_loss: 0.4088 - val_acc: 0.7990\n",
      "Epoch 12/30\n",
      "100/100 [==============================] - 14s 143ms/step - loss: 0.3249 - acc: 0.8645 - val_loss: 0.3348 - val_acc: 0.8450\n",
      "Epoch 13/30\n",
      "100/100 [==============================] - 14s 143ms/step - loss: 0.3295 - acc: 0.8510 - val_loss: 0.4015 - val_acc: 0.8290\n",
      "Epoch 14/30\n",
      "100/100 [==============================] - 14s 141ms/step - loss: 0.3385 - acc: 0.8455 - val_loss: 0.3526 - val_acc: 0.8340\n",
      "Epoch 15/30\n",
      "100/100 [==============================] - 14s 143ms/step - loss: 0.3227 - acc: 0.8575 - val_loss: 0.3491 - val_acc: 0.8400\n",
      "Epoch 16/30\n",
      "100/100 [==============================] - 14s 144ms/step - loss: 0.3155 - acc: 0.8740 - val_loss: 0.3697 - val_acc: 0.8380\n",
      "Epoch 17/30\n",
      "100/100 [==============================] - 14s 143ms/step - loss: 0.3197 - acc: 0.8575 - val_loss: 0.3506 - val_acc: 0.8450\n",
      "Epoch 18/30\n",
      "100/100 [==============================] - 14s 142ms/step - loss: 0.3029 - acc: 0.8640 - val_loss: 0.3465 - val_acc: 0.8420\n",
      "Epoch 19/30\n",
      "100/100 [==============================] - 14s 142ms/step - loss: 0.3138 - acc: 0.8645 - val_loss: 0.3514 - val_acc: 0.8310\n",
      "Epoch 20/30\n",
      "100/100 [==============================] - 14s 143ms/step - loss: 0.3171 - acc: 0.8635 - val_loss: 0.3450 - val_acc: 0.8540\n",
      "Epoch 21/30\n",
      "100/100 [==============================] - 14s 142ms/step - loss: 0.3019 - acc: 0.8655 - val_loss: 0.3630 - val_acc: 0.8430\n",
      "Epoch 22/30\n",
      "100/100 [==============================] - 14s 142ms/step - loss: 0.3054 - acc: 0.8580 - val_loss: 0.3764 - val_acc: 0.8470\n",
      "Epoch 23/30\n",
      "100/100 [==============================] - 14s 142ms/step - loss: 0.2918 - acc: 0.8710 - val_loss: 0.3946 - val_acc: 0.8410\n",
      "Epoch 24/30\n",
      "100/100 [==============================] - 14s 143ms/step - loss: 0.3002 - acc: 0.8690 - val_loss: 0.3782 - val_acc: 0.8290\n",
      "Epoch 25/30\n",
      "100/100 [==============================] - 14s 143ms/step - loss: 0.2873 - acc: 0.8700 - val_loss: 0.3770 - val_acc: 0.8400\n",
      "Epoch 26/30\n",
      "100/100 [==============================] - 14s 143ms/step - loss: 0.2887 - acc: 0.8800 - val_loss: 0.3460 - val_acc: 0.8490\n",
      "Epoch 27/30\n",
      "100/100 [==============================] - 14s 142ms/step - loss: 0.2811 - acc: 0.8785 - val_loss: 0.3912 - val_acc: 0.8440\n",
      "Epoch 28/30\n",
      "100/100 [==============================] - 14s 144ms/step - loss: 0.2895 - acc: 0.8690 - val_loss: 0.3256 - val_acc: 0.8610\n",
      "Epoch 29/30\n",
      "100/100 [==============================] - 14s 144ms/step - loss: 0.2770 - acc: 0.8745 - val_loss: 0.3827 - val_acc: 0.8430\n",
      "Epoch 30/30\n",
      "100/100 [==============================] - 14s 143ms/step - loss: 0.2823 - acc: 0.8880 - val_loss: 0.3434 - val_acc: 0.8580\n"
     ]
    }
   ],
   "source": [
    "#!g2.mig\n",
    "\n",
    "history = model.fit(\n",
    "    train_generator,\n",
    "    steps_per_epoch=100,\n",
    "    epochs=30,\n",
    "    validation_data=valid_generator,\n",
    "    validation_steps=50\n",
    ")"
   ]
  },
  {
   "cell_type": "markdown",
   "id": "b036f8f4",
   "metadata": {
    "cellId": "p0aiu0f1vldlkithdyssxa"
   },
   "source": [
    "Замораживание всех слоев, кроме 3 последних в сверточной сети"
   ]
  },
  {
   "cell_type": "code",
   "execution_count": 135,
   "id": "d8c393a3",
   "metadata": {
    "cellId": "roycvmsok2da4ffnhdzda"
   },
   "outputs": [],
   "source": [
    "#!g2.mig\n",
    "conv_base.trainable = True\n",
    "\n",
    "set_trainable = False\n",
    "for layer in conv_base.layers:\n",
    "    if layer.name == 'block5_conv1':\n",
    "        set_trainable = True\n",
    "    layer.trainable = set_trainable"
   ]
  },
  {
   "cell_type": "code",
   "execution_count": 136,
   "id": "a4f08101",
   "metadata": {
    "cellId": "a4kw1hj91no5025ee1hz8"
   },
   "outputs": [],
   "source": [
    "#!g2.mig\n",
    "model.compile(optimizer='rmsprop', loss='binary_crossentropy', metrics=['acc'])"
   ]
  },
  {
   "cell_type": "code",
   "execution_count": 137,
   "id": "349045d7",
   "metadata": {
    "cellId": "8adoal1511anxahqporo6"
   },
   "outputs": [
    {
     "name": "stdout",
     "output_type": "stream",
     "text": [
      "Epoch 1/100\n",
      "100/100 [==============================] - 18s 161ms/step - loss: 82.5420 - acc: 0.5280 - val_loss: 0.6930 - val_acc: 0.5000\n",
      "Epoch 2/100\n",
      "100/100 [==============================] - 14s 143ms/step - loss: 2.2595 - acc: 0.5060 - val_loss: 0.6912 - val_acc: 0.5000\n",
      "Epoch 3/100\n",
      "100/100 [==============================] - 15s 151ms/step - loss: 1.4812 - acc: 0.6045 - val_loss: 0.6522 - val_acc: 0.6240\n",
      "Epoch 4/100\n",
      "100/100 [==============================] - 14s 144ms/step - loss: 0.6627 - acc: 0.7185 - val_loss: 0.9977 - val_acc: 0.5780\n",
      "Epoch 5/100\n",
      "100/100 [==============================] - 15s 149ms/step - loss: 0.5738 - acc: 0.7510 - val_loss: 0.3913 - val_acc: 0.8020\n",
      "Epoch 6/100\n",
      "100/100 [==============================] - 14s 144ms/step - loss: 0.5571 - acc: 0.7890 - val_loss: 0.3516 - val_acc: 0.8410\n",
      "Epoch 7/100\n",
      "100/100 [==============================] - 15s 149ms/step - loss: 0.4510 - acc: 0.8265 - val_loss: 0.3803 - val_acc: 0.8560\n",
      "Epoch 8/100\n",
      "100/100 [==============================] - 15s 147ms/step - loss: 0.4254 - acc: 0.8410 - val_loss: 0.3496 - val_acc: 0.8430\n",
      "Epoch 9/100\n",
      "100/100 [==============================] - 15s 148ms/step - loss: 0.4643 - acc: 0.8450 - val_loss: 0.3274 - val_acc: 0.8560\n",
      "Epoch 10/100\n",
      "100/100 [==============================] - 14s 145ms/step - loss: 0.3458 - acc: 0.8635 - val_loss: 0.3975 - val_acc: 0.8120\n",
      "Epoch 11/100\n",
      "100/100 [==============================] - 15s 148ms/step - loss: 0.3239 - acc: 0.8780 - val_loss: 0.4902 - val_acc: 0.7950\n",
      "Epoch 12/100\n",
      "100/100 [==============================] - 15s 145ms/step - loss: 0.3749 - acc: 0.8760 - val_loss: 0.2775 - val_acc: 0.8810\n",
      "Epoch 13/100\n",
      "100/100 [==============================] - 15s 150ms/step - loss: 0.3355 - acc: 0.8855 - val_loss: 0.3319 - val_acc: 0.8440\n",
      "Epoch 14/100\n",
      "100/100 [==============================] - 15s 145ms/step - loss: 0.3128 - acc: 0.8855 - val_loss: 0.3153 - val_acc: 0.8990\n",
      "Epoch 15/100\n",
      "100/100 [==============================] - 15s 149ms/step - loss: 0.2883 - acc: 0.8840 - val_loss: 0.6886 - val_acc: 0.8290\n",
      "Epoch 16/100\n",
      "100/100 [==============================] - 15s 146ms/step - loss: 0.3001 - acc: 0.8985 - val_loss: 0.4193 - val_acc: 0.8740\n",
      "Epoch 17/100\n",
      "100/100 [==============================] - 15s 149ms/step - loss: 0.2690 - acc: 0.9010 - val_loss: 0.4226 - val_acc: 0.8620\n",
      "Epoch 18/100\n",
      "100/100 [==============================] - 15s 145ms/step - loss: 0.2685 - acc: 0.8945 - val_loss: 0.6462 - val_acc: 0.8620\n",
      "Epoch 19/100\n",
      "100/100 [==============================] - 15s 148ms/step - loss: 0.3196 - acc: 0.8930 - val_loss: 0.2850 - val_acc: 0.9000\n",
      "Epoch 20/100\n",
      "100/100 [==============================] - 15s 146ms/step - loss: 0.4358 - acc: 0.9005 - val_loss: 0.5549 - val_acc: 0.8530\n",
      "Epoch 21/100\n",
      "100/100 [==============================] - 15s 148ms/step - loss: 0.2755 - acc: 0.9190 - val_loss: 0.7005 - val_acc: 0.8900\n",
      "Epoch 22/100\n",
      "100/100 [==============================] - 15s 148ms/step - loss: 0.2538 - acc: 0.9075 - val_loss: 1.1673 - val_acc: 0.8020\n",
      "Epoch 23/100\n",
      "100/100 [==============================] - 15s 148ms/step - loss: 0.2417 - acc: 0.9145 - val_loss: 0.3203 - val_acc: 0.8750\n",
      "Epoch 24/100\n",
      "100/100 [==============================] - 15s 146ms/step - loss: 0.2502 - acc: 0.9175 - val_loss: 0.3499 - val_acc: 0.8970\n",
      "Epoch 25/100\n",
      "100/100 [==============================] - 15s 153ms/step - loss: 0.2251 - acc: 0.9155 - val_loss: 0.4584 - val_acc: 0.8730\n",
      "Epoch 26/100\n",
      "100/100 [==============================] - 15s 147ms/step - loss: 0.2775 - acc: 0.9200 - val_loss: 0.3363 - val_acc: 0.8750\n",
      "Epoch 27/100\n",
      "100/100 [==============================] - 15s 150ms/step - loss: 0.2089 - acc: 0.9240 - val_loss: 0.4342 - val_acc: 0.8750: 0.2104 - acc: 0.92 - ETA: 0s - loss: 0.2085 - \n",
      "Epoch 28/100\n",
      "100/100 [==============================] - 15s 147ms/step - loss: 0.2536 - acc: 0.9225 - val_loss: 0.3579 - val_acc: 0.8840\n",
      "Epoch 29/100\n",
      "100/100 [==============================] - 15s 149ms/step - loss: 0.2047 - acc: 0.9260 - val_loss: 0.4107 - val_acc: 0.8890\n",
      "Epoch 30/100\n",
      "100/100 [==============================] - 15s 146ms/step - loss: 0.2718 - acc: 0.9270 - val_loss: 0.2521 - val_acc: 0.9070\n",
      "Epoch 31/100\n",
      "100/100 [==============================] - 15s 148ms/step - loss: 0.2437 - acc: 0.9315 - val_loss: 0.3729 - val_acc: 0.8740\n",
      "Epoch 32/100\n",
      "100/100 [==============================] - 15s 147ms/step - loss: 0.2579 - acc: 0.9335 - val_loss: 0.3120 - val_acc: 0.8840\n",
      "Epoch 33/100\n",
      "100/100 [==============================] - 15s 148ms/step - loss: 0.2312 - acc: 0.9335 - val_loss: 0.3261 - val_acc: 0.8730\n",
      "Epoch 34/100\n",
      "100/100 [==============================] - 15s 148ms/step - loss: 0.2108 - acc: 0.9440 - val_loss: 0.3320 - val_acc: 0.8940\n",
      "Epoch 35/100\n",
      "100/100 [==============================] - 15s 146ms/step - loss: 0.2002 - acc: 0.9435 - val_loss: 0.4934 - val_acc: 0.8890\n",
      "Epoch 36/100\n",
      "100/100 [==============================] - 15s 147ms/step - loss: 0.2671 - acc: 0.9340 - val_loss: 0.3908 - val_acc: 0.8740\n",
      "Epoch 37/100\n",
      "100/100 [==============================] - 15s 154ms/step - loss: 0.1837 - acc: 0.9350 - val_loss: 0.4743 - val_acc: 0.9060\n",
      "Epoch 38/100\n",
      "100/100 [==============================] - 15s 146ms/step - loss: 0.1900 - acc: 0.9405 - val_loss: 0.3784 - val_acc: 0.8970\n",
      "Epoch 39/100\n",
      "100/100 [==============================] - 15s 152ms/step - loss: 0.1953 - acc: 0.9405 - val_loss: 0.8948 - val_acc: 0.8660\n",
      "Epoch 40/100\n",
      "100/100 [==============================] - 15s 146ms/step - loss: 0.1645 - acc: 0.9510 - val_loss: 0.7111 - val_acc: 0.9050\n",
      "Epoch 41/100\n",
      "100/100 [==============================] - 15s 149ms/step - loss: 0.1907 - acc: 0.9455 - val_loss: 0.5822 - val_acc: 0.8910\n",
      "Epoch 42/100\n",
      "100/100 [==============================] - 15s 148ms/step - loss: 0.1575 - acc: 0.9460 - val_loss: 0.5473 - val_acc: 0.8980\n",
      "Epoch 43/100\n",
      "100/100 [==============================] - 15s 153ms/step - loss: 0.1689 - acc: 0.9455 - val_loss: 0.3556 - val_acc: 0.8800\n",
      "Epoch 44/100\n",
      "100/100 [==============================] - 15s 148ms/step - loss: 0.1786 - acc: 0.9575 - val_loss: 0.3971 - val_acc: 0.8880\n",
      "Epoch 45/100\n",
      "100/100 [==============================] - 15s 149ms/step - loss: 0.2121 - acc: 0.9495 - val_loss: 0.2647 - val_acc: 0.8950\n",
      "Epoch 46/100\n",
      "100/100 [==============================] - 15s 147ms/step - loss: 0.2261 - acc: 0.9480 - val_loss: 0.4092 - val_acc: 0.9080\n",
      "Epoch 47/100\n",
      "100/100 [==============================] - 15s 147ms/step - loss: 0.1609 - acc: 0.9510 - val_loss: 0.4960 - val_acc: 0.8980\n",
      "Epoch 48/100\n",
      "100/100 [==============================] - 15s 146ms/step - loss: 0.1531 - acc: 0.9525 - val_loss: 0.4080 - val_acc: 0.8940\n",
      "Epoch 49/100\n",
      "100/100 [==============================] - 16s 155ms/step - loss: 0.2554 - acc: 0.9520 - val_loss: 0.6166 - val_acc: 0.8860\n",
      "Epoch 50/100\n",
      "100/100 [==============================] - 15s 146ms/step - loss: 0.2187 - acc: 0.9515 - val_loss: 0.4154 - val_acc: 0.9100\n",
      "Epoch 51/100\n",
      "100/100 [==============================] - 15s 150ms/step - loss: 0.1383 - acc: 0.9555 - val_loss: 0.5399 - val_acc: 0.9000\n",
      "Epoch 52/100\n",
      "100/100 [==============================] - 15s 147ms/step - loss: 0.3015 - acc: 0.9600 - val_loss: 0.6190 - val_acc: 0.8940\n",
      "Epoch 53/100\n",
      "100/100 [==============================] - 15s 148ms/step - loss: 0.1342 - acc: 0.9610 - val_loss: 0.6389 - val_acc: 0.9070\n",
      "Epoch 54/100\n",
      "100/100 [==============================] - 15s 146ms/step - loss: 0.1669 - acc: 0.9555 - val_loss: 0.4606 - val_acc: 0.9210\n",
      "Epoch 55/100\n",
      "100/100 [==============================] - 15s 152ms/step - loss: 0.1359 - acc: 0.9620 - val_loss: 0.3970 - val_acc: 0.8950\n",
      "Epoch 56/100\n",
      "100/100 [==============================] - 15s 147ms/step - loss: 0.1369 - acc: 0.9590 - val_loss: 0.3411 - val_acc: 0.8930\n",
      "Epoch 57/100\n",
      "100/100 [==============================] - 15s 150ms/step - loss: 0.1676 - acc: 0.9600 - val_loss: 0.4069 - val_acc: 0.8980\n",
      "Epoch 58/100\n",
      "100/100 [==============================] - 15s 147ms/step - loss: 0.1870 - acc: 0.9630 - val_loss: 0.4682 - val_acc: 0.8970\n",
      "Epoch 59/100\n",
      "100/100 [==============================] - 15s 150ms/step - loss: 0.1437 - acc: 0.9620 - val_loss: 0.3988 - val_acc: 0.9040\n",
      "Epoch 60/100\n",
      "100/100 [==============================] - 15s 149ms/step - loss: 0.1396 - acc: 0.9630 - val_loss: 0.3110 - val_acc: 0.8980\n",
      "Epoch 61/100\n",
      "100/100 [==============================] - 15s 150ms/step - loss: 0.1484 - acc: 0.9615 - val_loss: 0.6432 - val_acc: 0.8950\n",
      "Epoch 62/100\n",
      "100/100 [==============================] - 15s 147ms/step - loss: 0.2066 - acc: 0.9610 - val_loss: 0.3212 - val_acc: 0.8950\n",
      "Epoch 63/100\n",
      "100/100 [==============================] - 15s 149ms/step - loss: 0.0872 - acc: 0.9680 - val_loss: 0.8735 - val_acc: 0.8750\n",
      "Epoch 64/100\n",
      "100/100 [==============================] - 15s 147ms/step - loss: 0.2026 - acc: 0.9590 - val_loss: 0.4952 - val_acc: 0.8750\n",
      "Epoch 65/100\n",
      "100/100 [==============================] - 15s 149ms/step - loss: 0.1270 - acc: 0.9580 - val_loss: 0.6749 - val_acc: 0.8940\n",
      "Epoch 66/100\n",
      "100/100 [==============================] - 15s 146ms/step - loss: 0.1967 - acc: 0.9615 - val_loss: 0.5859 - val_acc: 0.8950\n",
      "Epoch 67/100\n",
      "100/100 [==============================] - 15s 149ms/step - loss: 0.1135 - acc: 0.9700 - val_loss: 0.6422 - val_acc: 0.8690\n",
      "Epoch 68/100\n",
      "100/100 [==============================] - 15s 146ms/step - loss: 0.1125 - acc: 0.9610 - val_loss: 0.5428 - val_acc: 0.8960\n",
      "Epoch 69/100\n",
      "100/100 [==============================] - 15s 149ms/step - loss: 0.2135 - acc: 0.9665 - val_loss: 0.4838 - val_acc: 0.8910\n",
      "Epoch 70/100\n",
      "100/100 [==============================] - 15s 146ms/step - loss: 0.1412 - acc: 0.9670 - val_loss: 0.7285 - val_acc: 0.8940\n",
      "Epoch 71/100\n",
      "100/100 [==============================] - 15s 151ms/step - loss: 0.1624 - acc: 0.9665 - val_loss: 1.2356 - val_acc: 0.9020\n",
      "Epoch 72/100\n",
      "100/100 [==============================] - 15s 147ms/step - loss: 0.0979 - acc: 0.9735 - val_loss: 0.8587 - val_acc: 0.8980\n",
      "Epoch 73/100\n",
      "100/100 [==============================] - 15s 149ms/step - loss: 0.1172 - acc: 0.9680 - val_loss: 0.8122 - val_acc: 0.8930\n",
      "Epoch 74/100\n",
      "100/100 [==============================] - 15s 146ms/step - loss: 0.2257 - acc: 0.9685 - val_loss: 0.4831 - val_acc: 0.9060\n",
      "Epoch 75/100\n",
      "100/100 [==============================] - 15s 148ms/step - loss: 0.1371 - acc: 0.9695 - val_loss: 0.8049 - val_acc: 0.9090\n",
      "Epoch 76/100\n",
      "100/100 [==============================] - 15s 146ms/step - loss: 0.1521 - acc: 0.9670 - val_loss: 0.4214 - val_acc: 0.8940\n",
      "Epoch 77/100\n",
      "100/100 [==============================] - 15s 149ms/step - loss: 0.1494 - acc: 0.9615 - val_loss: 0.5965 - val_acc: 0.8950\n",
      "Epoch 78/100\n",
      "100/100 [==============================] - 15s 151ms/step - loss: 0.1798 - acc: 0.9615 - val_loss: 0.6369 - val_acc: 0.8820\n",
      "Epoch 79/100\n",
      "100/100 [==============================] - 15s 150ms/step - loss: 0.1067 - acc: 0.9650 - val_loss: 1.0586 - val_acc: 0.8790\n",
      "Epoch 80/100\n",
      "100/100 [==============================] - 15s 146ms/step - loss: 0.1053 - acc: 0.9675 - val_loss: 0.8314 - val_acc: 0.8870\n",
      "Epoch 81/100\n",
      "100/100 [==============================] - 15s 149ms/step - loss: 0.1558 - acc: 0.9740 - val_loss: 0.6461 - val_acc: 0.8550\n",
      "Epoch 82/100\n",
      "100/100 [==============================] - 15s 147ms/step - loss: 0.1263 - acc: 0.9700 - val_loss: 0.7275 - val_acc: 0.9190\n",
      "Epoch 83/100\n",
      "100/100 [==============================] - 15s 149ms/step - loss: 0.1962 - acc: 0.9675 - val_loss: 0.6814 - val_acc: 0.8940\n",
      "Epoch 84/100\n",
      "100/100 [==============================] - 15s 146ms/step - loss: 0.1164 - acc: 0.9635 - val_loss: 0.4140 - val_acc: 0.9080\n",
      "Epoch 85/100\n",
      "100/100 [==============================] - 15s 148ms/step - loss: 0.0771 - acc: 0.9775 - val_loss: 1.8539 - val_acc: 0.8910\n",
      "Epoch 86/100\n",
      "100/100 [==============================] - 15s 147ms/step - loss: 0.1555 - acc: 0.9675 - val_loss: 0.6479 - val_acc: 0.9090\n",
      "Epoch 87/100\n",
      "100/100 [==============================] - 15s 149ms/step - loss: 0.1642 - acc: 0.9665 - val_loss: 0.8224 - val_acc: 0.8910\n",
      "Epoch 88/100\n",
      "100/100 [==============================] - 15s 147ms/step - loss: 0.1679 - acc: 0.9730 - val_loss: 1.2031 - val_acc: 0.8840\n",
      "Epoch 89/100\n",
      "100/100 [==============================] - 15s 149ms/step - loss: 0.1080 - acc: 0.9655 - val_loss: 1.7114 - val_acc: 0.8860\n",
      "Epoch 90/100\n",
      "100/100 [==============================] - 15s 150ms/step - loss: 0.1523 - acc: 0.9720 - val_loss: 0.7330 - val_acc: 0.9010\n",
      "Epoch 91/100\n",
      "100/100 [==============================] - 15s 149ms/step - loss: 0.0984 - acc: 0.9735 - val_loss: 1.9258 - val_acc: 0.8930\n",
      "Epoch 92/100\n",
      "100/100 [==============================] - 15s 147ms/step - loss: 0.1312 - acc: 0.9740 - val_loss: 0.6546 - val_acc: 0.9060\n",
      "Epoch 93/100\n",
      "100/100 [==============================] - 15s 149ms/step - loss: 0.1443 - acc: 0.9680 - val_loss: 0.7677 - val_acc: 0.8530\n",
      "Epoch 94/100\n",
      "100/100 [==============================] - 15s 151ms/step - loss: 0.1139 - acc: 0.9695 - val_loss: 0.4572 - val_acc: 0.9080\n",
      "Epoch 95/100\n",
      "100/100 [==============================] - 15s 150ms/step - loss: 0.1239 - acc: 0.9675 - val_loss: 0.9600 - val_acc: 0.9040\n",
      "Epoch 96/100\n",
      "100/100 [==============================] - 15s 151ms/step - loss: 0.0831 - acc: 0.9770 - val_loss: 2.4091 - val_acc: 0.8940\n",
      "Epoch 97/100\n",
      "100/100 [==============================] - 15s 149ms/step - loss: 0.2878 - acc: 0.9675 - val_loss: 0.6633 - val_acc: 0.9010\n",
      "Epoch 98/100\n",
      "100/100 [==============================] - 15s 147ms/step - loss: 0.0959 - acc: 0.9690 - val_loss: 0.8209 - val_acc: 0.9010\n",
      "Epoch 99/100\n",
      "100/100 [==============================] - 15s 148ms/step - loss: 0.1165 - acc: 0.9775 - val_loss: 1.1361 - val_acc: 0.9030\n",
      "Epoch 100/100\n",
      "100/100 [==============================] - 15s 147ms/step - loss: 0.0898 - acc: 0.9745 - val_loss: 2.3269 - val_acc: 0.8520\n"
     ]
    }
   ],
   "source": [
    "#!g2.mig\n",
    "\n",
    "history = model.fit(\n",
    "    train_generator,\n",
    "    steps_per_epoch=100,\n",
    "    epochs=100,\n",
    "    validation_data=valid_generator,\n",
    "    validation_steps=50\n",
    ")"
   ]
  },
  {
   "cell_type": "code",
   "execution_count": 138,
   "id": "9518b1f9",
   "metadata": {
    "cellId": "c148zrhxh8rgq85q9fd9d"
   },
   "outputs": [
    {
     "name": "stderr",
     "output_type": "stream",
     "text": [
      "2023-02-06 20:40:57.847636: W tensorflow/stream_executor/platform/default/dso_loader.cc:64] Could not load dynamic library 'libcuda.so.1'; dlerror: libcuda.so.1: cannot open shared object file: No such file or directory; LD_LIBRARY_PATH: /usr/local/nvidia/lib:/usr/local/nvidia/lib64:/usr/local/cuda/lib64\n",
      "2023-02-06 20:40:57.847666: W tensorflow/stream_executor/cuda/cuda_driver.cc:269] failed call to cuInit: UNKNOWN ERROR (303)\n",
      "2023-02-06 20:40:57.847682: I tensorflow/stream_executor/cuda/cuda_diagnostics.cc:156] kernel driver does not appear to be running on this host (s-2dcb4d6e-cff5-45a2-9954-e963cc5e0699): /proc/driver/nvidia/version does not exist\n",
      "2023-02-06 20:40:57.847897: I tensorflow/core/platform/cpu_feature_guard.cc:142] This TensorFlow binary is optimized with oneAPI Deep Neural Network Library (oneDNN) to use the following CPU instructions in performance-critical operations:  AVX2 AVX512F FMA\n",
      "To enable them in other operations, rebuild TensorFlow with the appropriate compiler flags.\n"
     ]
    }
   ],
   "source": [
    "history_dict = history.history"
   ]
  },
  {
   "cell_type": "code",
   "execution_count": 139,
   "id": "73cefd39",
   "metadata": {
    "cellId": "3iycb6e7l0ik9cssq83p0j"
   },
   "outputs": [
    {
     "data": {
      "image/png": "[encoded data removed]",
      "text/plain": [
       "<Figure size 432x288 with 1 Axes>"
      ]
     },
     "metadata": {
      "needs_background": "light"
     },
     "output_type": "display_data"
    }
   ],
   "source": [
    "epochs = range(len(history_dict['val_loss']))\n",
    "\n",
    "fig, ax = plt.subplots()\n",
    "\n",
    "ax.plot(epochs, history_dict['val_loss'], label='Validation loss')\n",
    "ax.plot(epochs, history_dict['loss'], label='Training loss')\n",
    "ax.set(xlabel='Epoch', ylabel='loss', title='Loss chart')\n",
    "\n",
    "plt.legend()\n",
    "plt.show()"
   ]
  },
  {
   "cell_type": "code",
   "execution_count": 140,
   "id": "fd6a3470",
   "metadata": {
    "cellId": "whndqquj1ee9uivlx8n19t"
   },
   "outputs": [
    {
     "data": {
      "image/png": "[encoded data removed]",
      "text/plain": [
       "<Figure size 432x288 with 1 Axes>"
      ]
     },
     "metadata": {
      "needs_background": "light"
     },
     "output_type": "display_data"
    }
   ],
   "source": [
    "epochs = range(len(history_dict['val_acc']))\n",
    "\n",
    "fig, ax = plt.subplots()\n",
    "\n",
    "ax.plot(epochs, history_dict['val_acc'], label='Validation acc')\n",
    "ax.plot(epochs, history_dict['acc'], label='Training acc')\n",
    "ax.set(xlabel='Epoch', ylabel='acc', title='acc chart')\n",
    "\n",
    "plt.legend()\n",
    "plt.show()"
   ]
  },
  {
   "cell_type": "markdown",
   "id": "e2528017",
   "metadata": {
    "cellId": "k9038a1lgnspgit00xtf9",
    "execution_id": "16d7b745-4882-4cdf-9dcb-2ad66ec9379c"
   },
   "source": [
    "### Вывод\n",
    "\n",
    "Применение метода дообучения позволило увеличить качество модели с 0.85 до 0.9, что не очень существенно"
   ]
  }
 ],
 "metadata": {
  "language_info": {
   "codemirror_mode": {
    "name": "ipython",
    "version": 3
   },
   "file_extension": ".py",
   "mimetype": "text/x-python",
   "name": "python",
   "nbconvert_exporter": "python",
   "pygments_lexer": "ipython3",
   "version": "3.7.7"
  },
  "notebookId": "c0286351-a3f9-472b-92fe-d54825922ac7",
  "notebookPath": "deep-learning/chapter-5/Использование предварительно обученной CNN.ipynb"
 },
 "nbformat": 4,
 "nbformat_minor": 5
}
