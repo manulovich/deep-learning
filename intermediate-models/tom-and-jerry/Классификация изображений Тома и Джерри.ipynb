{
 "cells": [
  {
   "cell_type": "markdown",
   "metadata": {},
   "source": [
    "# Классификация изображений Тома и Джерри\n",
    "\n",
    "Ссылка на датасет - [Kaggle](https://www.kaggle.com/datasets/balabaskar/tom-and-jerry-image-classification)\n",
    "\n",
    "## Задача:\n",
    "1. Обучть модель классифицировать изображения на два класса\n",
    "\n",
    "![](https://storage.googleapis.com/kaggle-datasets-images/2136537/3554162/0473eccb7645c78ad29d97fcf69a3127/dataset-cover.jpg?t=2022-04-30-12-38-18)"
   ]
  },
  {
   "cell_type": "markdown",
   "metadata": {},
   "source": [
    "## Используемые библиотеки"
   ]
  },
  {
   "cell_type": "code",
   "execution_count": 3,
   "metadata": {},
   "outputs": [],
   "source": [
    "import os\n",
    "import keras, shutil\n",
    "import numpy as np\n",
    "import pandas as pd\n",
    "from keras import layers\n",
    "from keras import Sequential\n",
    "from keras import regularizers\n",
    "from keras.preprocessing.image import ImageDataGenerator\n",
    "import matplotlib.pyplot as plt"
   ]
  },
  {
   "cell_type": "markdown",
   "metadata": {},
   "source": [
    "## Константы"
   ]
  },
  {
   "cell_type": "code",
   "execution_count": 4,
   "metadata": {},
   "outputs": [],
   "source": [
    "BATCH_SIZE = 20\n",
    "BASE_PATH = os.path.join(os.getcwd(), '..', '..', 'data', 'tom-and-jerry')\n",
    "TRAIN_PATH = os.path.join(BASE_PATH, 'train')\n",
    "VAL_PATH = os.path.join(BASE_PATH, 'val')\n",
    "TEST_PATH = os.path.join(BASE_PATH, 'test')"
   ]
  },
  {
   "cell_type": "markdown",
   "metadata": {},
   "source": [
    "## Загрузка данных"
   ]
  },
  {
   "cell_type": "markdown",
   "metadata": {},
   "source": [
    "\n",
    "<span style=\"color:red\">Добавить позже инстуркцию по загрузке данных</span>."
   ]
  },
  {
   "cell_type": "markdown",
   "metadata": {},
   "source": [
    "### Разделение данных"
   ]
  },
  {
   "cell_type": "code",
   "execution_count": 5,
   "metadata": {},
   "outputs": [],
   "source": [
    "PARAMS = {\n",
    "    'samples': [\n",
    "        {\n",
    "            'train': 700\n",
    "        },\n",
    "        {\n",
    "            'val': 240\n",
    "        },\n",
    "        {\n",
    "            'test': 240\n",
    "        }\n",
    "    ],\n",
    "    'classes': ['tom', 'jerry']\n",
    "}"
   ]
  },
  {
   "cell_type": "code",
   "execution_count": 6,
   "metadata": {},
   "outputs": [
    {
     "name": "stdout",
     "output_type": "stream",
     "text": [
      "Количество картинок с Томом:  1930\n",
      "Количество картинок с Джерри 1240\n"
     ]
    }
   ],
   "source": [
    "print('Количество картинок с Томом: ', len(os.listdir(os.path.join(BASE_PATH, 'src', 'tom'))))\n",
    "print('Количество картинок с Джерри', len(os.listdir(os.path.join(BASE_PATH, 'src', 'jerry'))))"
   ]
  },
  {
   "cell_type": "code",
   "execution_count": 7,
   "metadata": {},
   "outputs": [],
   "source": [
    "for tag in PARAMS['classes']:\n",
    "    paths = os.listdir(os.path.join(BASE_PATH, 'src', tag))\n",
    "\n",
    "    for sample in PARAMS['samples']:\n",
    "        name, count = list(sample.items())[0]\n",
    "\n",
    "        shutil.rmtree(os.path.join(BASE_PATH, name, tag),  ignore_errors=True)\n",
    "        os.makedirs(os.path.join(BASE_PATH, name, tag))\n",
    "\n",
    "        for path in paths[:count]:\n",
    "            shutil.copy(os.path.join(BASE_PATH, 'src', tag,  path), os.path.join(BASE_PATH, name, tag))\n",
    "        \n",
    "        paths = paths[count:]"
   ]
  },
  {
   "cell_type": "markdown",
   "metadata": {},
   "source": [
    "### Создание ImageDataGenerator"
   ]
  },
  {
   "cell_type": "code",
   "execution_count": 8,
   "metadata": {},
   "outputs": [
    {
     "name": "stdout",
     "output_type": "stream",
     "text": [
      "Found 1400 images belonging to 2 classes.\n",
      "Found 480 images belonging to 2 classes.\n"
     ]
    }
   ],
   "source": [
    "train_datagen = ImageDataGenerator(\n",
    "    rescale=1/255,\n",
    "    rotation_range=20,\n",
    "    width_shift_range=0.1,\n",
    "    height_shift_range=0.1,\n",
    "    shear_range=0.1,\n",
    "    zoom_range=0.1,\n",
    "    horizontal_flip=True\n",
    ")\n",
    "# test_datagen = ImageDataGenerator(rescale=1/255)\n",
    "\n",
    "train_generator = train_datagen.flow_from_directory(\n",
    "    TRAIN_PATH,\n",
    "    target_size=(150, 150),\n",
    "    batch_size=BATCH_SIZE,\n",
    "    class_mode='binary'\n",
    ")\n",
    "val_generator = train_datagen.flow_from_directory(\n",
    "    VAL_PATH,\n",
    "    target_size=(150, 150),\n",
    "    batch_size=BATCH_SIZE,\n",
    "    class_mode='binary'\n",
    ")"
   ]
  },
  {
   "cell_type": "markdown",
   "metadata": {},
   "source": [
    "## Конструирование сети"
   ]
  },
  {
   "cell_type": "code",
   "execution_count": 16,
   "metadata": {},
   "outputs": [],
   "source": [
    "def create_model():\n",
    "    model = Sequential()\n",
    "\n",
    "    # Сверточная основа\n",
    "    model.add(layers.Conv2D(16, (3, 3), activation='relu', input_shape=(150, 150, 3)))\n",
    "    model.add(layers.MaxPooling2D((2, 2)))\n",
    "    model.add(layers.Conv2D(32, (3, 3), activation='relu'))\n",
    "    model.add(layers.MaxPooling2D((2, 2)))\n",
    "    model.add(layers.Conv2D(64, (3, 3), activation='relu'))\n",
    "    model.add(layers.MaxPooling2D((2, 2)))\n",
    "\n",
    "    # Полносвязный классификатор\n",
    "    model.add(layers.Flatten())\n",
    "    model.add(layers.Dense(256, activation='relu'))\n",
    "    model.add(layers.Dense(1, activation='sigmoid'))\n",
    "\n",
    "    # Настройка оптимизаторов и метрик\n",
    "    model.compile(loss='binary_crossentropy', optimizer='rmsprop', metrics=['acc'])\n",
    "    \n",
    "    return model"
   ]
  },
  {
   "cell_type": "code",
   "execution_count": 17,
   "metadata": {},
   "outputs": [],
   "source": [
    "model = create_model()"
   ]
  },
  {
   "cell_type": "code",
   "execution_count": 10,
   "metadata": {},
   "outputs": [
    {
     "name": "stdout",
     "output_type": "stream",
     "text": [
      "Epoch 1/120\n",
      "35/35 [==============================] - 23s 642ms/step - loss: 0.7899 - acc: 0.5171 - val_loss: 0.6848 - val_acc: 0.5125\n",
      "Epoch 2/120\n",
      "35/35 [==============================] - 21s 611ms/step - loss: 0.6577 - acc: 0.6400 - val_loss: 0.6518 - val_acc: 0.6292\n",
      "Epoch 3/120\n",
      "35/35 [==============================] - 22s 613ms/step - loss: 0.5901 - acc: 0.7186 - val_loss: 0.5973 - val_acc: 0.7000\n",
      "Epoch 4/120\n",
      "35/35 [==============================] - 21s 609ms/step - loss: 0.5823 - acc: 0.7114 - val_loss: 0.6359 - val_acc: 0.6583\n",
      "Epoch 5/120\n",
      "35/35 [==============================] - 22s 623ms/step - loss: 0.5463 - acc: 0.7400 - val_loss: 0.5629 - val_acc: 0.7250\n",
      "Epoch 6/120\n",
      "35/35 [==============================] - 23s 642ms/step - loss: 0.5180 - acc: 0.7643 - val_loss: 0.4966 - val_acc: 0.7667\n",
      "Epoch 7/120\n",
      "35/35 [==============================] - 24s 680ms/step - loss: 0.4531 - acc: 0.7886 - val_loss: 0.4707 - val_acc: 0.7667\n",
      "Epoch 8/120\n",
      "35/35 [==============================] - 24s 687ms/step - loss: 0.3964 - acc: 0.8343 - val_loss: 0.4794 - val_acc: 0.7750\n",
      "Epoch 9/120\n",
      "35/35 [==============================] - 22s 631ms/step - loss: 0.4005 - acc: 0.8314 - val_loss: 0.4635 - val_acc: 0.7875\n",
      "Epoch 10/120\n",
      "35/35 [==============================] - 19s 545ms/step - loss: 0.3738 - acc: 0.8329 - val_loss: 0.4442 - val_acc: 0.7792\n",
      "Epoch 11/120\n",
      "35/35 [==============================] - 20s 576ms/step - loss: 0.3469 - acc: 0.8500 - val_loss: 0.4443 - val_acc: 0.7917\n",
      "Epoch 12/120\n",
      "35/35 [==============================] - 20s 560ms/step - loss: 0.3549 - acc: 0.8443 - val_loss: 0.3875 - val_acc: 0.8333\n",
      "Epoch 13/120\n",
      "35/35 [==============================] - 20s 569ms/step - loss: 0.3171 - acc: 0.8657 - val_loss: 0.5611 - val_acc: 0.7708\n",
      "Epoch 14/120\n",
      "35/35 [==============================] - 20s 567ms/step - loss: 0.3201 - acc: 0.8543 - val_loss: 0.8103 - val_acc: 0.6792\n",
      "Epoch 15/120\n",
      "35/35 [==============================] - 18s 510ms/step - loss: 0.2515 - acc: 0.9000 - val_loss: 0.3573 - val_acc: 0.8667\n",
      "Epoch 16/120\n",
      "35/35 [==============================] - 18s 514ms/step - loss: 0.2836 - acc: 0.8943 - val_loss: 0.4453 - val_acc: 0.8333\n",
      "Epoch 17/120\n",
      "35/35 [==============================] - 18s 516ms/step - loss: 0.2860 - acc: 0.8657 - val_loss: 0.5151 - val_acc: 0.7833\n",
      "Epoch 18/120\n",
      "35/35 [==============================] - 18s 510ms/step - loss: 0.2421 - acc: 0.9086 - val_loss: 0.3558 - val_acc: 0.8500\n",
      "Epoch 19/120\n",
      "35/35 [==============================] - 18s 506ms/step - loss: 0.2429 - acc: 0.9057 - val_loss: 0.3144 - val_acc: 0.8708\n",
      "Epoch 20/120\n",
      "35/35 [==============================] - 18s 510ms/step - loss: 0.2160 - acc: 0.9214 - val_loss: 0.5700 - val_acc: 0.8292\n",
      "Epoch 21/120\n",
      "35/35 [==============================] - 19s 535ms/step - loss: 0.2089 - acc: 0.9200 - val_loss: 0.5045 - val_acc: 0.8000\n",
      "Epoch 22/120\n",
      "35/35 [==============================] - 18s 519ms/step - loss: 0.1961 - acc: 0.9186 - val_loss: 0.3893 - val_acc: 0.8833\n",
      "Epoch 23/120\n",
      "35/35 [==============================] - 19s 556ms/step - loss: 0.2053 - acc: 0.9386 - val_loss: 0.2954 - val_acc: 0.9000\n",
      "Epoch 24/120\n",
      "35/35 [==============================] - 20s 581ms/step - loss: 0.2089 - acc: 0.9329 - val_loss: 0.2589 - val_acc: 0.9083\n",
      "Epoch 25/120\n",
      "35/35 [==============================] - 19s 528ms/step - loss: 0.1806 - acc: 0.9286 - val_loss: 0.2621 - val_acc: 0.8958\n",
      "Epoch 26/120\n",
      "35/35 [==============================] - 21s 593ms/step - loss: 0.1588 - acc: 0.9300 - val_loss: 0.3450 - val_acc: 0.8750\n",
      "Epoch 27/120\n",
      "35/35 [==============================] - 21s 587ms/step - loss: 0.2307 - acc: 0.9200 - val_loss: 0.3521 - val_acc: 0.8667\n",
      "Epoch 28/120\n",
      "35/35 [==============================] - 19s 531ms/step - loss: 0.1979 - acc: 0.9371 - val_loss: 0.3060 - val_acc: 0.8750\n",
      "Epoch 29/120\n",
      "35/35 [==============================] - 19s 532ms/step - loss: 0.1433 - acc: 0.9414 - val_loss: 0.1662 - val_acc: 0.9500\n",
      "Epoch 30/120\n",
      "35/35 [==============================] - 19s 533ms/step - loss: 0.1802 - acc: 0.9471 - val_loss: 0.3290 - val_acc: 0.9000\n",
      "Epoch 31/120\n",
      "35/35 [==============================] - 18s 511ms/step - loss: 0.1657 - acc: 0.9386 - val_loss: 0.4158 - val_acc: 0.8667\n",
      "Epoch 32/120\n",
      "35/35 [==============================] - 18s 510ms/step - loss: 0.1862 - acc: 0.9357 - val_loss: 0.3036 - val_acc: 0.8625\n",
      "Epoch 33/120\n",
      "35/35 [==============================] - 18s 513ms/step - loss: 0.1454 - acc: 0.9371 - val_loss: 0.2690 - val_acc: 0.8958\n",
      "Epoch 34/120\n",
      "35/35 [==============================] - 18s 519ms/step - loss: 0.1561 - acc: 0.9386 - val_loss: 0.4846 - val_acc: 0.8500\n",
      "Epoch 35/120\n",
      "35/35 [==============================] - 19s 557ms/step - loss: 0.1605 - acc: 0.9471 - val_loss: 0.2561 - val_acc: 0.9042\n",
      "Epoch 36/120\n",
      "35/35 [==============================] - 18s 524ms/step - loss: 0.1523 - acc: 0.9471 - val_loss: 0.2671 - val_acc: 0.9250\n",
      "Epoch 37/120\n",
      "35/35 [==============================] - 18s 504ms/step - loss: 0.1478 - acc: 0.9429 - val_loss: 0.3581 - val_acc: 0.8958\n",
      "Epoch 38/120\n",
      "35/35 [==============================] - 18s 501ms/step - loss: 0.1324 - acc: 0.9586 - val_loss: 0.1882 - val_acc: 0.9250\n",
      "Epoch 39/120\n",
      "35/35 [==============================] - 17s 497ms/step - loss: 0.1932 - acc: 0.9400 - val_loss: 0.2743 - val_acc: 0.8917\n",
      "Epoch 40/120\n",
      "35/35 [==============================] - 18s 500ms/step - loss: 0.1250 - acc: 0.9629 - val_loss: 0.6631 - val_acc: 0.8542\n",
      "Epoch 41/120\n",
      "35/35 [==============================] - 18s 501ms/step - loss: 0.1371 - acc: 0.9514 - val_loss: 0.5643 - val_acc: 0.8250\n",
      "Epoch 42/120\n",
      "35/35 [==============================] - 18s 517ms/step - loss: 0.0931 - acc: 0.9614 - val_loss: 0.3029 - val_acc: 0.8833\n",
      "Epoch 43/120\n",
      "35/35 [==============================] - 18s 520ms/step - loss: 0.1579 - acc: 0.9414 - val_loss: 0.3615 - val_acc: 0.8958\n",
      "Epoch 44/120\n",
      "35/35 [==============================] - 18s 523ms/step - loss: 0.1489 - acc: 0.9471 - val_loss: 0.3484 - val_acc: 0.8708\n",
      "Epoch 45/120\n",
      "35/35 [==============================] - 19s 542ms/step - loss: 0.1471 - acc: 0.9543 - val_loss: 0.4014 - val_acc: 0.8708\n",
      "Epoch 46/120\n",
      "35/35 [==============================] - 19s 533ms/step - loss: 0.1087 - acc: 0.9643 - val_loss: 0.2028 - val_acc: 0.9375\n",
      "Epoch 47/120\n",
      "35/35 [==============================] - 19s 553ms/step - loss: 0.1033 - acc: 0.9657 - val_loss: 0.2299 - val_acc: 0.9250\n",
      "Epoch 48/120\n",
      "35/35 [==============================] - 19s 545ms/step - loss: 0.1263 - acc: 0.9514 - val_loss: 0.4646 - val_acc: 0.9000\n",
      "Epoch 49/120\n",
      "35/35 [==============================] - 20s 584ms/step - loss: 0.1189 - acc: 0.9600 - val_loss: 0.4695 - val_acc: 0.8667\n",
      "Epoch 50/120\n",
      "35/35 [==============================] - 20s 577ms/step - loss: 0.0893 - acc: 0.9629 - val_loss: 0.3780 - val_acc: 0.8875\n",
      "Epoch 51/120\n",
      "35/35 [==============================] - 20s 558ms/step - loss: 0.1432 - acc: 0.9600 - val_loss: 0.2856 - val_acc: 0.9333\n",
      "Epoch 52/120\n",
      "35/35 [==============================] - 20s 570ms/step - loss: 0.1209 - acc: 0.9571 - val_loss: 0.1625 - val_acc: 0.9500\n",
      "Epoch 53/120\n",
      "35/35 [==============================] - 23s 648ms/step - loss: 0.0872 - acc: 0.9671 - val_loss: 0.5013 - val_acc: 0.9250\n",
      "Epoch 54/120\n",
      "35/35 [==============================] - 21s 592ms/step - loss: 0.1003 - acc: 0.9643 - val_loss: 0.3371 - val_acc: 0.9125\n",
      "Epoch 55/120\n",
      "35/35 [==============================] - 20s 579ms/step - loss: 0.1254 - acc: 0.9571 - val_loss: 0.2036 - val_acc: 0.9250\n",
      "Epoch 56/120\n",
      "35/35 [==============================] - 18s 511ms/step - loss: 0.0714 - acc: 0.9743 - val_loss: 0.2366 - val_acc: 0.9375\n",
      "Epoch 57/120\n",
      "35/35 [==============================] - 19s 529ms/step - loss: 0.1012 - acc: 0.9657 - val_loss: 0.2586 - val_acc: 0.9333\n",
      "Epoch 58/120\n",
      "35/35 [==============================] - 18s 527ms/step - loss: 0.1108 - acc: 0.9571 - val_loss: 0.1725 - val_acc: 0.9583\n",
      "Epoch 59/120\n",
      "35/35 [==============================] - 18s 526ms/step - loss: 0.0770 - acc: 0.9771 - val_loss: 1.0407 - val_acc: 0.7833\n",
      "Epoch 60/120\n",
      "35/35 [==============================] - 19s 554ms/step - loss: 0.0909 - acc: 0.9571 - val_loss: 0.1638 - val_acc: 0.9500\n",
      "Epoch 61/120\n",
      "35/35 [==============================] - 19s 551ms/step - loss: 0.1258 - acc: 0.9629 - val_loss: 0.2334 - val_acc: 0.9250\n",
      "Epoch 62/120\n",
      "35/35 [==============================] - 20s 583ms/step - loss: 0.1007 - acc: 0.9714 - val_loss: 0.1570 - val_acc: 0.9458\n",
      "Epoch 63/120\n",
      "35/35 [==============================] - 19s 551ms/step - loss: 0.0875 - acc: 0.9700 - val_loss: 0.7578 - val_acc: 0.8500\n",
      "Epoch 64/120\n",
      "35/35 [==============================] - 19s 541ms/step - loss: 0.0969 - acc: 0.9714 - val_loss: 0.5384 - val_acc: 0.8458\n",
      "Epoch 65/120\n",
      "35/35 [==============================] - 21s 588ms/step - loss: 0.0970 - acc: 0.9643 - val_loss: 0.3773 - val_acc: 0.9333\n",
      "Epoch 66/120\n",
      "35/35 [==============================] - 19s 552ms/step - loss: 0.1038 - acc: 0.9586 - val_loss: 0.4923 - val_acc: 0.9125\n",
      "Epoch 67/120\n",
      "35/35 [==============================] - 19s 533ms/step - loss: 0.1379 - acc: 0.9643 - val_loss: 0.1748 - val_acc: 0.9417\n",
      "Epoch 68/120\n",
      "35/35 [==============================] - 19s 537ms/step - loss: 0.1097 - acc: 0.9643 - val_loss: 0.2049 - val_acc: 0.9167\n",
      "Epoch 69/120\n",
      "35/35 [==============================] - 21s 589ms/step - loss: 0.0833 - acc: 0.9757 - val_loss: 0.2310 - val_acc: 0.9417\n",
      "Epoch 70/120\n",
      "35/35 [==============================] - 20s 574ms/step - loss: 0.1107 - acc: 0.9629 - val_loss: 0.2071 - val_acc: 0.9500\n",
      "Epoch 71/120\n",
      "35/35 [==============================] - 20s 578ms/step - loss: 0.0959 - acc: 0.9700 - val_loss: 0.2079 - val_acc: 0.9167\n",
      "Epoch 72/120\n",
      "35/35 [==============================] - 21s 601ms/step - loss: 0.0579 - acc: 0.9771 - val_loss: 0.4588 - val_acc: 0.9208\n",
      "Epoch 73/120\n",
      "35/35 [==============================] - 22s 618ms/step - loss: 0.0912 - acc: 0.9729 - val_loss: 0.3198 - val_acc: 0.9333\n",
      "Epoch 74/120\n",
      "35/35 [==============================] - 20s 576ms/step - loss: 0.1254 - acc: 0.9686 - val_loss: 0.2576 - val_acc: 0.9208\n",
      "Epoch 75/120\n",
      "35/35 [==============================] - 19s 533ms/step - loss: 0.0796 - acc: 0.9743 - val_loss: 0.2521 - val_acc: 0.9292\n",
      "Epoch 76/120\n",
      "35/35 [==============================] - 20s 583ms/step - loss: 0.0712 - acc: 0.9800 - val_loss: 0.2392 - val_acc: 0.9417\n",
      "Epoch 77/120\n",
      "35/35 [==============================] - 20s 586ms/step - loss: 0.0878 - acc: 0.9643 - val_loss: 0.1746 - val_acc: 0.9417\n",
      "Epoch 78/120\n",
      "35/35 [==============================] - 21s 596ms/step - loss: 0.1242 - acc: 0.9586 - val_loss: 0.2807 - val_acc: 0.9375\n",
      "Epoch 79/120\n",
      "35/35 [==============================] - 21s 586ms/step - loss: 0.0697 - acc: 0.9771 - val_loss: 0.3067 - val_acc: 0.9292\n",
      "Epoch 80/120\n",
      "35/35 [==============================] - 19s 555ms/step - loss: 0.0954 - acc: 0.9686 - val_loss: 0.2000 - val_acc: 0.9500\n",
      "Epoch 81/120\n",
      "35/35 [==============================] - 18s 526ms/step - loss: 0.0651 - acc: 0.9757 - val_loss: 0.2643 - val_acc: 0.9333\n",
      "Epoch 82/120\n",
      "35/35 [==============================] - 19s 541ms/step - loss: 0.0849 - acc: 0.9657 - val_loss: 0.1455 - val_acc: 0.9708\n",
      "Epoch 83/120\n",
      "35/35 [==============================] - 18s 515ms/step - loss: 0.0509 - acc: 0.9857 - val_loss: 0.3408 - val_acc: 0.9167\n",
      "Epoch 84/120\n",
      "35/35 [==============================] - 18s 503ms/step - loss: 0.1099 - acc: 0.9643 - val_loss: 0.3440 - val_acc: 0.8958\n",
      "Epoch 85/120\n",
      "35/35 [==============================] - 17s 494ms/step - loss: 0.0582 - acc: 0.9800 - val_loss: 0.4810 - val_acc: 0.8750\n",
      "Epoch 86/120\n",
      "35/35 [==============================] - 18s 504ms/step - loss: 0.0937 - acc: 0.9686 - val_loss: 0.3331 - val_acc: 0.9417\n",
      "Epoch 87/120\n",
      "35/35 [==============================] - 17s 499ms/step - loss: 0.0624 - acc: 0.9757 - val_loss: 0.2950 - val_acc: 0.9292\n",
      "Epoch 88/120\n",
      "35/35 [==============================] - 18s 509ms/step - loss: 0.0950 - acc: 0.9743 - val_loss: 0.2484 - val_acc: 0.9375\n",
      "Epoch 89/120\n",
      "35/35 [==============================] - 18s 500ms/step - loss: 0.1775 - acc: 0.9629 - val_loss: 0.1865 - val_acc: 0.9625\n",
      "Epoch 90/120\n",
      "35/35 [==============================] - 18s 500ms/step - loss: 0.0514 - acc: 0.9800 - val_loss: 0.3155 - val_acc: 0.9458\n",
      "Epoch 91/120\n",
      "35/35 [==============================] - 18s 501ms/step - loss: 0.0954 - acc: 0.9743 - val_loss: 0.2954 - val_acc: 0.9458\n",
      "Epoch 92/120\n",
      "35/35 [==============================] - 18s 510ms/step - loss: 0.0739 - acc: 0.9700 - val_loss: 0.1414 - val_acc: 0.9583\n",
      "Epoch 93/120\n",
      "35/35 [==============================] - 18s 515ms/step - loss: 0.0845 - acc: 0.9700 - val_loss: 0.2140 - val_acc: 0.9625\n",
      "Epoch 94/120\n",
      "35/35 [==============================] - 19s 553ms/step - loss: 0.0668 - acc: 0.9786 - val_loss: 0.2970 - val_acc: 0.9417\n",
      "Epoch 95/120\n",
      "35/35 [==============================] - 18s 516ms/step - loss: 0.0860 - acc: 0.9743 - val_loss: 0.2853 - val_acc: 0.9458\n",
      "Epoch 96/120\n",
      "35/35 [==============================] - 18s 501ms/step - loss: 0.0810 - acc: 0.9686 - val_loss: 0.4166 - val_acc: 0.8833\n",
      "Epoch 97/120\n",
      "35/35 [==============================] - 17s 498ms/step - loss: 0.0692 - acc: 0.9743 - val_loss: 0.2076 - val_acc: 0.9458\n",
      "Epoch 98/120\n",
      "35/35 [==============================] - 18s 499ms/step - loss: 0.0650 - acc: 0.9771 - val_loss: 0.2617 - val_acc: 0.9375\n",
      "Epoch 99/120\n",
      "35/35 [==============================] - 18s 501ms/step - loss: 0.1089 - acc: 0.9686 - val_loss: 0.2257 - val_acc: 0.9542\n",
      "Epoch 100/120\n",
      "35/35 [==============================] - 17s 498ms/step - loss: 0.0830 - acc: 0.9757 - val_loss: 0.3052 - val_acc: 0.9333\n",
      "Epoch 101/120\n",
      "35/35 [==============================] - 18s 502ms/step - loss: 0.1567 - acc: 0.9600 - val_loss: 0.2670 - val_acc: 0.9458\n",
      "Epoch 102/120\n",
      "35/35 [==============================] - 17s 499ms/step - loss: 0.0449 - acc: 0.9886 - val_loss: 0.4986 - val_acc: 0.9042\n",
      "Epoch 103/120\n",
      "35/35 [==============================] - 18s 503ms/step - loss: 0.0690 - acc: 0.9829 - val_loss: 0.2494 - val_acc: 0.9583\n",
      "Epoch 104/120\n",
      "35/35 [==============================] - 18s 502ms/step - loss: 0.0818 - acc: 0.9686 - val_loss: 0.2411 - val_acc: 0.9417\n",
      "Epoch 105/120\n",
      "35/35 [==============================] - 18s 500ms/step - loss: 0.1244 - acc: 0.9700 - val_loss: 0.3221 - val_acc: 0.9417\n",
      "Epoch 106/120\n",
      "35/35 [==============================] - 17s 495ms/step - loss: 0.0402 - acc: 0.9843 - val_loss: 0.5182 - val_acc: 0.8917\n",
      "Epoch 107/120\n",
      "35/35 [==============================] - 18s 501ms/step - loss: 0.0708 - acc: 0.9786 - val_loss: 0.8532 - val_acc: 0.9042\n",
      "Epoch 108/120\n",
      "35/35 [==============================] - 17s 499ms/step - loss: 0.1123 - acc: 0.9714 - val_loss: 0.3643 - val_acc: 0.9333\n",
      "Epoch 109/120\n",
      "35/35 [==============================] - 18s 499ms/step - loss: 0.0886 - acc: 0.9729 - val_loss: 0.2703 - val_acc: 0.9458\n",
      "Epoch 110/120\n",
      "35/35 [==============================] - 17s 498ms/step - loss: 0.0495 - acc: 0.9843 - val_loss: 0.2336 - val_acc: 0.9583\n",
      "Epoch 111/120\n",
      "35/35 [==============================] - 17s 494ms/step - loss: 0.0542 - acc: 0.9729 - val_loss: 0.3731 - val_acc: 0.9417\n",
      "Epoch 112/120\n",
      "35/35 [==============================] - 18s 505ms/step - loss: 0.0577 - acc: 0.9829 - val_loss: 0.3155 - val_acc: 0.9667\n",
      "Epoch 113/120\n",
      "35/35 [==============================] - 18s 501ms/step - loss: 0.0719 - acc: 0.9786 - val_loss: 0.6576 - val_acc: 0.8208\n",
      "Epoch 114/120\n",
      "35/35 [==============================] - 18s 500ms/step - loss: 0.0654 - acc: 0.9786 - val_loss: 0.1925 - val_acc: 0.9458\n",
      "Epoch 115/120\n",
      "35/35 [==============================] - 17s 498ms/step - loss: 0.1261 - acc: 0.9714 - val_loss: 0.1381 - val_acc: 0.9417\n",
      "Epoch 116/120\n",
      "35/35 [==============================] - 18s 502ms/step - loss: 0.0504 - acc: 0.9886 - val_loss: 0.3643 - val_acc: 0.9292\n",
      "Epoch 117/120\n",
      "35/35 [==============================] - 17s 498ms/step - loss: 0.0596 - acc: 0.9829 - val_loss: 0.5326 - val_acc: 0.9292\n",
      "Epoch 118/120\n",
      "35/35 [==============================] - 17s 498ms/step - loss: 0.1619 - acc: 0.9729 - val_loss: 0.3068 - val_acc: 0.9500\n",
      "Epoch 119/120\n",
      "35/35 [==============================] - 17s 498ms/step - loss: 0.0470 - acc: 0.9829 - val_loss: 0.3882 - val_acc: 0.9500\n",
      "Epoch 120/120\n",
      "35/35 [==============================] - 18s 500ms/step - loss: 0.1002 - acc: 0.9857 - val_loss: 0.2400 - val_acc: 0.9542\n"
     ]
    }
   ],
   "source": [
    "history = model.fit(\n",
    "    train_generator,\n",
    "    batch_size=BATCH_SIZE,\n",
    "    epochs=120,\n",
    "    steps_per_epoch=700 / BATCH_SIZE,\n",
    "    validation_data=val_generator,\n",
    "    validation_steps=240 / BATCH_SIZE,\n",
    ")"
   ]
  },
  {
   "cell_type": "code",
   "execution_count": 11,
   "metadata": {},
   "outputs": [],
   "source": [
    "model.save('tom-and-jerry.h5')"
   ]
  },
  {
   "cell_type": "code",
   "execution_count": 12,
   "metadata": {
    "cellId": "ndv5c1r0zwmka39b9dl09"
   },
   "outputs": [
    {
     "data": {
      "text/plain": [
       "dict_keys(['loss', 'acc', 'val_loss', 'val_acc'])"
      ]
     },
     "execution_count": 12,
     "metadata": {},
     "output_type": "execute_result"
    }
   ],
   "source": [
    "history_dict = history.history\n",
    "history_dict.keys()"
   ]
  },
  {
   "cell_type": "code",
   "execution_count": 13,
   "metadata": {
    "cellId": "y39k4h2savsgwb5mfle9s"
   },
   "outputs": [],
   "source": [
    "acc = history_dict['acc']\n",
    "val_acc = history_dict['val_acc']\n",
    "\n",
    "loss = history_dict['loss']\n",
    "val_loss = history_dict['val_acc']\n",
    "\n",
    "epochs = range(len(acc))"
   ]
  },
  {
   "cell_type": "code",
   "execution_count": 14,
   "metadata": {
    "cellId": "h8g0c45jruogcs4mu9b7"
   },
   "outputs": [
    {
     "data": {
      "text/plain": [
       "<matplotlib.legend.Legend at 0x147592770>"
      ]
     },
     "execution_count": 14,
     "metadata": {},
     "output_type": "execute_result"
    },
    {
     "data": {
      "image/png": "[encoded data removed]",
      "text/plain": [
       "<Figure size 640x480 with 1 Axes>"
      ]
     },
     "metadata": {},
     "output_type": "display_data"
    }
   ],
   "source": [
    "plt.plot(epochs, acc, label='Train acc')\n",
    "plt.plot(epochs, val_acc, label='Test acc')\n",
    "plt.legend()"
   ]
  },
  {
   "cell_type": "code",
   "execution_count": 15,
   "metadata": {
    "cellId": "advlzxtfxrsrl3u5i47aj"
   },
   "outputs": [
    {
     "data": {
      "text/plain": [
       "<matplotlib.legend.Legend at 0x1482839d0>"
      ]
     },
     "execution_count": 15,
     "metadata": {},
     "output_type": "execute_result"
    },
    {
     "data": {
      "image/png": "[encoded data removed]",
      "text/plain": [
       "<Figure size 640x480 with 1 Axes>"
      ]
     },
     "metadata": {},
     "output_type": "display_data"
    }
   ],
   "source": [
    "plt.plot(epochs, loss, label='Train loss')\n",
    "plt.plot(epochs, val_loss, label='Test loss')\n",
    "plt.legend()"
   ]
  },
  {
   "cell_type": "markdown",
   "metadata": {},
   "source": [
    "## Финальное обучение"
   ]
  },
  {
   "cell_type": "code",
   "execution_count": 22,
   "metadata": {},
   "outputs": [],
   "source": [
    "model = create_model()"
   ]
  },
  {
   "cell_type": "code",
   "execution_count": 23,
   "metadata": {},
   "outputs": [
    {
     "name": "stdout",
     "output_type": "stream",
     "text": [
      "Epoch 1/60\n",
      "35/35 [==============================] - 17s 471ms/step - loss: 0.7859 - acc: 0.5614\n",
      "Epoch 2/60\n",
      "35/35 [==============================] - 17s 479ms/step - loss: 0.6856 - acc: 0.5843\n",
      "Epoch 3/60\n",
      "35/35 [==============================] - 17s 488ms/step - loss: 0.6469 - acc: 0.6529\n",
      "Epoch 4/60\n",
      "35/35 [==============================] - 17s 491ms/step - loss: 0.5877 - acc: 0.6957\n",
      "Epoch 5/60\n",
      "35/35 [==============================] - 16s 455ms/step - loss: 0.5770 - acc: 0.7100\n",
      "Epoch 6/60\n",
      "35/35 [==============================] - 16s 444ms/step - loss: 0.5188 - acc: 0.7400\n",
      "Epoch 7/60\n",
      "35/35 [==============================] - 16s 439ms/step - loss: 0.5056 - acc: 0.7557\n",
      "Epoch 8/60\n",
      "35/35 [==============================] - 16s 444ms/step - loss: 0.4867 - acc: 0.7786\n",
      "Epoch 9/60\n",
      "35/35 [==============================] - 18s 510ms/step - loss: 0.4268 - acc: 0.8114\n",
      "Epoch 10/60\n",
      "35/35 [==============================] - 16s 462ms/step - loss: 0.4175 - acc: 0.8071\n",
      "Epoch 11/60\n",
      "35/35 [==============================] - 16s 464ms/step - loss: 0.3918 - acc: 0.8243\n",
      "Epoch 12/60\n",
      "35/35 [==============================] - 17s 471ms/step - loss: 0.3920 - acc: 0.8414\n",
      "Epoch 13/60\n",
      "35/35 [==============================] - 17s 468ms/step - loss: 0.3607 - acc: 0.8471\n",
      "Epoch 14/60\n",
      "35/35 [==============================] - 16s 466ms/step - loss: 0.3483 - acc: 0.8514\n",
      "Epoch 15/60\n",
      "35/35 [==============================] - 17s 473ms/step - loss: 0.3310 - acc: 0.8729\n",
      "Epoch 16/60\n",
      "35/35 [==============================] - 17s 468ms/step - loss: 0.2966 - acc: 0.8800\n",
      "Epoch 17/60\n",
      "35/35 [==============================] - 17s 486ms/step - loss: 0.3139 - acc: 0.8786\n",
      "Epoch 18/60\n",
      "35/35 [==============================] - 17s 486ms/step - loss: 0.2848 - acc: 0.8886\n",
      "Epoch 19/60\n",
      "35/35 [==============================] - 17s 484ms/step - loss: 0.2885 - acc: 0.8871\n",
      "Epoch 20/60\n",
      "35/35 [==============================] - 17s 468ms/step - loss: 0.2778 - acc: 0.8843\n",
      "Epoch 21/60\n",
      "35/35 [==============================] - 17s 470ms/step - loss: 0.2293 - acc: 0.9086\n",
      "Epoch 22/60\n",
      "35/35 [==============================] - 17s 468ms/step - loss: 0.2254 - acc: 0.9143\n",
      "Epoch 23/60\n",
      "35/35 [==============================] - 16s 465ms/step - loss: 0.2323 - acc: 0.9029\n",
      "Epoch 24/60\n",
      "35/35 [==============================] - 16s 464ms/step - loss: 0.2392 - acc: 0.9143\n",
      "Epoch 25/60\n",
      "35/35 [==============================] - 17s 479ms/step - loss: 0.2415 - acc: 0.9086\n",
      "Epoch 26/60\n",
      "35/35 [==============================] - 17s 471ms/step - loss: 0.2291 - acc: 0.9100\n",
      "Epoch 27/60\n",
      "35/35 [==============================] - 16s 467ms/step - loss: 0.2018 - acc: 0.9243\n",
      "Epoch 28/60\n",
      "35/35 [==============================] - 17s 474ms/step - loss: 0.2077 - acc: 0.9257\n",
      "Epoch 29/60\n",
      "35/35 [==============================] - 19s 528ms/step - loss: 0.1901 - acc: 0.9271\n",
      "Epoch 30/60\n",
      "35/35 [==============================] - 20s 582ms/step - loss: 0.1743 - acc: 0.9343\n",
      "Epoch 31/60\n",
      "35/35 [==============================] - 18s 497ms/step - loss: 0.1761 - acc: 0.9257\n",
      "Epoch 32/60\n",
      "35/35 [==============================] - 20s 561ms/step - loss: 0.1664 - acc: 0.9414\n",
      "Epoch 33/60\n",
      "35/35 [==============================] - 17s 493ms/step - loss: 0.1897 - acc: 0.9357\n",
      "Epoch 34/60\n",
      "35/35 [==============================] - 17s 469ms/step - loss: 0.2050 - acc: 0.9343\n",
      "Epoch 35/60\n",
      "35/35 [==============================] - 16s 467ms/step - loss: 0.1444 - acc: 0.9457\n",
      "Epoch 36/60\n",
      "35/35 [==============================] - 17s 473ms/step - loss: 0.1420 - acc: 0.9443\n",
      "Epoch 37/60\n",
      "35/35 [==============================] - 17s 468ms/step - loss: 0.1729 - acc: 0.9471\n",
      "Epoch 38/60\n",
      "35/35 [==============================] - 17s 485ms/step - loss: 0.1547 - acc: 0.9514\n",
      "Epoch 39/60\n",
      "35/35 [==============================] - 18s 509ms/step - loss: 0.1432 - acc: 0.9443\n",
      "Epoch 40/60\n",
      "35/35 [==============================] - 18s 512ms/step - loss: 0.1352 - acc: 0.9557\n",
      "Epoch 41/60\n",
      "35/35 [==============================] - 17s 495ms/step - loss: 0.1506 - acc: 0.9486\n",
      "Epoch 42/60\n",
      "35/35 [==============================] - 17s 476ms/step - loss: 0.1779 - acc: 0.9471\n",
      "Epoch 43/60\n",
      "35/35 [==============================] - 17s 480ms/step - loss: 0.1515 - acc: 0.9443\n",
      "Epoch 44/60\n",
      "35/35 [==============================] - 17s 488ms/step - loss: 0.1307 - acc: 0.9500\n",
      "Epoch 45/60\n",
      "35/35 [==============================] - 17s 487ms/step - loss: 0.1555 - acc: 0.9386\n",
      "Epoch 46/60\n",
      "35/35 [==============================] - 17s 485ms/step - loss: 0.1325 - acc: 0.9443\n",
      "Epoch 47/60\n",
      "35/35 [==============================] - 17s 480ms/step - loss: 0.1500 - acc: 0.9514\n",
      "Epoch 48/60\n",
      "35/35 [==============================] - 17s 485ms/step - loss: 0.2070 - acc: 0.9443\n",
      "Epoch 49/60\n",
      "35/35 [==============================] - 17s 493ms/step - loss: 0.1201 - acc: 0.9543\n",
      "Epoch 50/60\n",
      "35/35 [==============================] - 19s 528ms/step - loss: 0.1394 - acc: 0.9486\n",
      "Epoch 51/60\n",
      "35/35 [==============================] - 19s 540ms/step - loss: 0.1100 - acc: 0.9657\n",
      "Epoch 52/60\n",
      "35/35 [==============================] - 17s 478ms/step - loss: 0.1068 - acc: 0.9629\n",
      "Epoch 53/60\n",
      "35/35 [==============================] - 17s 481ms/step - loss: 0.1439 - acc: 0.9557\n",
      "Epoch 54/60\n",
      "35/35 [==============================] - 17s 479ms/step - loss: 0.1185 - acc: 0.9571\n",
      "Epoch 55/60\n",
      "35/35 [==============================] - 17s 492ms/step - loss: 0.1460 - acc: 0.9429\n",
      "Epoch 56/60\n",
      "35/35 [==============================] - 17s 480ms/step - loss: 0.0970 - acc: 0.9629\n",
      "Epoch 57/60\n",
      "35/35 [==============================] - 17s 491ms/step - loss: 0.1221 - acc: 0.9571\n",
      "Epoch 58/60\n",
      "35/35 [==============================] - 17s 489ms/step - loss: 0.1254 - acc: 0.9571\n",
      "Epoch 59/60\n",
      "35/35 [==============================] - 17s 477ms/step - loss: 0.1257 - acc: 0.9543\n",
      "Epoch 60/60\n",
      "35/35 [==============================] - 18s 499ms/step - loss: 0.0755 - acc: 0.9700\n"
     ]
    }
   ],
   "source": [
    "history = model.fit(\n",
    "    train_generator,\n",
    "    batch_size=BATCH_SIZE,\n",
    "    epochs=60,\n",
    "    steps_per_epoch=700 / BATCH_SIZE\n",
    ")"
   ]
  },
  {
   "cell_type": "code",
   "execution_count": null,
   "metadata": {},
   "outputs": [
    {
     "name": "stdout",
     "output_type": "stream",
     "text": [
      "Epoch 1/60\n",
      "12/12 [==============================] - 7s 536ms/step - loss: 0.3575 - acc: 0.9042\n",
      "Epoch 2/60\n",
      "12/12 [==============================] - 6s 527ms/step - loss: 0.1330 - acc: 0.9667\n",
      "Epoch 3/60\n",
      "12/12 [==============================] - 6s 521ms/step - loss: 0.2041 - acc: 0.9167\n",
      "Epoch 4/60\n",
      "12/12 [==============================] - 6s 489ms/step - loss: 0.1601 - acc: 0.9417\n",
      "Epoch 5/60\n",
      "12/12 [==============================] - 6s 490ms/step - loss: 0.1608 - acc: 0.9542\n",
      "Epoch 6/60\n",
      "12/12 [==============================] - 6s 511ms/step - loss: 0.1099 - acc: 0.9500\n",
      "Epoch 7/60\n",
      "12/12 [==============================] - 6s 515ms/step - loss: 0.1743 - acc: 0.9333\n",
      "Epoch 8/60\n",
      "12/12 [==============================] - 6s 500ms/step - loss: 0.1303 - acc: 0.9667\n",
      "Epoch 9/60\n",
      "12/12 [==============================] - 6s 507ms/step - loss: 0.0842 - acc: 0.9667\n",
      "Epoch 10/60\n",
      "12/12 [==============================] - 7s 536ms/step - loss: 0.1325 - acc: 0.9458\n",
      "Epoch 11/60\n",
      "12/12 [==============================] - 6s 508ms/step - loss: 0.0548 - acc: 0.9833\n",
      "Epoch 12/60\n",
      "12/12 [==============================] - 6s 502ms/step - loss: 0.1427 - acc: 0.9458\n",
      "Epoch 13/60\n",
      "12/12 [==============================] - 6s 494ms/step - loss: 0.1274 - acc: 0.9417\n",
      "Epoch 14/60\n",
      "12/12 [==============================] - 6s 500ms/step - loss: 0.0455 - acc: 0.9875\n",
      "Epoch 15/60\n",
      "12/12 [==============================] - 6s 511ms/step - loss: 0.0609 - acc: 0.9792\n",
      "Epoch 16/60\n",
      "12/12 [==============================] - 6s 504ms/step - loss: 0.1189 - acc: 0.9458\n",
      "Epoch 17/60\n",
      "12/12 [==============================] - 6s 511ms/step - loss: 0.0813 - acc: 0.9708\n",
      "Epoch 18/60\n",
      "12/12 [==============================] - 6s 496ms/step - loss: 0.1411 - acc: 0.9542\n",
      "Epoch 19/60\n",
      "12/12 [==============================] - 6s 497ms/step - loss: 0.0749 - acc: 0.9708\n",
      "Epoch 20/60\n",
      "12/12 [==============================] - 6s 503ms/step - loss: 0.0744 - acc: 0.9750\n",
      "Epoch 21/60\n",
      "12/12 [==============================] - 6s 499ms/step - loss: 0.1154 - acc: 0.9583\n",
      "Epoch 22/60\n",
      "12/12 [==============================] - 6s 480ms/step - loss: 0.0396 - acc: 0.9875\n",
      "Epoch 23/60\n",
      "12/12 [==============================] - 6s 484ms/step - loss: 0.0409 - acc: 0.9875\n",
      "Epoch 24/60\n",
      "12/12 [==============================] - 6s 482ms/step - loss: 0.0859 - acc: 0.9625\n",
      "Epoch 25/60\n",
      "12/12 [==============================] - 6s 479ms/step - loss: 0.0998 - acc: 0.9708\n",
      "Epoch 26/60\n",
      "12/12 [==============================] - 6s 482ms/step - loss: 0.0372 - acc: 0.9833\n",
      "Epoch 27/60\n",
      "12/12 [==============================] - 6s 469ms/step - loss: 0.0312 - acc: 0.9917\n",
      "Epoch 28/60\n",
      "12/12 [==============================] - 6s 476ms/step - loss: 0.0464 - acc: 0.9875\n",
      "Epoch 29/60\n",
      "12/12 [==============================] - 6s 469ms/step - loss: 0.0705 - acc: 0.9708\n",
      "Epoch 30/60\n",
      "12/12 [==============================] - 6s 471ms/step - loss: 0.0392 - acc: 0.9833\n",
      "Epoch 31/60\n",
      "12/12 [==============================] - 6s 470ms/step - loss: 0.0162 - acc: 0.9917\n",
      "Epoch 32/60\n",
      "12/12 [==============================] - 6s 485ms/step - loss: 0.1261 - acc: 0.9833\n",
      "Epoch 33/60\n",
      "12/12 [==============================] - 6s 476ms/step - loss: 0.0648 - acc: 0.9875\n",
      "Epoch 34/60\n",
      "12/12 [==============================] - 6s 498ms/step - loss: 0.0276 - acc: 0.9833\n",
      "Epoch 35/60\n",
      "12/12 [==============================] - 6s 491ms/step - loss: 0.1971 - acc: 0.9417\n",
      "Epoch 36/60\n",
      "12/12 [==============================] - 6s 487ms/step - loss: 0.0146 - acc: 0.9958\n",
      "Epoch 37/60\n",
      "12/12 [==============================] - 6s 488ms/step - loss: 0.0838 - acc: 0.9750\n",
      "Epoch 38/60\n",
      "12/12 [==============================] - 6s 494ms/step - loss: 0.0048 - acc: 1.0000\n",
      "Epoch 39/60\n",
      "12/12 [==============================] - 6s 492ms/step - loss: 0.2057 - acc: 0.9500\n",
      "Epoch 40/60\n",
      "12/12 [==============================] - 6s 496ms/step - loss: 0.0323 - acc: 0.9917\n",
      "Epoch 41/60\n",
      "12/12 [==============================] - 6s 512ms/step - loss: 0.0666 - acc: 0.9708\n",
      "Epoch 42/60\n",
      "12/12 [==============================] - 6s 493ms/step - loss: 0.0124 - acc: 0.9958\n",
      "Epoch 43/60\n",
      "12/12 [==============================] - 6s 491ms/step - loss: 0.0591 - acc: 0.9792\n",
      "Epoch 44/60\n",
      "12/12 [==============================] - 6s 496ms/step - loss: 0.0388 - acc: 0.9833\n",
      "Epoch 45/60\n",
      "12/12 [==============================] - 6s 498ms/step - loss: 0.0116 - acc: 0.9958\n",
      "Epoch 46/60\n",
      "12/12 [==============================] - 6s 500ms/step - loss: 0.1296 - acc: 0.9583\n",
      "Epoch 47/60\n",
      "12/12 [==============================] - 6s 516ms/step - loss: 0.0443 - acc: 0.9875\n",
      "Epoch 48/60\n",
      "12/12 [==============================] - 6s 505ms/step - loss: 0.0210 - acc: 0.9958\n",
      "Epoch 49/60\n",
      "12/12 [==============================] - 6s 506ms/step - loss: 0.0380 - acc: 0.9833\n",
      "Epoch 50/60\n",
      "12/12 [==============================] - 6s 507ms/step - loss: 0.0311 - acc: 0.9917\n",
      "Epoch 51/60\n",
      " 7/12 [================>.............] - ETA: 2s - loss: 0.0018 - acc: 1.0000 "
     ]
    }
   ],
   "source": [
    "history1 = model.fit(\n",
    "    val_generator,\n",
    "    batch_size=BATCH_SIZE,\n",
    "    epochs=60,\n",
    "    steps_per_epoch=240 / BATCH_SIZE\n",
    ")"
   ]
  },
  {
   "cell_type": "code",
   "execution_count": null,
   "metadata": {},
   "outputs": [],
   "source": []
  }
 ],
 "metadata": {
  "kernelspec": {
   "display_name": "Python 3 (ipykernel)",
   "language": "python",
   "name": "python3"
  },
  "language_info": {
   "codemirror_mode": {
    "name": "ipython",
    "version": 3
   },
   "file_extension": ".py",
   "mimetype": "text/x-python",
   "name": "python",
   "nbconvert_exporter": "python",
   "pygments_lexer": "ipython3",
   "version": "3.10.6"
  },
  "vscode": {
   "interpreter": {
    "hash": "aee8b7b246df8f9039afb4144a1f6fd8d2ca17a180786b69acc140d282b71a49"
   }
  }
 },
 "nbformat": 4,
 "nbformat_minor": 4
}
